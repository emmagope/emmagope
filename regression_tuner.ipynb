{
  "cells": [
    {
      "cell_type": "markdown",
      "metadata": {
        "id": "view-in-github",
        "colab_type": "text"
      },
      "source": [
        "<a href=\"https://colab.research.google.com/github/emmagope/emmagope/blob/main/regression_tuner.ipynb\" target=\"_parent\"><img src=\"https://colab.research.google.com/assets/colab-badge.svg\" alt=\"Open In Colab\"/></a>"
      ]
    },
    {
      "cell_type": "markdown",
      "id": "5f310246",
      "metadata": {
        "id": "5f310246"
      },
      "source": [
        "It is highly recommended to use a powerful **GPU**, you can use it for free uploading this notebook to [Google Colab](https://colab.research.google.com/notebooks/intro.ipynb).\n",
        "<table align=\"center\">\n",
        " <td align=\"center\"><a target=\"_blank\" href=\"https://colab.research.google.com/github/ezponda/intro_deep_learning/blob/main/class/Fundamentals/Regression_tuner.ipynb\">\n",
        "        <img src=\"https://colab.research.google.com/img/colab_favicon_256px.png\"  width=\"50\" height=\"50\" style=\"padding-bottom:5px;\" />Run in Google Colab</a></td>\n",
        "  <td align=\"center\"><a target=\"_blank\" href=\"https://github.com/ezponda/intro_deep_learning/blob/main/class/Fundamentals/Regression_tuner.ipynb\">\n",
        "        <img src=\"https://github.githubassets.com/images/modules/logos_page/GitHub-Mark.png\"  width=\"50\" height=\"50\" style=\"padding-bottom:5px;\" />View Source on GitHub</a></td>\n",
        "</table>"
      ]
    },
    {
      "cell_type": "code",
      "execution_count": null,
      "id": "2360c95e",
      "metadata": {
        "id": "2360c95e"
      },
      "outputs": [],
      "source": [
        "import tensorflow as tf\n",
        "from tensorflow import keras\n",
        "from tensorflow.keras import layers\n",
        "import pandas as pd\n",
        "tf.keras.utils.set_random_seed(0)"
      ]
    },
    {
      "cell_type": "markdown",
      "id": "b45e3013",
      "metadata": {
        "id": "b45e3013"
      },
      "source": [
        "# Abalone Dataset\n",
        "\n",
        "Abalones are marine snails that can be found along coasts of almost every continent.\n",
        "\n",
        "<img src=\"https://upload.wikimedia.org/wikipedia/commons/thumb/0/0b/AbaloneInside.jpg/440px-AbaloneInside.jpg\" alt=\"abalone\" border=\"0\" width=\"400\" height=\"500\">\n",
        "\n",
        "\n",
        "\n",
        "In this notebook we are going to Predict the age of abalone from physical measurements. [Link to documentation](https://archive.ics.uci.edu/ml/datasets/abalone)."
      ]
    },
    {
      "cell_type": "code",
      "execution_count": null,
      "id": "801c6c84",
      "metadata": {
        "scrolled": true,
        "colab": {
          "base_uri": "https://localhost:8080/",
          "height": 206
        },
        "id": "801c6c84",
        "outputId": "e7ede047-12d4-48fe-a913-635aea96bbb7"
      },
      "outputs": [
        {
          "output_type": "execute_result",
          "data": {
            "text/plain": [
              "   Length  Diameter  Height  Whole weight  Shucked weight  Viscera weight  \\\n",
              "0   0.435     0.335   0.110         0.334          0.1355          0.0775   \n",
              "1   0.585     0.450   0.125         0.874          0.3545          0.2075   \n",
              "2   0.655     0.510   0.160         1.092          0.3960          0.2825   \n",
              "3   0.545     0.425   0.125         0.768          0.2940          0.1495   \n",
              "4   0.545     0.420   0.130         0.879          0.3740          0.1695   \n",
              "\n",
              "   Shell weight  Age  \n",
              "0        0.0965    7  \n",
              "1        0.2250    6  \n",
              "2        0.3700   14  \n",
              "3        0.2600   16  \n",
              "4        0.2300   13  "
            ],
            "text/html": [
              "\n",
              "  <div id=\"df-521cfe93-2122-4871-9161-313a8f758015\" class=\"colab-df-container\">\n",
              "    <div>\n",
              "<style scoped>\n",
              "    .dataframe tbody tr th:only-of-type {\n",
              "        vertical-align: middle;\n",
              "    }\n",
              "\n",
              "    .dataframe tbody tr th {\n",
              "        vertical-align: top;\n",
              "    }\n",
              "\n",
              "    .dataframe thead th {\n",
              "        text-align: right;\n",
              "    }\n",
              "</style>\n",
              "<table border=\"1\" class=\"dataframe\">\n",
              "  <thead>\n",
              "    <tr style=\"text-align: right;\">\n",
              "      <th></th>\n",
              "      <th>Length</th>\n",
              "      <th>Diameter</th>\n",
              "      <th>Height</th>\n",
              "      <th>Whole weight</th>\n",
              "      <th>Shucked weight</th>\n",
              "      <th>Viscera weight</th>\n",
              "      <th>Shell weight</th>\n",
              "      <th>Age</th>\n",
              "    </tr>\n",
              "  </thead>\n",
              "  <tbody>\n",
              "    <tr>\n",
              "      <th>0</th>\n",
              "      <td>0.435</td>\n",
              "      <td>0.335</td>\n",
              "      <td>0.110</td>\n",
              "      <td>0.334</td>\n",
              "      <td>0.1355</td>\n",
              "      <td>0.0775</td>\n",
              "      <td>0.0965</td>\n",
              "      <td>7</td>\n",
              "    </tr>\n",
              "    <tr>\n",
              "      <th>1</th>\n",
              "      <td>0.585</td>\n",
              "      <td>0.450</td>\n",
              "      <td>0.125</td>\n",
              "      <td>0.874</td>\n",
              "      <td>0.3545</td>\n",
              "      <td>0.2075</td>\n",
              "      <td>0.2250</td>\n",
              "      <td>6</td>\n",
              "    </tr>\n",
              "    <tr>\n",
              "      <th>2</th>\n",
              "      <td>0.655</td>\n",
              "      <td>0.510</td>\n",
              "      <td>0.160</td>\n",
              "      <td>1.092</td>\n",
              "      <td>0.3960</td>\n",
              "      <td>0.2825</td>\n",
              "      <td>0.3700</td>\n",
              "      <td>14</td>\n",
              "    </tr>\n",
              "    <tr>\n",
              "      <th>3</th>\n",
              "      <td>0.545</td>\n",
              "      <td>0.425</td>\n",
              "      <td>0.125</td>\n",
              "      <td>0.768</td>\n",
              "      <td>0.2940</td>\n",
              "      <td>0.1495</td>\n",
              "      <td>0.2600</td>\n",
              "      <td>16</td>\n",
              "    </tr>\n",
              "    <tr>\n",
              "      <th>4</th>\n",
              "      <td>0.545</td>\n",
              "      <td>0.420</td>\n",
              "      <td>0.130</td>\n",
              "      <td>0.879</td>\n",
              "      <td>0.3740</td>\n",
              "      <td>0.1695</td>\n",
              "      <td>0.2300</td>\n",
              "      <td>13</td>\n",
              "    </tr>\n",
              "  </tbody>\n",
              "</table>\n",
              "</div>\n",
              "    <div class=\"colab-df-buttons\">\n",
              "\n",
              "  <div class=\"colab-df-container\">\n",
              "    <button class=\"colab-df-convert\" onclick=\"convertToInteractive('df-521cfe93-2122-4871-9161-313a8f758015')\"\n",
              "            title=\"Convert this dataframe to an interactive table.\"\n",
              "            style=\"display:none;\">\n",
              "\n",
              "  <svg xmlns=\"http://www.w3.org/2000/svg\" height=\"24px\" viewBox=\"0 -960 960 960\">\n",
              "    <path d=\"M120-120v-720h720v720H120Zm60-500h600v-160H180v160Zm220 220h160v-160H400v160Zm0 220h160v-160H400v160ZM180-400h160v-160H180v160Zm440 0h160v-160H620v160ZM180-180h160v-160H180v160Zm440 0h160v-160H620v160Z\"/>\n",
              "  </svg>\n",
              "    </button>\n",
              "\n",
              "  <style>\n",
              "    .colab-df-container {\n",
              "      display:flex;\n",
              "      gap: 12px;\n",
              "    }\n",
              "\n",
              "    .colab-df-convert {\n",
              "      background-color: #E8F0FE;\n",
              "      border: none;\n",
              "      border-radius: 50%;\n",
              "      cursor: pointer;\n",
              "      display: none;\n",
              "      fill: #1967D2;\n",
              "      height: 32px;\n",
              "      padding: 0 0 0 0;\n",
              "      width: 32px;\n",
              "    }\n",
              "\n",
              "    .colab-df-convert:hover {\n",
              "      background-color: #E2EBFA;\n",
              "      box-shadow: 0px 1px 2px rgba(60, 64, 67, 0.3), 0px 1px 3px 1px rgba(60, 64, 67, 0.15);\n",
              "      fill: #174EA6;\n",
              "    }\n",
              "\n",
              "    .colab-df-buttons div {\n",
              "      margin-bottom: 4px;\n",
              "    }\n",
              "\n",
              "    [theme=dark] .colab-df-convert {\n",
              "      background-color: #3B4455;\n",
              "      fill: #D2E3FC;\n",
              "    }\n",
              "\n",
              "    [theme=dark] .colab-df-convert:hover {\n",
              "      background-color: #434B5C;\n",
              "      box-shadow: 0px 1px 3px 1px rgba(0, 0, 0, 0.15);\n",
              "      filter: drop-shadow(0px 1px 2px rgba(0, 0, 0, 0.3));\n",
              "      fill: #FFFFFF;\n",
              "    }\n",
              "  </style>\n",
              "\n",
              "    <script>\n",
              "      const buttonEl =\n",
              "        document.querySelector('#df-521cfe93-2122-4871-9161-313a8f758015 button.colab-df-convert');\n",
              "      buttonEl.style.display =\n",
              "        google.colab.kernel.accessAllowed ? 'block' : 'none';\n",
              "\n",
              "      async function convertToInteractive(key) {\n",
              "        const element = document.querySelector('#df-521cfe93-2122-4871-9161-313a8f758015');\n",
              "        const dataTable =\n",
              "          await google.colab.kernel.invokeFunction('convertToInteractive',\n",
              "                                                    [key], {});\n",
              "        if (!dataTable) return;\n",
              "\n",
              "        const docLinkHtml = 'Like what you see? Visit the ' +\n",
              "          '<a target=\"_blank\" href=https://colab.research.google.com/notebooks/data_table.ipynb>data table notebook</a>'\n",
              "          + ' to learn more about interactive tables.';\n",
              "        element.innerHTML = '';\n",
              "        dataTable['output_type'] = 'display_data';\n",
              "        await google.colab.output.renderOutput(dataTable, element);\n",
              "        const docLink = document.createElement('div');\n",
              "        docLink.innerHTML = docLinkHtml;\n",
              "        element.appendChild(docLink);\n",
              "      }\n",
              "    </script>\n",
              "  </div>\n",
              "\n",
              "\n",
              "    <div id=\"df-b6c8202f-7f88-4bb7-a16d-4f0303d8f209\">\n",
              "      <button class=\"colab-df-quickchart\" onclick=\"quickchart('df-b6c8202f-7f88-4bb7-a16d-4f0303d8f209')\"\n",
              "                title=\"Suggest charts\"\n",
              "                style=\"display:none;\">\n",
              "\n",
              "<svg xmlns=\"http://www.w3.org/2000/svg\" height=\"24px\"viewBox=\"0 0 24 24\"\n",
              "     width=\"24px\">\n",
              "    <g>\n",
              "        <path d=\"M19 3H5c-1.1 0-2 .9-2 2v14c0 1.1.9 2 2 2h14c1.1 0 2-.9 2-2V5c0-1.1-.9-2-2-2zM9 17H7v-7h2v7zm4 0h-2V7h2v10zm4 0h-2v-4h2v4z\"/>\n",
              "    </g>\n",
              "</svg>\n",
              "      </button>\n",
              "\n",
              "<style>\n",
              "  .colab-df-quickchart {\n",
              "      --bg-color: #E8F0FE;\n",
              "      --fill-color: #1967D2;\n",
              "      --hover-bg-color: #E2EBFA;\n",
              "      --hover-fill-color: #174EA6;\n",
              "      --disabled-fill-color: #AAA;\n",
              "      --disabled-bg-color: #DDD;\n",
              "  }\n",
              "\n",
              "  [theme=dark] .colab-df-quickchart {\n",
              "      --bg-color: #3B4455;\n",
              "      --fill-color: #D2E3FC;\n",
              "      --hover-bg-color: #434B5C;\n",
              "      --hover-fill-color: #FFFFFF;\n",
              "      --disabled-bg-color: #3B4455;\n",
              "      --disabled-fill-color: #666;\n",
              "  }\n",
              "\n",
              "  .colab-df-quickchart {\n",
              "    background-color: var(--bg-color);\n",
              "    border: none;\n",
              "    border-radius: 50%;\n",
              "    cursor: pointer;\n",
              "    display: none;\n",
              "    fill: var(--fill-color);\n",
              "    height: 32px;\n",
              "    padding: 0;\n",
              "    width: 32px;\n",
              "  }\n",
              "\n",
              "  .colab-df-quickchart:hover {\n",
              "    background-color: var(--hover-bg-color);\n",
              "    box-shadow: 0 1px 2px rgba(60, 64, 67, 0.3), 0 1px 3px 1px rgba(60, 64, 67, 0.15);\n",
              "    fill: var(--button-hover-fill-color);\n",
              "  }\n",
              "\n",
              "  .colab-df-quickchart-complete:disabled,\n",
              "  .colab-df-quickchart-complete:disabled:hover {\n",
              "    background-color: var(--disabled-bg-color);\n",
              "    fill: var(--disabled-fill-color);\n",
              "    box-shadow: none;\n",
              "  }\n",
              "\n",
              "  .colab-df-spinner {\n",
              "    border: 2px solid var(--fill-color);\n",
              "    border-color: transparent;\n",
              "    border-bottom-color: var(--fill-color);\n",
              "    animation:\n",
              "      spin 1s steps(1) infinite;\n",
              "  }\n",
              "\n",
              "  @keyframes spin {\n",
              "    0% {\n",
              "      border-color: transparent;\n",
              "      border-bottom-color: var(--fill-color);\n",
              "      border-left-color: var(--fill-color);\n",
              "    }\n",
              "    20% {\n",
              "      border-color: transparent;\n",
              "      border-left-color: var(--fill-color);\n",
              "      border-top-color: var(--fill-color);\n",
              "    }\n",
              "    30% {\n",
              "      border-color: transparent;\n",
              "      border-left-color: var(--fill-color);\n",
              "      border-top-color: var(--fill-color);\n",
              "      border-right-color: var(--fill-color);\n",
              "    }\n",
              "    40% {\n",
              "      border-color: transparent;\n",
              "      border-right-color: var(--fill-color);\n",
              "      border-top-color: var(--fill-color);\n",
              "    }\n",
              "    60% {\n",
              "      border-color: transparent;\n",
              "      border-right-color: var(--fill-color);\n",
              "    }\n",
              "    80% {\n",
              "      border-color: transparent;\n",
              "      border-right-color: var(--fill-color);\n",
              "      border-bottom-color: var(--fill-color);\n",
              "    }\n",
              "    90% {\n",
              "      border-color: transparent;\n",
              "      border-bottom-color: var(--fill-color);\n",
              "    }\n",
              "  }\n",
              "</style>\n",
              "\n",
              "      <script>\n",
              "        async function quickchart(key) {\n",
              "          const quickchartButtonEl =\n",
              "            document.querySelector('#' + key + ' button');\n",
              "          quickchartButtonEl.disabled = true;  // To prevent multiple clicks.\n",
              "          quickchartButtonEl.classList.add('colab-df-spinner');\n",
              "          try {\n",
              "            const charts = await google.colab.kernel.invokeFunction(\n",
              "                'suggestCharts', [key], {});\n",
              "          } catch (error) {\n",
              "            console.error('Error during call to suggestCharts:', error);\n",
              "          }\n",
              "          quickchartButtonEl.classList.remove('colab-df-spinner');\n",
              "          quickchartButtonEl.classList.add('colab-df-quickchart-complete');\n",
              "        }\n",
              "        (() => {\n",
              "          let quickchartButtonEl =\n",
              "            document.querySelector('#df-b6c8202f-7f88-4bb7-a16d-4f0303d8f209 button');\n",
              "          quickchartButtonEl.style.display =\n",
              "            google.colab.kernel.accessAllowed ? 'block' : 'none';\n",
              "        })();\n",
              "      </script>\n",
              "    </div>\n",
              "\n",
              "    </div>\n",
              "  </div>\n"
            ],
            "application/vnd.google.colaboratory.intrinsic+json": {
              "type": "dataframe",
              "variable_name": "df_train",
              "summary": "{\n  \"name\": \"df_train\",\n  \"rows\": 3320,\n  \"fields\": [\n    {\n      \"column\": \"Length\",\n      \"properties\": {\n        \"dtype\": \"number\",\n        \"std\": 0.12116373129783752,\n        \"min\": 0.075,\n        \"max\": 0.815,\n        \"num_unique_values\": 132,\n        \"samples\": [\n          0.64,\n          0.26,\n          0.575\n        ],\n        \"semantic_type\": \"\",\n        \"description\": \"\"\n      }\n    },\n    {\n      \"column\": \"Diameter\",\n      \"properties\": {\n        \"dtype\": \"number\",\n        \"std\": 0.1001199358725016,\n        \"min\": 0.055,\n        \"max\": 0.65,\n        \"num_unique_values\": 110,\n        \"samples\": [\n          0.23,\n          0.3,\n          0.42\n        ],\n        \"semantic_type\": \"\",\n        \"description\": \"\"\n      }\n    },\n    {\n      \"column\": \"Height\",\n      \"properties\": {\n        \"dtype\": \"number\",\n        \"std\": 0.042708242545774135,\n        \"min\": 0.0,\n        \"max\": 1.13,\n        \"num_unique_values\": 51,\n        \"samples\": [\n          0.22,\n          0.04,\n          0.015\n        ],\n        \"semantic_type\": \"\",\n        \"description\": \"\"\n      }\n    },\n    {\n      \"column\": \"Whole weight\",\n      \"properties\": {\n        \"dtype\": \"number\",\n        \"std\": 0.49118197923811296,\n        \"min\": 0.002,\n        \"max\": 2.8255,\n        \"num_unique_values\": 2145,\n        \"samples\": [\n          1.145,\n          0.499,\n          0.9415\n        ],\n        \"semantic_type\": \"\",\n        \"description\": \"\"\n      }\n    },\n    {\n      \"column\": \"Shucked weight\",\n      \"properties\": {\n        \"dtype\": \"number\",\n        \"std\": 0.22222323442145436,\n        \"min\": 0.001,\n        \"max\": 1.488,\n        \"num_unique_values\": 1409,\n        \"samples\": [\n          0.13,\n          0.4,\n          0.214\n        ],\n        \"semantic_type\": \"\",\n        \"description\": \"\"\n      }\n    },\n    {\n      \"column\": \"Viscera weight\",\n      \"properties\": {\n        \"dtype\": \"number\",\n        \"std\": 0.1101817715893136,\n        \"min\": 0.0005,\n        \"max\": 0.76,\n        \"num_unique_values\": 845,\n        \"samples\": [\n          0.097,\n          0.071,\n          0.541\n        ],\n        \"semantic_type\": \"\",\n        \"description\": \"\"\n      }\n    },\n    {\n      \"column\": \"Shell weight\",\n      \"properties\": {\n        \"dtype\": \"number\",\n        \"std\": 0.14026098949905869,\n        \"min\": 0.0015,\n        \"max\": 1.005,\n        \"num_unique_values\": 855,\n        \"samples\": [\n          0.3045,\n          0.1255,\n          0.2035\n        ],\n        \"semantic_type\": \"\",\n        \"description\": \"\"\n      }\n    },\n    {\n      \"column\": \"Age\",\n      \"properties\": {\n        \"dtype\": \"number\",\n        \"std\": 3,\n        \"min\": 1,\n        \"max\": 27,\n        \"num_unique_values\": 26,\n        \"samples\": [\n          12,\n          4,\n          7\n        ],\n        \"semantic_type\": \"\",\n        \"description\": \"\"\n      }\n    }\n  ]\n}"
            }
          },
          "metadata": {},
          "execution_count": 2
        }
      ],
      "source": [
        "df_train = pd.read_csv(\n",
        "    \"https://storage.googleapis.com/download.tensorflow.org/data/abalone_train.csv\",\n",
        "    names=[\"Length\", \"Diameter\", \"Height\", \"Whole weight\", \"Shucked weight\",\n",
        "           \"Viscera weight\", \"Shell weight\", \"Age\"])\n",
        "df_train.head()"
      ]
    },
    {
      "cell_type": "code",
      "execution_count": null,
      "id": "9edcad0b",
      "metadata": {
        "colab": {
          "base_uri": "https://localhost:8080/",
          "height": 300
        },
        "id": "9edcad0b",
        "outputId": "080b6f32-670f-48aa-e294-8fd5bb876eb0"
      },
      "outputs": [
        {
          "output_type": "execute_result",
          "data": {
            "text/plain": [
              "            Length     Diameter       Height  Whole weight  Shucked weight  \\\n",
              "count  3320.000000  3320.000000  3320.000000   3320.000000     3320.000000   \n",
              "mean      0.522693     0.406575     0.139271      0.824734        0.357705   \n",
              "std       0.121164     0.100120     0.042708      0.491182        0.222223   \n",
              "min       0.075000     0.055000     0.000000      0.002000        0.001000   \n",
              "25%       0.450000     0.345000     0.115000      0.436375        0.181500   \n",
              "50%       0.540000     0.425000     0.140000      0.795250        0.335500   \n",
              "75%       0.615000     0.480000     0.165000      1.150000        0.504500   \n",
              "max       0.815000     0.650000     1.130000      2.825500        1.488000   \n",
              "\n",
              "       Viscera weight  Shell weight          Age  \n",
              "count     3320.000000   3320.000000  3320.000000  \n",
              "mean         0.180162      0.237921     9.896988  \n",
              "std          0.110182      0.140261     3.205654  \n",
              "min          0.000500      0.001500     1.000000  \n",
              "25%          0.092000      0.127375     8.000000  \n",
              "50%          0.170750      0.230000     9.000000  \n",
              "75%          0.253125      0.325000    11.000000  \n",
              "max          0.760000      1.005000    27.000000  "
            ],
            "text/html": [
              "\n",
              "  <div id=\"df-d6ff8327-68bf-42e5-8702-6daa0d2dc984\" class=\"colab-df-container\">\n",
              "    <div>\n",
              "<style scoped>\n",
              "    .dataframe tbody tr th:only-of-type {\n",
              "        vertical-align: middle;\n",
              "    }\n",
              "\n",
              "    .dataframe tbody tr th {\n",
              "        vertical-align: top;\n",
              "    }\n",
              "\n",
              "    .dataframe thead th {\n",
              "        text-align: right;\n",
              "    }\n",
              "</style>\n",
              "<table border=\"1\" class=\"dataframe\">\n",
              "  <thead>\n",
              "    <tr style=\"text-align: right;\">\n",
              "      <th></th>\n",
              "      <th>Length</th>\n",
              "      <th>Diameter</th>\n",
              "      <th>Height</th>\n",
              "      <th>Whole weight</th>\n",
              "      <th>Shucked weight</th>\n",
              "      <th>Viscera weight</th>\n",
              "      <th>Shell weight</th>\n",
              "      <th>Age</th>\n",
              "    </tr>\n",
              "  </thead>\n",
              "  <tbody>\n",
              "    <tr>\n",
              "      <th>count</th>\n",
              "      <td>3320.000000</td>\n",
              "      <td>3320.000000</td>\n",
              "      <td>3320.000000</td>\n",
              "      <td>3320.000000</td>\n",
              "      <td>3320.000000</td>\n",
              "      <td>3320.000000</td>\n",
              "      <td>3320.000000</td>\n",
              "      <td>3320.000000</td>\n",
              "    </tr>\n",
              "    <tr>\n",
              "      <th>mean</th>\n",
              "      <td>0.522693</td>\n",
              "      <td>0.406575</td>\n",
              "      <td>0.139271</td>\n",
              "      <td>0.824734</td>\n",
              "      <td>0.357705</td>\n",
              "      <td>0.180162</td>\n",
              "      <td>0.237921</td>\n",
              "      <td>9.896988</td>\n",
              "    </tr>\n",
              "    <tr>\n",
              "      <th>std</th>\n",
              "      <td>0.121164</td>\n",
              "      <td>0.100120</td>\n",
              "      <td>0.042708</td>\n",
              "      <td>0.491182</td>\n",
              "      <td>0.222223</td>\n",
              "      <td>0.110182</td>\n",
              "      <td>0.140261</td>\n",
              "      <td>3.205654</td>\n",
              "    </tr>\n",
              "    <tr>\n",
              "      <th>min</th>\n",
              "      <td>0.075000</td>\n",
              "      <td>0.055000</td>\n",
              "      <td>0.000000</td>\n",
              "      <td>0.002000</td>\n",
              "      <td>0.001000</td>\n",
              "      <td>0.000500</td>\n",
              "      <td>0.001500</td>\n",
              "      <td>1.000000</td>\n",
              "    </tr>\n",
              "    <tr>\n",
              "      <th>25%</th>\n",
              "      <td>0.450000</td>\n",
              "      <td>0.345000</td>\n",
              "      <td>0.115000</td>\n",
              "      <td>0.436375</td>\n",
              "      <td>0.181500</td>\n",
              "      <td>0.092000</td>\n",
              "      <td>0.127375</td>\n",
              "      <td>8.000000</td>\n",
              "    </tr>\n",
              "    <tr>\n",
              "      <th>50%</th>\n",
              "      <td>0.540000</td>\n",
              "      <td>0.425000</td>\n",
              "      <td>0.140000</td>\n",
              "      <td>0.795250</td>\n",
              "      <td>0.335500</td>\n",
              "      <td>0.170750</td>\n",
              "      <td>0.230000</td>\n",
              "      <td>9.000000</td>\n",
              "    </tr>\n",
              "    <tr>\n",
              "      <th>75%</th>\n",
              "      <td>0.615000</td>\n",
              "      <td>0.480000</td>\n",
              "      <td>0.165000</td>\n",
              "      <td>1.150000</td>\n",
              "      <td>0.504500</td>\n",
              "      <td>0.253125</td>\n",
              "      <td>0.325000</td>\n",
              "      <td>11.000000</td>\n",
              "    </tr>\n",
              "    <tr>\n",
              "      <th>max</th>\n",
              "      <td>0.815000</td>\n",
              "      <td>0.650000</td>\n",
              "      <td>1.130000</td>\n",
              "      <td>2.825500</td>\n",
              "      <td>1.488000</td>\n",
              "      <td>0.760000</td>\n",
              "      <td>1.005000</td>\n",
              "      <td>27.000000</td>\n",
              "    </tr>\n",
              "  </tbody>\n",
              "</table>\n",
              "</div>\n",
              "    <div class=\"colab-df-buttons\">\n",
              "\n",
              "  <div class=\"colab-df-container\">\n",
              "    <button class=\"colab-df-convert\" onclick=\"convertToInteractive('df-d6ff8327-68bf-42e5-8702-6daa0d2dc984')\"\n",
              "            title=\"Convert this dataframe to an interactive table.\"\n",
              "            style=\"display:none;\">\n",
              "\n",
              "  <svg xmlns=\"http://www.w3.org/2000/svg\" height=\"24px\" viewBox=\"0 -960 960 960\">\n",
              "    <path d=\"M120-120v-720h720v720H120Zm60-500h600v-160H180v160Zm220 220h160v-160H400v160Zm0 220h160v-160H400v160ZM180-400h160v-160H180v160Zm440 0h160v-160H620v160ZM180-180h160v-160H180v160Zm440 0h160v-160H620v160Z\"/>\n",
              "  </svg>\n",
              "    </button>\n",
              "\n",
              "  <style>\n",
              "    .colab-df-container {\n",
              "      display:flex;\n",
              "      gap: 12px;\n",
              "    }\n",
              "\n",
              "    .colab-df-convert {\n",
              "      background-color: #E8F0FE;\n",
              "      border: none;\n",
              "      border-radius: 50%;\n",
              "      cursor: pointer;\n",
              "      display: none;\n",
              "      fill: #1967D2;\n",
              "      height: 32px;\n",
              "      padding: 0 0 0 0;\n",
              "      width: 32px;\n",
              "    }\n",
              "\n",
              "    .colab-df-convert:hover {\n",
              "      background-color: #E2EBFA;\n",
              "      box-shadow: 0px 1px 2px rgba(60, 64, 67, 0.3), 0px 1px 3px 1px rgba(60, 64, 67, 0.15);\n",
              "      fill: #174EA6;\n",
              "    }\n",
              "\n",
              "    .colab-df-buttons div {\n",
              "      margin-bottom: 4px;\n",
              "    }\n",
              "\n",
              "    [theme=dark] .colab-df-convert {\n",
              "      background-color: #3B4455;\n",
              "      fill: #D2E3FC;\n",
              "    }\n",
              "\n",
              "    [theme=dark] .colab-df-convert:hover {\n",
              "      background-color: #434B5C;\n",
              "      box-shadow: 0px 1px 3px 1px rgba(0, 0, 0, 0.15);\n",
              "      filter: drop-shadow(0px 1px 2px rgba(0, 0, 0, 0.3));\n",
              "      fill: #FFFFFF;\n",
              "    }\n",
              "  </style>\n",
              "\n",
              "    <script>\n",
              "      const buttonEl =\n",
              "        document.querySelector('#df-d6ff8327-68bf-42e5-8702-6daa0d2dc984 button.colab-df-convert');\n",
              "      buttonEl.style.display =\n",
              "        google.colab.kernel.accessAllowed ? 'block' : 'none';\n",
              "\n",
              "      async function convertToInteractive(key) {\n",
              "        const element = document.querySelector('#df-d6ff8327-68bf-42e5-8702-6daa0d2dc984');\n",
              "        const dataTable =\n",
              "          await google.colab.kernel.invokeFunction('convertToInteractive',\n",
              "                                                    [key], {});\n",
              "        if (!dataTable) return;\n",
              "\n",
              "        const docLinkHtml = 'Like what you see? Visit the ' +\n",
              "          '<a target=\"_blank\" href=https://colab.research.google.com/notebooks/data_table.ipynb>data table notebook</a>'\n",
              "          + ' to learn more about interactive tables.';\n",
              "        element.innerHTML = '';\n",
              "        dataTable['output_type'] = 'display_data';\n",
              "        await google.colab.output.renderOutput(dataTable, element);\n",
              "        const docLink = document.createElement('div');\n",
              "        docLink.innerHTML = docLinkHtml;\n",
              "        element.appendChild(docLink);\n",
              "      }\n",
              "    </script>\n",
              "  </div>\n",
              "\n",
              "\n",
              "    <div id=\"df-224c336a-7cd1-4a93-9c70-ef5bf2124523\">\n",
              "      <button class=\"colab-df-quickchart\" onclick=\"quickchart('df-224c336a-7cd1-4a93-9c70-ef5bf2124523')\"\n",
              "                title=\"Suggest charts\"\n",
              "                style=\"display:none;\">\n",
              "\n",
              "<svg xmlns=\"http://www.w3.org/2000/svg\" height=\"24px\"viewBox=\"0 0 24 24\"\n",
              "     width=\"24px\">\n",
              "    <g>\n",
              "        <path d=\"M19 3H5c-1.1 0-2 .9-2 2v14c0 1.1.9 2 2 2h14c1.1 0 2-.9 2-2V5c0-1.1-.9-2-2-2zM9 17H7v-7h2v7zm4 0h-2V7h2v10zm4 0h-2v-4h2v4z\"/>\n",
              "    </g>\n",
              "</svg>\n",
              "      </button>\n",
              "\n",
              "<style>\n",
              "  .colab-df-quickchart {\n",
              "      --bg-color: #E8F0FE;\n",
              "      --fill-color: #1967D2;\n",
              "      --hover-bg-color: #E2EBFA;\n",
              "      --hover-fill-color: #174EA6;\n",
              "      --disabled-fill-color: #AAA;\n",
              "      --disabled-bg-color: #DDD;\n",
              "  }\n",
              "\n",
              "  [theme=dark] .colab-df-quickchart {\n",
              "      --bg-color: #3B4455;\n",
              "      --fill-color: #D2E3FC;\n",
              "      --hover-bg-color: #434B5C;\n",
              "      --hover-fill-color: #FFFFFF;\n",
              "      --disabled-bg-color: #3B4455;\n",
              "      --disabled-fill-color: #666;\n",
              "  }\n",
              "\n",
              "  .colab-df-quickchart {\n",
              "    background-color: var(--bg-color);\n",
              "    border: none;\n",
              "    border-radius: 50%;\n",
              "    cursor: pointer;\n",
              "    display: none;\n",
              "    fill: var(--fill-color);\n",
              "    height: 32px;\n",
              "    padding: 0;\n",
              "    width: 32px;\n",
              "  }\n",
              "\n",
              "  .colab-df-quickchart:hover {\n",
              "    background-color: var(--hover-bg-color);\n",
              "    box-shadow: 0 1px 2px rgba(60, 64, 67, 0.3), 0 1px 3px 1px rgba(60, 64, 67, 0.15);\n",
              "    fill: var(--button-hover-fill-color);\n",
              "  }\n",
              "\n",
              "  .colab-df-quickchart-complete:disabled,\n",
              "  .colab-df-quickchart-complete:disabled:hover {\n",
              "    background-color: var(--disabled-bg-color);\n",
              "    fill: var(--disabled-fill-color);\n",
              "    box-shadow: none;\n",
              "  }\n",
              "\n",
              "  .colab-df-spinner {\n",
              "    border: 2px solid var(--fill-color);\n",
              "    border-color: transparent;\n",
              "    border-bottom-color: var(--fill-color);\n",
              "    animation:\n",
              "      spin 1s steps(1) infinite;\n",
              "  }\n",
              "\n",
              "  @keyframes spin {\n",
              "    0% {\n",
              "      border-color: transparent;\n",
              "      border-bottom-color: var(--fill-color);\n",
              "      border-left-color: var(--fill-color);\n",
              "    }\n",
              "    20% {\n",
              "      border-color: transparent;\n",
              "      border-left-color: var(--fill-color);\n",
              "      border-top-color: var(--fill-color);\n",
              "    }\n",
              "    30% {\n",
              "      border-color: transparent;\n",
              "      border-left-color: var(--fill-color);\n",
              "      border-top-color: var(--fill-color);\n",
              "      border-right-color: var(--fill-color);\n",
              "    }\n",
              "    40% {\n",
              "      border-color: transparent;\n",
              "      border-right-color: var(--fill-color);\n",
              "      border-top-color: var(--fill-color);\n",
              "    }\n",
              "    60% {\n",
              "      border-color: transparent;\n",
              "      border-right-color: var(--fill-color);\n",
              "    }\n",
              "    80% {\n",
              "      border-color: transparent;\n",
              "      border-right-color: var(--fill-color);\n",
              "      border-bottom-color: var(--fill-color);\n",
              "    }\n",
              "    90% {\n",
              "      border-color: transparent;\n",
              "      border-bottom-color: var(--fill-color);\n",
              "    }\n",
              "  }\n",
              "</style>\n",
              "\n",
              "      <script>\n",
              "        async function quickchart(key) {\n",
              "          const quickchartButtonEl =\n",
              "            document.querySelector('#' + key + ' button');\n",
              "          quickchartButtonEl.disabled = true;  // To prevent multiple clicks.\n",
              "          quickchartButtonEl.classList.add('colab-df-spinner');\n",
              "          try {\n",
              "            const charts = await google.colab.kernel.invokeFunction(\n",
              "                'suggestCharts', [key], {});\n",
              "          } catch (error) {\n",
              "            console.error('Error during call to suggestCharts:', error);\n",
              "          }\n",
              "          quickchartButtonEl.classList.remove('colab-df-spinner');\n",
              "          quickchartButtonEl.classList.add('colab-df-quickchart-complete');\n",
              "        }\n",
              "        (() => {\n",
              "          let quickchartButtonEl =\n",
              "            document.querySelector('#df-224c336a-7cd1-4a93-9c70-ef5bf2124523 button');\n",
              "          quickchartButtonEl.style.display =\n",
              "            google.colab.kernel.accessAllowed ? 'block' : 'none';\n",
              "        })();\n",
              "      </script>\n",
              "    </div>\n",
              "\n",
              "    </div>\n",
              "  </div>\n"
            ],
            "application/vnd.google.colaboratory.intrinsic+json": {
              "type": "dataframe",
              "summary": "{\n  \"name\": \"df_train\",\n  \"rows\": 8,\n  \"fields\": [\n    {\n      \"column\": \"Length\",\n      \"properties\": {\n        \"dtype\": \"number\",\n        \"std\": 1173.6387462937578,\n        \"min\": 0.075,\n        \"max\": 3320.0,\n        \"num_unique_values\": 8,\n        \"samples\": [\n          0.5226927710843373,\n          0.54,\n          3320.0\n        ],\n        \"semantic_type\": \"\",\n        \"description\": \"\"\n      }\n    },\n    {\n      \"column\": \"Diameter\",\n      \"properties\": {\n        \"dtype\": \"number\",\n        \"std\": 1173.6729385238689,\n        \"min\": 0.055,\n        \"max\": 3320.0,\n        \"num_unique_values\": 8,\n        \"samples\": [\n          0.4065753012048193,\n          0.425,\n          3320.0\n        ],\n        \"semantic_type\": \"\",\n        \"description\": \"\"\n      }\n    },\n    {\n      \"column\": \"Height\",\n      \"properties\": {\n        \"dtype\": \"number\",\n        \"std\": 1173.7098351783097,\n        \"min\": 0.0,\n        \"max\": 3320.0,\n        \"num_unique_values\": 8,\n        \"samples\": [\n          0.1392710843373494,\n          0.14,\n          3320.0\n        ],\n        \"semantic_type\": \"\",\n        \"description\": \"\"\n      }\n    },\n    {\n      \"column\": \"Whole weight\",\n      \"properties\": {\n        \"dtype\": \"number\",\n        \"std\": 1173.4679948041755,\n        \"min\": 0.002,\n        \"max\": 3320.0,\n        \"num_unique_values\": 8,\n        \"samples\": [\n          0.8247344879518074,\n          0.79525,\n          3320.0\n        ],\n        \"semantic_type\": \"\",\n        \"description\": \"\"\n      }\n    },\n    {\n      \"column\": \"Shucked weight\",\n      \"properties\": {\n        \"dtype\": \"number\",\n        \"std\": 1173.641253444102,\n        \"min\": 0.001,\n        \"max\": 3320.0,\n        \"num_unique_values\": 8,\n        \"samples\": [\n          0.35770466867469874,\n          0.3355,\n          3320.0\n        ],\n        \"semantic_type\": \"\",\n        \"description\": \"\"\n      }\n    },\n    {\n      \"column\": \"Viscera weight\",\n      \"properties\": {\n        \"dtype\": \"number\",\n        \"std\": 1173.7181482484305,\n        \"min\": 0.0005,\n        \"max\": 3320.0,\n        \"num_unique_values\": 8,\n        \"samples\": [\n          0.1801617469879518,\n          0.17075,\n          3320.0\n        ],\n        \"semantic_type\": \"\",\n        \"description\": \"\"\n      }\n    },\n    {\n      \"column\": \"Shell weight\",\n      \"properties\": {\n        \"dtype\": \"number\",\n        \"std\": 1173.6928942426212,\n        \"min\": 0.0015,\n        \"max\": 3320.0,\n        \"num_unique_values\": 8,\n        \"samples\": [\n          0.2379206325301205,\n          0.23,\n          3320.0\n        ],\n        \"semantic_type\": \"\",\n        \"description\": \"\"\n      }\n    },\n    {\n      \"column\": \"Age\",\n      \"properties\": {\n        \"dtype\": \"number\",\n        \"std\": 1170.332805946877,\n        \"min\": 1.0,\n        \"max\": 3320.0,\n        \"num_unique_values\": 8,\n        \"samples\": [\n          9.89698795180723,\n          9.0,\n          3320.0\n        ],\n        \"semantic_type\": \"\",\n        \"description\": \"\"\n      }\n    }\n  ]\n}"
            }
          },
          "metadata": {},
          "execution_count": 3
        }
      ],
      "source": [
        "df_train.describe()"
      ]
    },
    {
      "cell_type": "code",
      "execution_count": null,
      "id": "3c554e97",
      "metadata": {
        "id": "3c554e97"
      },
      "outputs": [],
      "source": [
        "y_train = df_train.pop('Age')\n",
        "X_train = df_train.copy()"
      ]
    },
    {
      "cell_type": "code",
      "execution_count": null,
      "id": "fede61bd",
      "metadata": {
        "id": "fede61bd"
      },
      "outputs": [],
      "source": [
        "df_test = pd.read_csv(\n",
        "    \"https://storage.googleapis.com/download.tensorflow.org/data/abalone_test.csv\",\n",
        "    names=[\"Length\", \"Diameter\", \"Height\", \"Whole weight\", \"Shucked weight\",\n",
        "           \"Viscera weight\", \"Shell weight\", \"Age\"])\n",
        "y_test = df_test.pop('Age')\n",
        "X_test = df_test.copy()"
      ]
    },
    {
      "cell_type": "code",
      "execution_count": null,
      "id": "de841977",
      "metadata": {
        "colab": {
          "base_uri": "https://localhost:8080/"
        },
        "id": "de841977",
        "outputId": "9ca2ce69-98ea-4ecf-fa0e-805924d1b0f4"
      },
      "outputs": [
        {
          "output_type": "stream",
          "name": "stdout",
          "text": [
            "X_train shape: (3320, 7), X_test shape: (850, 7)\n"
          ]
        }
      ],
      "source": [
        "print(f'X_train shape: {X_train.shape}, X_test shape: {X_test.shape}')"
      ]
    },
    {
      "cell_type": "markdown",
      "id": "4a1bf8de",
      "metadata": {
        "id": "4a1bf8de"
      },
      "source": [
        "## Regression Losses\n",
        "\n",
        "- **Mean Squared Error (MSE)**:\n",
        "\n",
        "```python\n",
        "tf.keras.losses.MSE\n",
        "```\n",
        "```python\n",
        "model.compile(loss='mse') or model.compile(loss=tf.keras.losses.MSE)\n",
        "```\n",
        "\n",
        "$$ \\mathrm{MSE} = \\frac{\\sum_{i=1}^n\\left( y_i - \\hat{y_i}\\right)^2}{n}$$\n",
        "\n",
        "\n",
        "- **Mean Absolute Error (MAE)**:\n",
        "\n",
        "```python\n",
        "tf.keras.losses.MAE\n",
        "```\n",
        "```python\n",
        "model.compile(loss='mae') or model.compile(loss=tf.keras.losses.MAE)\n",
        "```\n",
        "\n",
        "$$ \\mathrm{MAE} = \\frac{\\sum_{i=1}^n\\left| y_i - \\hat{y_i}\\right|}{n}$$\n"
      ]
    },
    {
      "cell_type": "markdown",
      "id": "313693e1",
      "metadata": {
        "id": "313693e1"
      },
      "source": [
        "## Question 1: Create a net with at least 1 hidden layer\n",
        "\n",
        "\n",
        "1. You can use the [Functional API](https://keras.io/guides/functional_api/):\n",
        "\n",
        "You need to start with an input data entry:\n",
        "```python    \n",
        "    inputs = keras.Input(shape=(...,))\n",
        "    layer_1 = layers.Dense(...)(inputs)\n",
        "```\n",
        "\n",
        "and the network outputs:\n",
        "```python\n",
        "outputs = layers.Dense(...)(previous_layer)\n",
        "model = keras.Model(inputs=inputs, outputs=outputs)\n",
        "```\n",
        "\n",
        "2. Or you can use [Sequential API](https://keras.io/guides/sequential_model/)\n",
        "\n",
        "```python\n",
        "model = keras.Sequential(name='example_model')\n",
        "model.add(layers.Dense(..., input_shape=(8,))\n",
        "model.add(...\n",
        "```\n",
        "\n",
        "You can introduce regularization methods seen in [Prevent_Overfitting.ipynb](https://github.com/ezponda/intro_deep_learning/blob/main/class/Fundamentals/Prevent_Overfitting.ipynb) like [Dropout layer](https://www.tensorflow.org/api_docs/python/tf/keras/layers/Dropout):\n",
        "\n",
        "\n",
        "```python\n",
        "tf.keras.layers.Dropout(\n",
        "    rate, noise_shape=None, seed=None, **kwargs\n",
        ")\n",
        "```\n",
        "\n",
        "With Functional API:\n",
        "```python\n",
        "next_layer = layers.Dropout(0.4)(prev_layer)\n",
        "```\n",
        "With Sequential:\n",
        "```python\n",
        "model.add(layers.Dropout(0.4))\n"
      ]
    },
    {
      "cell_type": "code",
      "execution_count": null,
      "id": "0f142132",
      "metadata": {
        "colab": {
          "base_uri": "https://localhost:8080/",
          "height": 293
        },
        "id": "0f142132",
        "outputId": "aa2f1180-eef3-41b2-f0d2-27691580ee97"
      },
      "outputs": [
        {
          "output_type": "stream",
          "name": "stderr",
          "text": [
            "/usr/local/lib/python3.11/dist-packages/keras/src/layers/core/dense.py:87: UserWarning: Do not pass an `input_shape`/`input_dim` argument to a layer. When using Sequential models, prefer using an `Input(shape)` object as the first layer in the model instead.\n",
            "  super().__init__(activity_regularizer=activity_regularizer, **kwargs)\n"
          ]
        },
        {
          "output_type": "display_data",
          "data": {
            "text/plain": [
              "\u001b[1mModel: \"sequential_3\"\u001b[0m\n"
            ],
            "text/html": [
              "<pre style=\"white-space:pre;overflow-x:auto;line-height:normal;font-family:Menlo,'DejaVu Sans Mono',consolas,'Courier New',monospace\"><span style=\"font-weight: bold\">Model: \"sequential_3\"</span>\n",
              "</pre>\n"
            ]
          },
          "metadata": {}
        },
        {
          "output_type": "display_data",
          "data": {
            "text/plain": [
              "┏━━━━━━━━━━━━━━━━━━━━━━━━━━━━━━━━━┳━━━━━━━━━━━━━━━━━━━━━━━━┳━━━━━━━━━━━━━━━┓\n",
              "┃\u001b[1m \u001b[0m\u001b[1mLayer (type)                   \u001b[0m\u001b[1m \u001b[0m┃\u001b[1m \u001b[0m\u001b[1mOutput Shape          \u001b[0m\u001b[1m \u001b[0m┃\u001b[1m \u001b[0m\u001b[1m      Param #\u001b[0m\u001b[1m \u001b[0m┃\n",
              "┡━━━━━━━━━━━━━━━━━━━━━━━━━━━━━━━━━╇━━━━━━━━━━━━━━━━━━━━━━━━╇━━━━━━━━━━━━━━━┩\n",
              "│ dense_14 (\u001b[38;5;33mDense\u001b[0m)                │ (\u001b[38;5;45mNone\u001b[0m, \u001b[38;5;34m64\u001b[0m)             │           \u001b[38;5;34m512\u001b[0m │\n",
              "├─────────────────────────────────┼────────────────────────┼───────────────┤\n",
              "│ dense_15 (\u001b[38;5;33mDense\u001b[0m)                │ (\u001b[38;5;45mNone\u001b[0m, \u001b[38;5;34m32\u001b[0m)             │         \u001b[38;5;34m2,080\u001b[0m │\n",
              "├─────────────────────────────────┼────────────────────────┼───────────────┤\n",
              "│ dense_16 (\u001b[38;5;33mDense\u001b[0m)                │ (\u001b[38;5;45mNone\u001b[0m, \u001b[38;5;34m64\u001b[0m)             │         \u001b[38;5;34m2,112\u001b[0m │\n",
              "└─────────────────────────────────┴────────────────────────┴───────────────┘\n"
            ],
            "text/html": [
              "<pre style=\"white-space:pre;overflow-x:auto;line-height:normal;font-family:Menlo,'DejaVu Sans Mono',consolas,'Courier New',monospace\">┏━━━━━━━━━━━━━━━━━━━━━━━━━━━━━━━━━┳━━━━━━━━━━━━━━━━━━━━━━━━┳━━━━━━━━━━━━━━━┓\n",
              "┃<span style=\"font-weight: bold\"> Layer (type)                    </span>┃<span style=\"font-weight: bold\"> Output Shape           </span>┃<span style=\"font-weight: bold\">       Param # </span>┃\n",
              "┡━━━━━━━━━━━━━━━━━━━━━━━━━━━━━━━━━╇━━━━━━━━━━━━━━━━━━━━━━━━╇━━━━━━━━━━━━━━━┩\n",
              "│ dense_14 (<span style=\"color: #0087ff; text-decoration-color: #0087ff\">Dense</span>)                │ (<span style=\"color: #00d7ff; text-decoration-color: #00d7ff\">None</span>, <span style=\"color: #00af00; text-decoration-color: #00af00\">64</span>)             │           <span style=\"color: #00af00; text-decoration-color: #00af00\">512</span> │\n",
              "├─────────────────────────────────┼────────────────────────┼───────────────┤\n",
              "│ dense_15 (<span style=\"color: #0087ff; text-decoration-color: #0087ff\">Dense</span>)                │ (<span style=\"color: #00d7ff; text-decoration-color: #00d7ff\">None</span>, <span style=\"color: #00af00; text-decoration-color: #00af00\">32</span>)             │         <span style=\"color: #00af00; text-decoration-color: #00af00\">2,080</span> │\n",
              "├─────────────────────────────────┼────────────────────────┼───────────────┤\n",
              "│ dense_16 (<span style=\"color: #0087ff; text-decoration-color: #0087ff\">Dense</span>)                │ (<span style=\"color: #00d7ff; text-decoration-color: #00d7ff\">None</span>, <span style=\"color: #00af00; text-decoration-color: #00af00\">64</span>)             │         <span style=\"color: #00af00; text-decoration-color: #00af00\">2,112</span> │\n",
              "└─────────────────────────────────┴────────────────────────┴───────────────┘\n",
              "</pre>\n"
            ]
          },
          "metadata": {}
        },
        {
          "output_type": "display_data",
          "data": {
            "text/plain": [
              "\u001b[1m Total params: \u001b[0m\u001b[38;5;34m4,704\u001b[0m (18.38 KB)\n"
            ],
            "text/html": [
              "<pre style=\"white-space:pre;overflow-x:auto;line-height:normal;font-family:Menlo,'DejaVu Sans Mono',consolas,'Courier New',monospace\"><span style=\"font-weight: bold\"> Total params: </span><span style=\"color: #00af00; text-decoration-color: #00af00\">4,704</span> (18.38 KB)\n",
              "</pre>\n"
            ]
          },
          "metadata": {}
        },
        {
          "output_type": "display_data",
          "data": {
            "text/plain": [
              "\u001b[1m Trainable params: \u001b[0m\u001b[38;5;34m4,704\u001b[0m (18.38 KB)\n"
            ],
            "text/html": [
              "<pre style=\"white-space:pre;overflow-x:auto;line-height:normal;font-family:Menlo,'DejaVu Sans Mono',consolas,'Courier New',monospace\"><span style=\"font-weight: bold\"> Trainable params: </span><span style=\"color: #00af00; text-decoration-color: #00af00\">4,704</span> (18.38 KB)\n",
              "</pre>\n"
            ]
          },
          "metadata": {}
        },
        {
          "output_type": "display_data",
          "data": {
            "text/plain": [
              "\u001b[1m Non-trainable params: \u001b[0m\u001b[38;5;34m0\u001b[0m (0.00 B)\n"
            ],
            "text/html": [
              "<pre style=\"white-space:pre;overflow-x:auto;line-height:normal;font-family:Menlo,'DejaVu Sans Mono',consolas,'Courier New',monospace\"><span style=\"font-weight: bold\"> Non-trainable params: </span><span style=\"color: #00af00; text-decoration-color: #00af00\">0</span> (0.00 B)\n",
              "</pre>\n"
            ]
          },
          "metadata": {}
        }
      ],
      "source": [
        "model = keras.Sequential()\n",
        "\n",
        "model.add(layers.Dense(64, input_shape=(7,), activation='relu')) #Capa oculta de neuronas\n",
        "#64 es el número de neuronas que quiero poner (está bien de 16 a 128)\n",
        "#Solo estoy poniendo una capa oculta\n",
        "#Activacion es relu para capas ocultas y linear para el output de regresión\n",
        "#input_shape es el número de columnas del dataset quitando la columna de la target\n",
        "model.add(layers.Dense(32, activation='relu'))\n",
        "\n",
        "# output layer\n",
        "model.add(layers.Dense(64, activation='linear'))\n",
        "\n",
        "## model summary\n",
        "model.summary()"
      ]
    },
    {
      "cell_type": "code",
      "source": [
        "#Layer (type) es el nombre de la capa\n",
        "#Output shape es la forma (dimensión) de la salida que genera esa capa: significa que cada muestra que pasa por esa capa sale con 64 valores\n",
        "#Param es el nº de parámetros entrenables (pesos + sesgos) de cada capa primera capa es 8 x 64 neuronas y el output es 64 x 64 porque es lo que saca la capa anterior"
      ],
      "metadata": {
        "id": "reImLNm7kvhA"
      },
      "id": "reImLNm7kvhA",
      "execution_count": null,
      "outputs": []
    },
    {
      "cell_type": "code",
      "execution_count": null,
      "id": "2b73b78f",
      "metadata": {
        "colab": {
          "base_uri": "https://localhost:8080/",
          "height": 306
        },
        "id": "2b73b78f",
        "outputId": "f6ac1511-6d18-47be-cfee-b0b19b51ec18"
      },
      "outputs": [
        {
          "output_type": "display_data",
          "data": {
            "text/plain": [
              "\u001b[1mModel: \"functional_model\"\u001b[0m\n"
            ],
            "text/html": [
              "<pre style=\"white-space:pre;overflow-x:auto;line-height:normal;font-family:Menlo,'DejaVu Sans Mono',consolas,'Courier New',monospace\"><span style=\"font-weight: bold\">Model: \"functional_model\"</span>\n",
              "</pre>\n"
            ]
          },
          "metadata": {}
        },
        {
          "output_type": "display_data",
          "data": {
            "text/plain": [
              "┏━━━━━━━━━━━━━━━━━━━━━━━━━━━━━━━━━┳━━━━━━━━━━━━━━━━━━━━━━━━┳━━━━━━━━━━━━━━━┓\n",
              "┃\u001b[1m \u001b[0m\u001b[1mLayer (type)                   \u001b[0m\u001b[1m \u001b[0m┃\u001b[1m \u001b[0m\u001b[1mOutput Shape          \u001b[0m\u001b[1m \u001b[0m┃\u001b[1m \u001b[0m\u001b[1m      Param #\u001b[0m\u001b[1m \u001b[0m┃\n",
              "┡━━━━━━━━━━━━━━━━━━━━━━━━━━━━━━━━━╇━━━━━━━━━━━━━━━━━━━━━━━━╇━━━━━━━━━━━━━━━┩\n",
              "│ input_layer_6 (\u001b[38;5;33mInputLayer\u001b[0m)      │ (\u001b[38;5;45mNone\u001b[0m, \u001b[38;5;34m7\u001b[0m)              │             \u001b[38;5;34m0\u001b[0m │\n",
              "├─────────────────────────────────┼────────────────────────┼───────────────┤\n",
              "│ dense_17 (\u001b[38;5;33mDense\u001b[0m)                │ (\u001b[38;5;45mNone\u001b[0m, \u001b[38;5;34m64\u001b[0m)             │           \u001b[38;5;34m512\u001b[0m │\n",
              "├─────────────────────────────────┼────────────────────────┼───────────────┤\n",
              "│ dropout_2 (\u001b[38;5;33mDropout\u001b[0m)             │ (\u001b[38;5;45mNone\u001b[0m, \u001b[38;5;34m64\u001b[0m)             │             \u001b[38;5;34m0\u001b[0m │\n",
              "├─────────────────────────────────┼────────────────────────┼───────────────┤\n",
              "│ dense_18 (\u001b[38;5;33mDense\u001b[0m)                │ (\u001b[38;5;45mNone\u001b[0m, \u001b[38;5;34m32\u001b[0m)             │         \u001b[38;5;34m2,080\u001b[0m │\n",
              "├─────────────────────────────────┼────────────────────────┼───────────────┤\n",
              "│ dense_19 (\u001b[38;5;33mDense\u001b[0m)                │ (\u001b[38;5;45mNone\u001b[0m, \u001b[38;5;34m1\u001b[0m)              │            \u001b[38;5;34m33\u001b[0m │\n",
              "└─────────────────────────────────┴────────────────────────┴───────────────┘\n"
            ],
            "text/html": [
              "<pre style=\"white-space:pre;overflow-x:auto;line-height:normal;font-family:Menlo,'DejaVu Sans Mono',consolas,'Courier New',monospace\">┏━━━━━━━━━━━━━━━━━━━━━━━━━━━━━━━━━┳━━━━━━━━━━━━━━━━━━━━━━━━┳━━━━━━━━━━━━━━━┓\n",
              "┃<span style=\"font-weight: bold\"> Layer (type)                    </span>┃<span style=\"font-weight: bold\"> Output Shape           </span>┃<span style=\"font-weight: bold\">       Param # </span>┃\n",
              "┡━━━━━━━━━━━━━━━━━━━━━━━━━━━━━━━━━╇━━━━━━━━━━━━━━━━━━━━━━━━╇━━━━━━━━━━━━━━━┩\n",
              "│ input_layer_6 (<span style=\"color: #0087ff; text-decoration-color: #0087ff\">InputLayer</span>)      │ (<span style=\"color: #00d7ff; text-decoration-color: #00d7ff\">None</span>, <span style=\"color: #00af00; text-decoration-color: #00af00\">7</span>)              │             <span style=\"color: #00af00; text-decoration-color: #00af00\">0</span> │\n",
              "├─────────────────────────────────┼────────────────────────┼───────────────┤\n",
              "│ dense_17 (<span style=\"color: #0087ff; text-decoration-color: #0087ff\">Dense</span>)                │ (<span style=\"color: #00d7ff; text-decoration-color: #00d7ff\">None</span>, <span style=\"color: #00af00; text-decoration-color: #00af00\">64</span>)             │           <span style=\"color: #00af00; text-decoration-color: #00af00\">512</span> │\n",
              "├─────────────────────────────────┼────────────────────────┼───────────────┤\n",
              "│ dropout_2 (<span style=\"color: #0087ff; text-decoration-color: #0087ff\">Dropout</span>)             │ (<span style=\"color: #00d7ff; text-decoration-color: #00d7ff\">None</span>, <span style=\"color: #00af00; text-decoration-color: #00af00\">64</span>)             │             <span style=\"color: #00af00; text-decoration-color: #00af00\">0</span> │\n",
              "├─────────────────────────────────┼────────────────────────┼───────────────┤\n",
              "│ dense_18 (<span style=\"color: #0087ff; text-decoration-color: #0087ff\">Dense</span>)                │ (<span style=\"color: #00d7ff; text-decoration-color: #00d7ff\">None</span>, <span style=\"color: #00af00; text-decoration-color: #00af00\">32</span>)             │         <span style=\"color: #00af00; text-decoration-color: #00af00\">2,080</span> │\n",
              "├─────────────────────────────────┼────────────────────────┼───────────────┤\n",
              "│ dense_19 (<span style=\"color: #0087ff; text-decoration-color: #0087ff\">Dense</span>)                │ (<span style=\"color: #00d7ff; text-decoration-color: #00d7ff\">None</span>, <span style=\"color: #00af00; text-decoration-color: #00af00\">1</span>)              │            <span style=\"color: #00af00; text-decoration-color: #00af00\">33</span> │\n",
              "└─────────────────────────────────┴────────────────────────┴───────────────┘\n",
              "</pre>\n"
            ]
          },
          "metadata": {}
        },
        {
          "output_type": "display_data",
          "data": {
            "text/plain": [
              "\u001b[1m Total params: \u001b[0m\u001b[38;5;34m2,625\u001b[0m (10.25 KB)\n"
            ],
            "text/html": [
              "<pre style=\"white-space:pre;overflow-x:auto;line-height:normal;font-family:Menlo,'DejaVu Sans Mono',consolas,'Courier New',monospace\"><span style=\"font-weight: bold\"> Total params: </span><span style=\"color: #00af00; text-decoration-color: #00af00\">2,625</span> (10.25 KB)\n",
              "</pre>\n"
            ]
          },
          "metadata": {}
        },
        {
          "output_type": "display_data",
          "data": {
            "text/plain": [
              "\u001b[1m Trainable params: \u001b[0m\u001b[38;5;34m2,625\u001b[0m (10.25 KB)\n"
            ],
            "text/html": [
              "<pre style=\"white-space:pre;overflow-x:auto;line-height:normal;font-family:Menlo,'DejaVu Sans Mono',consolas,'Courier New',monospace\"><span style=\"font-weight: bold\"> Trainable params: </span><span style=\"color: #00af00; text-decoration-color: #00af00\">2,625</span> (10.25 KB)\n",
              "</pre>\n"
            ]
          },
          "metadata": {}
        },
        {
          "output_type": "display_data",
          "data": {
            "text/plain": [
              "\u001b[1m Non-trainable params: \u001b[0m\u001b[38;5;34m0\u001b[0m (0.00 B)\n"
            ],
            "text/html": [
              "<pre style=\"white-space:pre;overflow-x:auto;line-height:normal;font-family:Menlo,'DejaVu Sans Mono',consolas,'Courier New',monospace\"><span style=\"font-weight: bold\"> Non-trainable params: </span><span style=\"color: #00af00; text-decoration-color: #00af00\">0</span> (0.00 B)\n",
              "</pre>\n"
            ]
          },
          "metadata": {}
        }
      ],
      "source": [
        "# Using the Functional API\n",
        "# 1. Define the input layer (definir la capa de entrada)\n",
        "inputs = keras.Input(shape=(7,)) #indicar que mi input tiene 8 columnas\n",
        "\n",
        "# 2. Build the hidden layers, You can also add dropout or other layer types\n",
        "x = layers.Dense(64, activation='relu')(inputs)\n",
        "x = layers.Dropout(0.3)(x) #0.3 de Dropout para evitar el overfitting (desactiva un 30% de las neuronas al entrenar)\n",
        "x = layers.Dense(32, activation='relu')(x)\n",
        "\n",
        "# 3. Define the output layer\n",
        "outputs = layers.Dense(1, activation='linear')(x) #solo una neurona de salida porque es regresión lineal\n",
        "\n",
        "# 4. Create the model by specifying inputs and outputs\n",
        "model = keras.Model(inputs=inputs, outputs=outputs, name='functional_model')\n",
        "\n",
        "# Model summary\n",
        "model.summary()"
      ]
    },
    {
      "cell_type": "code",
      "execution_count": null,
      "id": "3ceb6dc8",
      "metadata": {
        "id": "3ceb6dc8"
      },
      "outputs": [],
      "source": [
        "# Early stopping callback\n",
        "early_stopping = keras.callbacks.EarlyStopping(\n",
        "    monitor='val_loss', #que métrica observar (pérdida en validacion)\n",
        "    patience=5, #nº de epocas que espera antes de parar\n",
        "    min_delta=0.001, #mejora mínima de las epocas para que cuente\n",
        "    restore_best_weights=True, #si volver o no al mejor modelo encontrado\n",
        ")"
      ]
    },
    {
      "cell_type": "code",
      "execution_count": null,
      "id": "26bb1a7b",
      "metadata": {
        "scrolled": true,
        "colab": {
          "base_uri": "https://localhost:8080/"
        },
        "id": "26bb1a7b",
        "outputId": "db84699c-8c07-46ea-9c9e-dff3c2df9a7e"
      },
      "outputs": [
        {
          "output_type": "stream",
          "name": "stdout",
          "text": [
            "Epoch 1/50\n",
            "\u001b[1m83/83\u001b[0m \u001b[32m━━━━━━━━━━━━━━━━━━━━\u001b[0m\u001b[37m\u001b[0m \u001b[1m3s\u001b[0m 10ms/step - loss: 96.5150 - mae: 9.3406 - mse: 96.5150 - val_loss: 35.0584 - val_mae: 5.2674 - val_mse: 35.0584\n",
            "Epoch 2/50\n",
            "\u001b[1m83/83\u001b[0m \u001b[32m━━━━━━━━━━━━━━━━━━━━\u001b[0m\u001b[37m\u001b[0m \u001b[1m1s\u001b[0m 7ms/step - loss: 17.5798 - mae: 3.3102 - mse: 17.5798 - val_loss: 8.0654 - val_mae: 2.0558 - val_mse: 8.0654\n",
            "Epoch 3/50\n",
            "\u001b[1m83/83\u001b[0m \u001b[32m━━━━━━━━━━━━━━━━━━━━\u001b[0m\u001b[37m\u001b[0m \u001b[1m1s\u001b[0m 7ms/step - loss: 8.8924 - mae: 2.2023 - mse: 8.8924 - val_loss: 7.2393 - val_mae: 1.9840 - val_mse: 7.2393\n",
            "Epoch 4/50\n",
            "\u001b[1m83/83\u001b[0m \u001b[32m━━━━━━━━━━━━━━━━━━━━\u001b[0m\u001b[37m\u001b[0m \u001b[1m1s\u001b[0m 6ms/step - loss: 8.1623 - mae: 2.0969 - mse: 8.1623 - val_loss: 6.9337 - val_mae: 1.9233 - val_mse: 6.9337\n",
            "Epoch 5/50\n",
            "\u001b[1m83/83\u001b[0m \u001b[32m━━━━━━━━━━━━━━━━━━━━\u001b[0m\u001b[37m\u001b[0m \u001b[1m0s\u001b[0m 4ms/step - loss: 7.7036 - mae: 2.0348 - mse: 7.7036 - val_loss: 6.7451 - val_mae: 1.8941 - val_mse: 6.7451\n",
            "Epoch 6/50\n",
            "\u001b[1m83/83\u001b[0m \u001b[32m━━━━━━━━━━━━━━━━━━━━\u001b[0m\u001b[37m\u001b[0m \u001b[1m1s\u001b[0m 4ms/step - loss: 7.5888 - mae: 2.0305 - mse: 7.5888 - val_loss: 6.4596 - val_mae: 1.8748 - val_mse: 6.4596\n",
            "Epoch 7/50\n",
            "\u001b[1m83/83\u001b[0m \u001b[32m━━━━━━━━━━━━━━━━━━━━\u001b[0m\u001b[37m\u001b[0m \u001b[1m1s\u001b[0m 4ms/step - loss: 7.1977 - mae: 1.9891 - mse: 7.1977 - val_loss: 6.2792 - val_mae: 1.8196 - val_mse: 6.2792\n",
            "Epoch 8/50\n",
            "\u001b[1m83/83\u001b[0m \u001b[32m━━━━━━━━━━━━━━━━━━━━\u001b[0m\u001b[37m\u001b[0m \u001b[1m0s\u001b[0m 4ms/step - loss: 6.8249 - mae: 1.9135 - mse: 6.8249 - val_loss: 6.0041 - val_mae: 1.7875 - val_mse: 6.0041\n",
            "Epoch 9/50\n",
            "\u001b[1m83/83\u001b[0m \u001b[32m━━━━━━━━━━━━━━━━━━━━\u001b[0m\u001b[37m\u001b[0m \u001b[1m1s\u001b[0m 4ms/step - loss: 6.8304 - mae: 1.9094 - mse: 6.8304 - val_loss: 5.8146 - val_mae: 1.7498 - val_mse: 5.8146\n",
            "Epoch 10/50\n",
            "\u001b[1m83/83\u001b[0m \u001b[32m━━━━━━━━━━━━━━━━━━━━\u001b[0m\u001b[37m\u001b[0m \u001b[1m1s\u001b[0m 4ms/step - loss: 6.8023 - mae: 1.9242 - mse: 6.8023 - val_loss: 5.6730 - val_mae: 1.7161 - val_mse: 5.6730\n",
            "Epoch 11/50\n",
            "\u001b[1m83/83\u001b[0m \u001b[32m━━━━━━━━━━━━━━━━━━━━\u001b[0m\u001b[37m\u001b[0m \u001b[1m1s\u001b[0m 4ms/step - loss: 6.4485 - mae: 1.8707 - mse: 6.4485 - val_loss: 5.5534 - val_mae: 1.7096 - val_mse: 5.5534\n",
            "Epoch 12/50\n",
            "\u001b[1m83/83\u001b[0m \u001b[32m━━━━━━━━━━━━━━━━━━━━\u001b[0m\u001b[37m\u001b[0m \u001b[1m1s\u001b[0m 4ms/step - loss: 6.3717 - mae: 1.8558 - mse: 6.3717 - val_loss: 5.4666 - val_mae: 1.6652 - val_mse: 5.4666\n",
            "Epoch 13/50\n",
            "\u001b[1m83/83\u001b[0m \u001b[32m━━━━━━━━━━━━━━━━━━━━\u001b[0m\u001b[37m\u001b[0m \u001b[1m1s\u001b[0m 4ms/step - loss: 6.1466 - mae: 1.8120 - mse: 6.1466 - val_loss: 5.4883 - val_mae: 1.6300 - val_mse: 5.4883\n",
            "Epoch 14/50\n",
            "\u001b[1m83/83\u001b[0m \u001b[32m━━━━━━━━━━━━━━━━━━━━\u001b[0m\u001b[37m\u001b[0m \u001b[1m1s\u001b[0m 4ms/step - loss: 6.2781 - mae: 1.8568 - mse: 6.2781 - val_loss: 5.2633 - val_mae: 1.6625 - val_mse: 5.2633\n",
            "Epoch 15/50\n",
            "\u001b[1m83/83\u001b[0m \u001b[32m━━━━━━━━━━━━━━━━━━━━\u001b[0m\u001b[37m\u001b[0m \u001b[1m0s\u001b[0m 4ms/step - loss: 5.9218 - mae: 1.7874 - mse: 5.9218 - val_loss: 5.2092 - val_mae: 1.6354 - val_mse: 5.2092\n",
            "Epoch 16/50\n",
            "\u001b[1m83/83\u001b[0m \u001b[32m━━━━━━━━━━━━━━━━━━━━\u001b[0m\u001b[37m\u001b[0m \u001b[1m1s\u001b[0m 4ms/step - loss: 6.1513 - mae: 1.8298 - mse: 6.1513 - val_loss: 5.1737 - val_mae: 1.6439 - val_mse: 5.1737\n",
            "Epoch 17/50\n",
            "\u001b[1m83/83\u001b[0m \u001b[32m━━━━━━━━━━━━━━━━━━━━\u001b[0m\u001b[37m\u001b[0m \u001b[1m1s\u001b[0m 4ms/step - loss: 6.0500 - mae: 1.8332 - mse: 6.0500 - val_loss: 5.1690 - val_mae: 1.6132 - val_mse: 5.1690\n",
            "Epoch 18/50\n",
            "\u001b[1m83/83\u001b[0m \u001b[32m━━━━━━━━━━━━━━━━━━━━\u001b[0m\u001b[37m\u001b[0m \u001b[1m1s\u001b[0m 4ms/step - loss: 5.8156 - mae: 1.7709 - mse: 5.8156 - val_loss: 5.0877 - val_mae: 1.6151 - val_mse: 5.0877\n",
            "Epoch 19/50\n",
            "\u001b[1m83/83\u001b[0m \u001b[32m━━━━━━━━━━━━━━━━━━━━\u001b[0m\u001b[37m\u001b[0m \u001b[1m0s\u001b[0m 5ms/step - loss: 5.7284 - mae: 1.7713 - mse: 5.7284 - val_loss: 5.1723 - val_mae: 1.5909 - val_mse: 5.1723\n",
            "Epoch 20/50\n",
            "\u001b[1m83/83\u001b[0m \u001b[32m━━━━━━━━━━━━━━━━━━━━\u001b[0m\u001b[37m\u001b[0m \u001b[1m1s\u001b[0m 5ms/step - loss: 5.6650 - mae: 1.7684 - mse: 5.6650 - val_loss: 5.1234 - val_mae: 1.5916 - val_mse: 5.1234\n",
            "Epoch 21/50\n",
            "\u001b[1m83/83\u001b[0m \u001b[32m━━━━━━━━━━━━━━━━━━━━\u001b[0m\u001b[37m\u001b[0m \u001b[1m1s\u001b[0m 4ms/step - loss: 5.7582 - mae: 1.7847 - mse: 5.7582 - val_loss: 5.1717 - val_mae: 1.5848 - val_mse: 5.1717\n",
            "Epoch 22/50\n",
            "\u001b[1m83/83\u001b[0m \u001b[32m━━━━━━━━━━━━━━━━━━━━\u001b[0m\u001b[37m\u001b[0m \u001b[1m1s\u001b[0m 7ms/step - loss: 5.7723 - mae: 1.7765 - mse: 5.7723 - val_loss: 5.0317 - val_mae: 1.5871 - val_mse: 5.0317\n",
            "Epoch 23/50\n",
            "\u001b[1m83/83\u001b[0m \u001b[32m━━━━━━━━━━━━━━━━━━━━\u001b[0m\u001b[37m\u001b[0m \u001b[1m1s\u001b[0m 7ms/step - loss: 5.8919 - mae: 1.8004 - mse: 5.8919 - val_loss: 4.9954 - val_mae: 1.5909 - val_mse: 4.9954\n",
            "Epoch 24/50\n",
            "\u001b[1m83/83\u001b[0m \u001b[32m━━━━━━━━━━━━━━━━━━━━\u001b[0m\u001b[37m\u001b[0m \u001b[1m1s\u001b[0m 7ms/step - loss: 5.5218 - mae: 1.7420 - mse: 5.5218 - val_loss: 5.0421 - val_mae: 1.5791 - val_mse: 5.0421\n",
            "Epoch 25/50\n",
            "\u001b[1m83/83\u001b[0m \u001b[32m━━━━━━━━━━━━━━━━━━━━\u001b[0m\u001b[37m\u001b[0m \u001b[1m1s\u001b[0m 7ms/step - loss: 5.3068 - mae: 1.6895 - mse: 5.3068 - val_loss: 4.9441 - val_mae: 1.5888 - val_mse: 4.9441\n",
            "Epoch 26/50\n",
            "\u001b[1m83/83\u001b[0m \u001b[32m━━━━━━━━━━━━━━━━━━━━\u001b[0m\u001b[37m\u001b[0m \u001b[1m0s\u001b[0m 4ms/step - loss: 5.6284 - mae: 1.7323 - mse: 5.6284 - val_loss: 4.9553 - val_mae: 1.5788 - val_mse: 4.9553\n",
            "Epoch 27/50\n",
            "\u001b[1m83/83\u001b[0m \u001b[32m━━━━━━━━━━━━━━━━━━━━\u001b[0m\u001b[37m\u001b[0m \u001b[1m0s\u001b[0m 4ms/step - loss: 5.5199 - mae: 1.7132 - mse: 5.5199 - val_loss: 4.9041 - val_mae: 1.5868 - val_mse: 4.9041\n",
            "Epoch 28/50\n",
            "\u001b[1m83/83\u001b[0m \u001b[32m━━━━━━━━━━━━━━━━━━━━\u001b[0m\u001b[37m\u001b[0m \u001b[1m1s\u001b[0m 4ms/step - loss: 5.6009 - mae: 1.7451 - mse: 5.6009 - val_loss: 4.9034 - val_mae: 1.5734 - val_mse: 4.9034\n",
            "Epoch 29/50\n",
            "\u001b[1m83/83\u001b[0m \u001b[32m━━━━━━━━━━━━━━━━━━━━\u001b[0m\u001b[37m\u001b[0m \u001b[1m1s\u001b[0m 5ms/step - loss: 5.4938 - mae: 1.7409 - mse: 5.4938 - val_loss: 4.9476 - val_mae: 1.5718 - val_mse: 4.9476\n",
            "Epoch 30/50\n",
            "\u001b[1m83/83\u001b[0m \u001b[32m━━━━━━━━━━━━━━━━━━━━\u001b[0m\u001b[37m\u001b[0m \u001b[1m1s\u001b[0m 4ms/step - loss: 5.8657 - mae: 1.7670 - mse: 5.8657 - val_loss: 4.9077 - val_mae: 1.5767 - val_mse: 4.9077\n",
            "Epoch 31/50\n",
            "\u001b[1m83/83\u001b[0m \u001b[32m━━━━━━━━━━━━━━━━━━━━\u001b[0m\u001b[37m\u001b[0m \u001b[1m1s\u001b[0m 4ms/step - loss: 5.3022 - mae: 1.6959 - mse: 5.3022 - val_loss: 4.9485 - val_mae: 1.5635 - val_mse: 4.9485\n",
            "Epoch 32/50\n",
            "\u001b[1m83/83\u001b[0m \u001b[32m━━━━━━━━━━━━━━━━━━━━\u001b[0m\u001b[37m\u001b[0m \u001b[1m0s\u001b[0m 4ms/step - loss: 5.1355 - mae: 1.6890 - mse: 5.1355 - val_loss: 4.8660 - val_mae: 1.5671 - val_mse: 4.8660\n",
            "Epoch 33/50\n",
            "\u001b[1m83/83\u001b[0m \u001b[32m━━━━━━━━━━━━━━━━━━━━\u001b[0m\u001b[37m\u001b[0m \u001b[1m0s\u001b[0m 4ms/step - loss: 5.2018 - mae: 1.6607 - mse: 5.2018 - val_loss: 4.9957 - val_mae: 1.5567 - val_mse: 4.9957\n",
            "Epoch 34/50\n",
            "\u001b[1m83/83\u001b[0m \u001b[32m━━━━━━━━━━━━━━━━━━━━\u001b[0m\u001b[37m\u001b[0m \u001b[1m0s\u001b[0m 4ms/step - loss: 5.0549 - mae: 1.6466 - mse: 5.0549 - val_loss: 4.8006 - val_mae: 1.5708 - val_mse: 4.8006\n",
            "Epoch 35/50\n",
            "\u001b[1m83/83\u001b[0m \u001b[32m━━━━━━━━━━━━━━━━━━━━\u001b[0m\u001b[37m\u001b[0m \u001b[1m1s\u001b[0m 4ms/step - loss: 5.2817 - mae: 1.6911 - mse: 5.2817 - val_loss: 4.8701 - val_mae: 1.5498 - val_mse: 4.8701\n",
            "Epoch 36/50\n",
            "\u001b[1m83/83\u001b[0m \u001b[32m━━━━━━━━━━━━━━━━━━━━\u001b[0m\u001b[37m\u001b[0m \u001b[1m1s\u001b[0m 5ms/step - loss: 5.2748 - mae: 1.6960 - mse: 5.2748 - val_loss: 4.8404 - val_mae: 1.5491 - val_mse: 4.8404\n",
            "Epoch 37/50\n",
            "\u001b[1m83/83\u001b[0m \u001b[32m━━━━━━━━━━━━━━━━━━━━\u001b[0m\u001b[37m\u001b[0m \u001b[1m1s\u001b[0m 5ms/step - loss: 5.1107 - mae: 1.6635 - mse: 5.1107 - val_loss: 4.8264 - val_mae: 1.5515 - val_mse: 4.8264\n",
            "Epoch 38/50\n",
            "\u001b[1m83/83\u001b[0m \u001b[32m━━━━━━━━━━━━━━━━━━━━\u001b[0m\u001b[37m\u001b[0m \u001b[1m1s\u001b[0m 4ms/step - loss: 5.1723 - mae: 1.6780 - mse: 5.1723 - val_loss: 4.7759 - val_mae: 1.5462 - val_mse: 4.7759\n",
            "Epoch 39/50\n",
            "\u001b[1m83/83\u001b[0m \u001b[32m━━━━━━━━━━━━━━━━━━━━\u001b[0m\u001b[37m\u001b[0m \u001b[1m1s\u001b[0m 4ms/step - loss: 5.1753 - mae: 1.6943 - mse: 5.1753 - val_loss: 4.7990 - val_mae: 1.5404 - val_mse: 4.7990\n",
            "Epoch 40/50\n",
            "\u001b[1m83/83\u001b[0m \u001b[32m━━━━━━━━━━━━━━━━━━━━\u001b[0m\u001b[37m\u001b[0m \u001b[1m1s\u001b[0m 5ms/step - loss: 4.7517 - mae: 1.6030 - mse: 4.7517 - val_loss: 4.7604 - val_mae: 1.5371 - val_mse: 4.7604\n",
            "Epoch 41/50\n",
            "\u001b[1m83/83\u001b[0m \u001b[32m━━━━━━━━━━━━━━━━━━━━\u001b[0m\u001b[37m\u001b[0m \u001b[1m1s\u001b[0m 4ms/step - loss: 4.8972 - mae: 1.6434 - mse: 4.8972 - val_loss: 4.7399 - val_mae: 1.5332 - val_mse: 4.7399\n",
            "Epoch 42/50\n",
            "\u001b[1m83/83\u001b[0m \u001b[32m━━━━━━━━━━━━━━━━━━━━\u001b[0m\u001b[37m\u001b[0m \u001b[1m0s\u001b[0m 5ms/step - loss: 4.7910 - mae: 1.6185 - mse: 4.7910 - val_loss: 4.7216 - val_mae: 1.5332 - val_mse: 4.7216\n",
            "Epoch 43/50\n",
            "\u001b[1m83/83\u001b[0m \u001b[32m━━━━━━━━━━━━━━━━━━━━\u001b[0m\u001b[37m\u001b[0m \u001b[1m1s\u001b[0m 4ms/step - loss: 4.9430 - mae: 1.6408 - mse: 4.9430 - val_loss: 4.7669 - val_mae: 1.5208 - val_mse: 4.7669\n",
            "Epoch 44/50\n",
            "\u001b[1m83/83\u001b[0m \u001b[32m━━━━━━━━━━━━━━━━━━━━\u001b[0m\u001b[37m\u001b[0m \u001b[1m0s\u001b[0m 4ms/step - loss: 4.9172 - mae: 1.6094 - mse: 4.9172 - val_loss: 4.7052 - val_mae: 1.5302 - val_mse: 4.7052\n",
            "Epoch 45/50\n",
            "\u001b[1m83/83\u001b[0m \u001b[32m━━━━━━━━━━━━━━━━━━━━\u001b[0m\u001b[37m\u001b[0m \u001b[1m1s\u001b[0m 7ms/step - loss: 4.9535 - mae: 1.6364 - mse: 4.9535 - val_loss: 4.7560 - val_mae: 1.5250 - val_mse: 4.7560\n",
            "Epoch 46/50\n",
            "\u001b[1m83/83\u001b[0m \u001b[32m━━━━━━━━━━━━━━━━━━━━\u001b[0m\u001b[37m\u001b[0m \u001b[1m1s\u001b[0m 6ms/step - loss: 4.7470 - mae: 1.5981 - mse: 4.7470 - val_loss: 4.6555 - val_mae: 1.5274 - val_mse: 4.6555\n",
            "Epoch 47/50\n",
            "\u001b[1m83/83\u001b[0m \u001b[32m━━━━━━━━━━━━━━━━━━━━\u001b[0m\u001b[37m\u001b[0m \u001b[1m1s\u001b[0m 7ms/step - loss: 4.7571 - mae: 1.6078 - mse: 4.7571 - val_loss: 4.6812 - val_mae: 1.5175 - val_mse: 4.6812\n",
            "Epoch 48/50\n",
            "\u001b[1m83/83\u001b[0m \u001b[32m━━━━━━━━━━━━━━━━━━━━\u001b[0m\u001b[37m\u001b[0m \u001b[1m1s\u001b[0m 6ms/step - loss: 4.8314 - mae: 1.5975 - mse: 4.8314 - val_loss: 4.6523 - val_mae: 1.5202 - val_mse: 4.6523\n",
            "Epoch 49/50\n",
            "\u001b[1m83/83\u001b[0m \u001b[32m━━━━━━━━━━━━━━━━━━━━\u001b[0m\u001b[37m\u001b[0m \u001b[1m0s\u001b[0m 4ms/step - loss: 4.6917 - mae: 1.5875 - mse: 4.6917 - val_loss: 4.6872 - val_mae: 1.5088 - val_mse: 4.6872\n",
            "Epoch 50/50\n",
            "\u001b[1m83/83\u001b[0m \u001b[32m━━━━━━━━━━━━━━━━━━━━\u001b[0m\u001b[37m\u001b[0m \u001b[1m1s\u001b[0m 4ms/step - loss: 4.8006 - mae: 1.5986 - mse: 4.8006 - val_loss: 4.6527 - val_mae: 1.5134 - val_mse: 4.6527\n"
          ]
        },
        {
          "output_type": "execute_result",
          "data": {
            "text/plain": [
              "<keras.src.callbacks.history.History at 0x7f1ec827c090>"
            ]
          },
          "metadata": {},
          "execution_count": 21
        }
      ],
      "source": [
        "model.compile(\n",
        "    optimizer='adam',\n",
        "    loss='mse',\n",
        "    metrics=['mae', 'mse'],\n",
        ")\n",
        "model.fit(\n",
        "    X_train,\n",
        "    y_train,\n",
        "    epochs=50,\n",
        "    validation_split=0.2,\n",
        "    batch_size=32,\n",
        "    callbacks=[early_stopping],\n",
        "    )"
      ]
    },
    {
      "cell_type": "code",
      "execution_count": null,
      "id": "644f80fd",
      "metadata": {
        "colab": {
          "base_uri": "https://localhost:8080/"
        },
        "id": "644f80fd",
        "outputId": "191a9c95-79b0-48e1-8107-d01291f8098d"
      },
      "outputs": [
        {
          "output_type": "stream",
          "name": "stdout",
          "text": [
            "\u001b[1m27/27\u001b[0m \u001b[32m━━━━━━━━━━━━━━━━━━━━\u001b[0m\u001b[37m\u001b[0m \u001b[1m0s\u001b[0m 3ms/step - loss: 5.8302 - mae: 1.6196 - mse: 5.8302\n",
            "Test Loss: 5.3124260902404785\n"
          ]
        }
      ],
      "source": [
        "results = model.evaluate(X_test, y_test, verbose=1)\n",
        "print('Test Loss: {}'.format(results[0]))"
      ]
    },
    {
      "cell_type": "markdown",
      "id": "5c909754",
      "metadata": {
        "id": "5c909754"
      },
      "source": [
        "## Question 2: Normalize the inputs and train the same model"
      ]
    },
    {
      "cell_type": "code",
      "execution_count": null,
      "id": "d9ed6000",
      "metadata": {
        "colab": {
          "base_uri": "https://localhost:8080/"
        },
        "id": "d9ed6000",
        "outputId": "3a33a78e-8c3b-463d-8295-af9c9ebc1b11"
      },
      "outputs": [
        {
          "output_type": "stream",
          "name": "stdout",
          "text": [
            "X_train mu, sigma [ 2.77689518e-16  4.65491099e-17  2.50402109e-16 -2.81434849e-16\n",
            "  2.18299274e-16  1.77100637e-16 -1.05404306e-16] [1. 1. 1. 1. 1. 1. 1.]\n",
            "X_test mu, sigma [-7.31441052e-17 -3.53181536e-16  2.81082347e-16 -9.61322525e-17\n",
            "  1.02401747e-16  2.82127263e-17 -1.46288210e-16] [1. 1. 1. 1. 1. 1. 1.]\n"
          ]
        }
      ],
      "source": [
        "from sklearn.preprocessing import StandardScaler\n",
        "scaler = StandardScaler()\n",
        "X_train_norm = scaler.fit_transform(X_train)\n",
        "X_test_norm = scaler.fit_transform(X_test)\n",
        "print('X_train mu, sigma', X_train_norm.mean(0), X_train_norm.std(0))\n",
        "print('X_test mu, sigma', X_test_norm.mean(0), X_test_norm.std(0))"
      ]
    },
    {
      "cell_type": "code",
      "execution_count": null,
      "id": "16ac44c0",
      "metadata": {
        "colab": {
          "base_uri": "https://localhost:8080/",
          "height": 327
        },
        "id": "16ac44c0",
        "outputId": "4537192f-fe23-4c10-ab02-a7db45c47626"
      },
      "outputs": [
        {
          "output_type": "stream",
          "name": "stderr",
          "text": [
            "/usr/local/lib/python3.11/dist-packages/keras/src/layers/core/dense.py:87: UserWarning: Do not pass an `input_shape`/`input_dim` argument to a layer. When using Sequential models, prefer using an `Input(shape)` object as the first layer in the model instead.\n",
            "  super().__init__(activity_regularizer=activity_regularizer, **kwargs)\n"
          ]
        },
        {
          "output_type": "display_data",
          "data": {
            "text/plain": [
              "\u001b[1mModel: \"sequential_6\"\u001b[0m\n"
            ],
            "text/html": [
              "<pre style=\"white-space:pre;overflow-x:auto;line-height:normal;font-family:Menlo,'DejaVu Sans Mono',consolas,'Courier New',monospace\"><span style=\"font-weight: bold\">Model: \"sequential_6\"</span>\n",
              "</pre>\n"
            ]
          },
          "metadata": {}
        },
        {
          "output_type": "display_data",
          "data": {
            "text/plain": [
              "┏━━━━━━━━━━━━━━━━━━━━━━━━━━━━━━━━━┳━━━━━━━━━━━━━━━━━━━━━━━━┳━━━━━━━━━━━━━━━┓\n",
              "┃\u001b[1m \u001b[0m\u001b[1mLayer (type)                   \u001b[0m\u001b[1m \u001b[0m┃\u001b[1m \u001b[0m\u001b[1mOutput Shape          \u001b[0m\u001b[1m \u001b[0m┃\u001b[1m \u001b[0m\u001b[1m      Param #\u001b[0m\u001b[1m \u001b[0m┃\n",
              "┡━━━━━━━━━━━━━━━━━━━━━━━━━━━━━━━━━╇━━━━━━━━━━━━━━━━━━━━━━━━╇━━━━━━━━━━━━━━━┩\n",
              "│ dense_20 (\u001b[38;5;33mDense\u001b[0m)                │ (\u001b[38;5;45mNone\u001b[0m, \u001b[38;5;34m64\u001b[0m)             │           \u001b[38;5;34m512\u001b[0m │\n",
              "├─────────────────────────────────┼────────────────────────┼───────────────┤\n",
              "│ dropout_3 (\u001b[38;5;33mDropout\u001b[0m)             │ (\u001b[38;5;45mNone\u001b[0m, \u001b[38;5;34m64\u001b[0m)             │             \u001b[38;5;34m0\u001b[0m │\n",
              "├─────────────────────────────────┼────────────────────────┼───────────────┤\n",
              "│ dense_21 (\u001b[38;5;33mDense\u001b[0m)                │ (\u001b[38;5;45mNone\u001b[0m, \u001b[38;5;34m32\u001b[0m)             │         \u001b[38;5;34m2,080\u001b[0m │\n",
              "├─────────────────────────────────┼────────────────────────┼───────────────┤\n",
              "│ dense_22 (\u001b[38;5;33mDense\u001b[0m)                │ (\u001b[38;5;45mNone\u001b[0m, \u001b[38;5;34m1\u001b[0m)              │            \u001b[38;5;34m33\u001b[0m │\n",
              "└─────────────────────────────────┴────────────────────────┴───────────────┘\n"
            ],
            "text/html": [
              "<pre style=\"white-space:pre;overflow-x:auto;line-height:normal;font-family:Menlo,'DejaVu Sans Mono',consolas,'Courier New',monospace\">┏━━━━━━━━━━━━━━━━━━━━━━━━━━━━━━━━━┳━━━━━━━━━━━━━━━━━━━━━━━━┳━━━━━━━━━━━━━━━┓\n",
              "┃<span style=\"font-weight: bold\"> Layer (type)                    </span>┃<span style=\"font-weight: bold\"> Output Shape           </span>┃<span style=\"font-weight: bold\">       Param # </span>┃\n",
              "┡━━━━━━━━━━━━━━━━━━━━━━━━━━━━━━━━━╇━━━━━━━━━━━━━━━━━━━━━━━━╇━━━━━━━━━━━━━━━┩\n",
              "│ dense_20 (<span style=\"color: #0087ff; text-decoration-color: #0087ff\">Dense</span>)                │ (<span style=\"color: #00d7ff; text-decoration-color: #00d7ff\">None</span>, <span style=\"color: #00af00; text-decoration-color: #00af00\">64</span>)             │           <span style=\"color: #00af00; text-decoration-color: #00af00\">512</span> │\n",
              "├─────────────────────────────────┼────────────────────────┼───────────────┤\n",
              "│ dropout_3 (<span style=\"color: #0087ff; text-decoration-color: #0087ff\">Dropout</span>)             │ (<span style=\"color: #00d7ff; text-decoration-color: #00d7ff\">None</span>, <span style=\"color: #00af00; text-decoration-color: #00af00\">64</span>)             │             <span style=\"color: #00af00; text-decoration-color: #00af00\">0</span> │\n",
              "├─────────────────────────────────┼────────────────────────┼───────────────┤\n",
              "│ dense_21 (<span style=\"color: #0087ff; text-decoration-color: #0087ff\">Dense</span>)                │ (<span style=\"color: #00d7ff; text-decoration-color: #00d7ff\">None</span>, <span style=\"color: #00af00; text-decoration-color: #00af00\">32</span>)             │         <span style=\"color: #00af00; text-decoration-color: #00af00\">2,080</span> │\n",
              "├─────────────────────────────────┼────────────────────────┼───────────────┤\n",
              "│ dense_22 (<span style=\"color: #0087ff; text-decoration-color: #0087ff\">Dense</span>)                │ (<span style=\"color: #00d7ff; text-decoration-color: #00d7ff\">None</span>, <span style=\"color: #00af00; text-decoration-color: #00af00\">1</span>)              │            <span style=\"color: #00af00; text-decoration-color: #00af00\">33</span> │\n",
              "└─────────────────────────────────┴────────────────────────┴───────────────┘\n",
              "</pre>\n"
            ]
          },
          "metadata": {}
        },
        {
          "output_type": "display_data",
          "data": {
            "text/plain": [
              "\u001b[1m Total params: \u001b[0m\u001b[38;5;34m2,625\u001b[0m (10.25 KB)\n"
            ],
            "text/html": [
              "<pre style=\"white-space:pre;overflow-x:auto;line-height:normal;font-family:Menlo,'DejaVu Sans Mono',consolas,'Courier New',monospace\"><span style=\"font-weight: bold\"> Total params: </span><span style=\"color: #00af00; text-decoration-color: #00af00\">2,625</span> (10.25 KB)\n",
              "</pre>\n"
            ]
          },
          "metadata": {}
        },
        {
          "output_type": "display_data",
          "data": {
            "text/plain": [
              "\u001b[1m Trainable params: \u001b[0m\u001b[38;5;34m2,625\u001b[0m (10.25 KB)\n"
            ],
            "text/html": [
              "<pre style=\"white-space:pre;overflow-x:auto;line-height:normal;font-family:Menlo,'DejaVu Sans Mono',consolas,'Courier New',monospace\"><span style=\"font-weight: bold\"> Trainable params: </span><span style=\"color: #00af00; text-decoration-color: #00af00\">2,625</span> (10.25 KB)\n",
              "</pre>\n"
            ]
          },
          "metadata": {}
        },
        {
          "output_type": "display_data",
          "data": {
            "text/plain": [
              "\u001b[1m Non-trainable params: \u001b[0m\u001b[38;5;34m0\u001b[0m (0.00 B)\n"
            ],
            "text/html": [
              "<pre style=\"white-space:pre;overflow-x:auto;line-height:normal;font-family:Menlo,'DejaVu Sans Mono',consolas,'Courier New',monospace\"><span style=\"font-weight: bold\"> Non-trainable params: </span><span style=\"color: #00af00; text-decoration-color: #00af00\">0</span> (0.00 B)\n",
              "</pre>\n"
            ]
          },
          "metadata": {}
        }
      ],
      "source": [
        "model = keras.Sequential()\n",
        "model.add(layers.Dense(64, input_shape=(7,), activation='relu'))\n",
        "model.add(layers.Dropout(0.3))\n",
        "model.add(layers.Dense(32, activation='relu'))\n",
        "\n",
        "model.add(layers.Dense(1, activation='linear'))\n",
        "\n",
        "## model summary\n",
        "model.summary()"
      ]
    },
    {
      "cell_type": "code",
      "execution_count": null,
      "id": "3b1d2308",
      "metadata": {
        "id": "3b1d2308"
      },
      "outputs": [],
      "source": [
        "# Early stopping callback\n",
        "early_stopping = keras.callbacks.EarlyStopping(\n",
        "    monitor='val_loss',\n",
        "    patience=5,\n",
        "    min_delta=0.001,\n",
        "    restore_best_weights=True,\n",
        ")"
      ]
    },
    {
      "cell_type": "code",
      "execution_count": null,
      "id": "173bef88",
      "metadata": {
        "colab": {
          "base_uri": "https://localhost:8080/"
        },
        "id": "173bef88",
        "outputId": "62475623-645c-4d5c-f855-9c0773962078"
      },
      "outputs": [
        {
          "output_type": "stream",
          "name": "stdout",
          "text": [
            "Epoch 1/50\n",
            "\u001b[1m83/83\u001b[0m \u001b[32m━━━━━━━━━━━━━━━━━━━━\u001b[0m\u001b[37m\u001b[0m \u001b[1m2s\u001b[0m 7ms/step - loss: 91.5234 - mae: 8.9616 - val_loss: 33.7553 - val_mae: 4.8543\n",
            "Epoch 2/50\n",
            "\u001b[1m83/83\u001b[0m \u001b[32m━━━━━━━━━━━━━━━━━━━━\u001b[0m\u001b[37m\u001b[0m \u001b[1m1s\u001b[0m 4ms/step - loss: 31.1561 - mae: 4.5579 - val_loss: 19.5747 - val_mae: 3.5845\n",
            "Epoch 3/50\n",
            "\u001b[1m83/83\u001b[0m \u001b[32m━━━━━━━━━━━━━━━━━━━━\u001b[0m\u001b[37m\u001b[0m \u001b[1m1s\u001b[0m 4ms/step - loss: 17.0618 - mae: 3.1734 - val_loss: 7.4821 - val_mae: 1.9507\n",
            "Epoch 4/50\n",
            "\u001b[1m83/83\u001b[0m \u001b[32m━━━━━━━━━━━━━━━━━━━━\u001b[0m\u001b[37m\u001b[0m \u001b[1m1s\u001b[0m 4ms/step - loss: 8.1224 - mae: 2.0533 - val_loss: 5.9165 - val_mae: 1.7151\n",
            "Epoch 5/50\n",
            "\u001b[1m83/83\u001b[0m \u001b[32m━━━━━━━━━━━━━━━━━━━━\u001b[0m\u001b[37m\u001b[0m \u001b[1m1s\u001b[0m 4ms/step - loss: 6.5191 - mae: 1.8613 - val_loss: 5.5753 - val_mae: 1.6778\n",
            "Epoch 6/50\n",
            "\u001b[1m83/83\u001b[0m \u001b[32m━━━━━━━━━━━━━━━━━━━━\u001b[0m\u001b[37m\u001b[0m \u001b[1m1s\u001b[0m 6ms/step - loss: 6.3849 - mae: 1.8599 - val_loss: 5.3268 - val_mae: 1.6492\n",
            "Epoch 7/50\n",
            "\u001b[1m83/83\u001b[0m \u001b[32m━━━━━━━━━━━━━━━━━━━━\u001b[0m\u001b[37m\u001b[0m \u001b[1m1s\u001b[0m 7ms/step - loss: 5.8885 - mae: 1.7926 - val_loss: 5.1424 - val_mae: 1.6284\n",
            "Epoch 8/50\n",
            "\u001b[1m83/83\u001b[0m \u001b[32m━━━━━━━━━━━━━━━━━━━━\u001b[0m\u001b[37m\u001b[0m \u001b[1m1s\u001b[0m 6ms/step - loss: 5.7487 - mae: 1.8012 - val_loss: 5.0111 - val_mae: 1.5991\n",
            "Epoch 9/50\n",
            "\u001b[1m83/83\u001b[0m \u001b[32m━━━━━━━━━━━━━━━━━━━━\u001b[0m\u001b[37m\u001b[0m \u001b[1m1s\u001b[0m 6ms/step - loss: 5.6627 - mae: 1.7853 - val_loss: 4.8854 - val_mae: 1.5967\n",
            "Epoch 10/50\n",
            "\u001b[1m83/83\u001b[0m \u001b[32m━━━━━━━━━━━━━━━━━━━━\u001b[0m\u001b[37m\u001b[0m \u001b[1m1s\u001b[0m 5ms/step - loss: 5.7920 - mae: 1.7963 - val_loss: 4.8368 - val_mae: 1.5597\n",
            "Epoch 11/50\n",
            "\u001b[1m83/83\u001b[0m \u001b[32m━━━━━━━━━━━━━━━━━━━━\u001b[0m\u001b[37m\u001b[0m \u001b[1m1s\u001b[0m 5ms/step - loss: 5.5573 - mae: 1.7385 - val_loss: 4.7601 - val_mae: 1.5558\n",
            "Epoch 12/50\n",
            "\u001b[1m83/83\u001b[0m \u001b[32m━━━━━━━━━━━━━━━━━━━━\u001b[0m\u001b[37m\u001b[0m \u001b[1m1s\u001b[0m 5ms/step - loss: 5.1804 - mae: 1.7025 - val_loss: 4.7062 - val_mae: 1.5428\n",
            "Epoch 13/50\n",
            "\u001b[1m83/83\u001b[0m \u001b[32m━━━━━━━━━━━━━━━━━━━━\u001b[0m\u001b[37m\u001b[0m \u001b[1m0s\u001b[0m 5ms/step - loss: 5.3598 - mae: 1.7123 - val_loss: 4.6661 - val_mae: 1.5410\n",
            "Epoch 14/50\n",
            "\u001b[1m83/83\u001b[0m \u001b[32m━━━━━━━━━━━━━━━━━━━━\u001b[0m\u001b[37m\u001b[0m \u001b[1m1s\u001b[0m 5ms/step - loss: 5.1597 - mae: 1.7058 - val_loss: 4.6568 - val_mae: 1.5501\n",
            "Epoch 15/50\n",
            "\u001b[1m83/83\u001b[0m \u001b[32m━━━━━━━━━━━━━━━━━━━━\u001b[0m\u001b[37m\u001b[0m \u001b[1m1s\u001b[0m 5ms/step - loss: 5.2900 - mae: 1.7099 - val_loss: 4.6276 - val_mae: 1.5430\n",
            "Epoch 16/50\n",
            "\u001b[1m83/83\u001b[0m \u001b[32m━━━━━━━━━━━━━━━━━━━━\u001b[0m\u001b[37m\u001b[0m \u001b[1m1s\u001b[0m 4ms/step - loss: 5.3106 - mae: 1.7274 - val_loss: 4.6637 - val_mae: 1.5736\n",
            "Epoch 17/50\n",
            "\u001b[1m83/83\u001b[0m \u001b[32m━━━━━━━━━━━━━━━━━━━━\u001b[0m\u001b[37m\u001b[0m \u001b[1m1s\u001b[0m 5ms/step - loss: 5.0458 - mae: 1.6731 - val_loss: 4.6301 - val_mae: 1.5603\n",
            "Epoch 18/50\n",
            "\u001b[1m83/83\u001b[0m \u001b[32m━━━━━━━━━━━━━━━━━━━━\u001b[0m\u001b[37m\u001b[0m \u001b[1m1s\u001b[0m 6ms/step - loss: 5.1311 - mae: 1.6902 - val_loss: 4.5988 - val_mae: 1.5410\n",
            "Epoch 19/50\n",
            "\u001b[1m83/83\u001b[0m \u001b[32m━━━━━━━━━━━━━━━━━━━━\u001b[0m\u001b[37m\u001b[0m \u001b[1m1s\u001b[0m 6ms/step - loss: 5.0416 - mae: 1.6668 - val_loss: 4.5506 - val_mae: 1.5361\n",
            "Epoch 20/50\n",
            "\u001b[1m83/83\u001b[0m \u001b[32m━━━━━━━━━━━━━━━━━━━━\u001b[0m\u001b[37m\u001b[0m \u001b[1m0s\u001b[0m 5ms/step - loss: 4.8199 - mae: 1.6144 - val_loss: 4.5660 - val_mae: 1.5514\n",
            "Epoch 21/50\n",
            "\u001b[1m83/83\u001b[0m \u001b[32m━━━━━━━━━━━━━━━━━━━━\u001b[0m\u001b[37m\u001b[0m \u001b[1m1s\u001b[0m 6ms/step - loss: 4.9737 - mae: 1.6546 - val_loss: 4.5497 - val_mae: 1.5369\n",
            "Epoch 22/50\n",
            "\u001b[1m83/83\u001b[0m \u001b[32m━━━━━━━━━━━━━━━━━━━━\u001b[0m\u001b[37m\u001b[0m \u001b[1m1s\u001b[0m 5ms/step - loss: 4.9410 - mae: 1.6449 - val_loss: 4.5487 - val_mae: 1.5374\n",
            "Epoch 23/50\n",
            "\u001b[1m83/83\u001b[0m \u001b[32m━━━━━━━━━━━━━━━━━━━━\u001b[0m\u001b[37m\u001b[0m \u001b[1m0s\u001b[0m 4ms/step - loss: 4.9697 - mae: 1.6316 - val_loss: 4.5159 - val_mae: 1.5076\n",
            "Epoch 24/50\n",
            "\u001b[1m83/83\u001b[0m \u001b[32m━━━━━━━━━━━━━━━━━━━━\u001b[0m\u001b[37m\u001b[0m \u001b[1m0s\u001b[0m 4ms/step - loss: 4.8038 - mae: 1.6102 - val_loss: 4.5222 - val_mae: 1.5411\n",
            "Epoch 25/50\n",
            "\u001b[1m83/83\u001b[0m \u001b[32m━━━━━━━━━━━━━━━━━━━━\u001b[0m\u001b[37m\u001b[0m \u001b[1m0s\u001b[0m 4ms/step - loss: 4.7595 - mae: 1.6038 - val_loss: 4.5099 - val_mae: 1.5163\n",
            "Epoch 26/50\n",
            "\u001b[1m83/83\u001b[0m \u001b[32m━━━━━━━━━━━━━━━━━━━━\u001b[0m\u001b[37m\u001b[0m \u001b[1m0s\u001b[0m 4ms/step - loss: 4.9204 - mae: 1.6236 - val_loss: 4.5207 - val_mae: 1.5153\n",
            "Epoch 27/50\n",
            "\u001b[1m83/83\u001b[0m \u001b[32m━━━━━━━━━━━━━━━━━━━━\u001b[0m\u001b[37m\u001b[0m \u001b[1m0s\u001b[0m 5ms/step - loss: 4.7893 - mae: 1.6079 - val_loss: 4.4687 - val_mae: 1.5304\n",
            "Epoch 28/50\n",
            "\u001b[1m83/83\u001b[0m \u001b[32m━━━━━━━━━━━━━━━━━━━━\u001b[0m\u001b[37m\u001b[0m \u001b[1m1s\u001b[0m 4ms/step - loss: 4.6814 - mae: 1.6041 - val_loss: 4.4723 - val_mae: 1.5262\n",
            "Epoch 29/50\n",
            "\u001b[1m83/83\u001b[0m \u001b[32m━━━━━━━━━━━━━━━━━━━━\u001b[0m\u001b[37m\u001b[0m \u001b[1m1s\u001b[0m 6ms/step - loss: 4.5870 - mae: 1.5926 - val_loss: 4.4560 - val_mae: 1.5151\n",
            "Epoch 30/50\n",
            "\u001b[1m83/83\u001b[0m \u001b[32m━━━━━━━━━━━━━━━━━━━━\u001b[0m\u001b[37m\u001b[0m \u001b[1m1s\u001b[0m 6ms/step - loss: 4.7670 - mae: 1.6192 - val_loss: 4.4470 - val_mae: 1.5036\n",
            "Epoch 31/50\n",
            "\u001b[1m83/83\u001b[0m \u001b[32m━━━━━━━━━━━━━━━━━━━━\u001b[0m\u001b[37m\u001b[0m \u001b[1m1s\u001b[0m 6ms/step - loss: 4.6944 - mae: 1.6008 - val_loss: 4.4515 - val_mae: 1.5092\n",
            "Epoch 32/50\n",
            "\u001b[1m83/83\u001b[0m \u001b[32m━━━━━━━━━━━━━━━━━━━━\u001b[0m\u001b[37m\u001b[0m \u001b[1m1s\u001b[0m 6ms/step - loss: 4.7491 - mae: 1.6052 - val_loss: 4.4319 - val_mae: 1.5102\n",
            "Epoch 33/50\n",
            "\u001b[1m83/83\u001b[0m \u001b[32m━━━━━━━━━━━━━━━━━━━━\u001b[0m\u001b[37m\u001b[0m \u001b[1m0s\u001b[0m 4ms/step - loss: 4.6247 - mae: 1.5763 - val_loss: 4.4393 - val_mae: 1.5041\n",
            "Epoch 34/50\n",
            "\u001b[1m83/83\u001b[0m \u001b[32m━━━━━━━━━━━━━━━━━━━━\u001b[0m\u001b[37m\u001b[0m \u001b[1m0s\u001b[0m 4ms/step - loss: 4.5995 - mae: 1.5824 - val_loss: 4.3987 - val_mae: 1.4990\n",
            "Epoch 35/50\n",
            "\u001b[1m83/83\u001b[0m \u001b[32m━━━━━━━━━━━━━━━━━━━━\u001b[0m\u001b[37m\u001b[0m \u001b[1m0s\u001b[0m 4ms/step - loss: 4.5995 - mae: 1.5884 - val_loss: 4.4076 - val_mae: 1.4867\n",
            "Epoch 36/50\n",
            "\u001b[1m83/83\u001b[0m \u001b[32m━━━━━━━━━━━━━━━━━━━━\u001b[0m\u001b[37m\u001b[0m \u001b[1m1s\u001b[0m 4ms/step - loss: 4.4808 - mae: 1.5579 - val_loss: 4.4072 - val_mae: 1.4904\n",
            "Epoch 37/50\n",
            "\u001b[1m83/83\u001b[0m \u001b[32m━━━━━━━━━━━━━━━━━━━━\u001b[0m\u001b[37m\u001b[0m \u001b[1m1s\u001b[0m 4ms/step - loss: 4.5832 - mae: 1.5510 - val_loss: 4.4293 - val_mae: 1.4920\n",
            "Epoch 38/50\n",
            "\u001b[1m83/83\u001b[0m \u001b[32m━━━━━━━━━━━━━━━━━━━━\u001b[0m\u001b[37m\u001b[0m \u001b[1m1s\u001b[0m 4ms/step - loss: 4.5287 - mae: 1.5521 - val_loss: 4.4061 - val_mae: 1.4918\n",
            "Epoch 39/50\n",
            "\u001b[1m83/83\u001b[0m \u001b[32m━━━━━━━━━━━━━━━━━━━━\u001b[0m\u001b[37m\u001b[0m \u001b[1m1s\u001b[0m 5ms/step - loss: 4.5966 - mae: 1.5662 - val_loss: 4.3974 - val_mae: 1.4829\n",
            "Epoch 40/50\n",
            "\u001b[1m83/83\u001b[0m \u001b[32m━━━━━━━━━━━━━━━━━━━━\u001b[0m\u001b[37m\u001b[0m \u001b[1m0s\u001b[0m 4ms/step - loss: 4.4656 - mae: 1.5380 - val_loss: 4.3985 - val_mae: 1.5014\n",
            "Epoch 41/50\n",
            "\u001b[1m83/83\u001b[0m \u001b[32m━━━━━━━━━━━━━━━━━━━━\u001b[0m\u001b[37m\u001b[0m \u001b[1m1s\u001b[0m 4ms/step - loss: 4.4533 - mae: 1.5533 - val_loss: 4.3808 - val_mae: 1.5044\n",
            "Epoch 42/50\n",
            "\u001b[1m83/83\u001b[0m \u001b[32m━━━━━━━━━━━━━━━━━━━━\u001b[0m\u001b[37m\u001b[0m \u001b[1m0s\u001b[0m 4ms/step - loss: 4.4473 - mae: 1.5337 - val_loss: 4.3816 - val_mae: 1.4825\n",
            "Epoch 43/50\n",
            "\u001b[1m83/83\u001b[0m \u001b[32m━━━━━━━━━━━━━━━━━━━━\u001b[0m\u001b[37m\u001b[0m \u001b[1m0s\u001b[0m 4ms/step - loss: 4.3830 - mae: 1.5256 - val_loss: 4.3884 - val_mae: 1.5062\n",
            "Epoch 44/50\n",
            "\u001b[1m83/83\u001b[0m \u001b[32m━━━━━━━━━━━━━━━━━━━━\u001b[0m\u001b[37m\u001b[0m \u001b[1m1s\u001b[0m 4ms/step - loss: 4.3936 - mae: 1.5498 - val_loss: 4.3979 - val_mae: 1.4850\n",
            "Epoch 45/50\n",
            "\u001b[1m83/83\u001b[0m \u001b[32m━━━━━━━━━━━━━━━━━━━━\u001b[0m\u001b[37m\u001b[0m \u001b[1m1s\u001b[0m 6ms/step - loss: 4.3549 - mae: 1.5367 - val_loss: 4.3768 - val_mae: 1.4853\n",
            "Epoch 46/50\n",
            "\u001b[1m83/83\u001b[0m \u001b[32m━━━━━━━━━━━━━━━━━━━━\u001b[0m\u001b[37m\u001b[0m \u001b[1m1s\u001b[0m 4ms/step - loss: 4.4671 - mae: 1.5382 - val_loss: 4.3709 - val_mae: 1.4947\n",
            "Epoch 47/50\n",
            "\u001b[1m83/83\u001b[0m \u001b[32m━━━━━━━━━━━━━━━━━━━━\u001b[0m\u001b[37m\u001b[0m \u001b[1m1s\u001b[0m 4ms/step - loss: 4.3460 - mae: 1.5217 - val_loss: 4.3694 - val_mae: 1.4883\n",
            "Epoch 48/50\n",
            "\u001b[1m83/83\u001b[0m \u001b[32m━━━━━━━━━━━━━━━━━━━━\u001b[0m\u001b[37m\u001b[0m \u001b[1m1s\u001b[0m 5ms/step - loss: 4.4449 - mae: 1.5398 - val_loss: 4.3994 - val_mae: 1.5109\n",
            "Epoch 49/50\n",
            "\u001b[1m83/83\u001b[0m \u001b[32m━━━━━━━━━━━━━━━━━━━━\u001b[0m\u001b[37m\u001b[0m \u001b[1m0s\u001b[0m 5ms/step - loss: 4.3695 - mae: 1.5294 - val_loss: 4.3519 - val_mae: 1.4859\n",
            "Epoch 50/50\n",
            "\u001b[1m83/83\u001b[0m \u001b[32m━━━━━━━━━━━━━━━━━━━━\u001b[0m\u001b[37m\u001b[0m \u001b[1m1s\u001b[0m 5ms/step - loss: 4.6083 - mae: 1.5530 - val_loss: 4.3361 - val_mae: 1.4857\n"
          ]
        },
        {
          "output_type": "execute_result",
          "data": {
            "text/plain": [
              "<keras.src.callbacks.history.History at 0x7f1ed4460b90>"
            ]
          },
          "metadata": {},
          "execution_count": 28
        }
      ],
      "source": [
        "model.compile(\n",
        "    optimizer='adam',\n",
        "    loss=tf.keras.losses.MSE,\n",
        "    metrics=['mae']\n",
        ")\n",
        "\n",
        "model.fit(\n",
        "    X_train_norm,\n",
        "    y_train,\n",
        "    epochs=50,\n",
        "    validation_split=0.2,\n",
        "    batch_size=32,\n",
        "    callbacks=[early_stopping],  # early stoppings\n",
        "    )"
      ]
    },
    {
      "cell_type": "code",
      "execution_count": null,
      "id": "e6040ce5",
      "metadata": {
        "colab": {
          "base_uri": "https://localhost:8080/"
        },
        "id": "e6040ce5",
        "outputId": "5821eae6-26fc-42d0-be2e-7bca145778f6"
      },
      "outputs": [
        {
          "output_type": "stream",
          "name": "stdout",
          "text": [
            "\u001b[1m27/27\u001b[0m \u001b[32m━━━━━━━━━━━━━━━━━━━━\u001b[0m\u001b[37m\u001b[0m \u001b[1m0s\u001b[0m 3ms/step - loss: 5.6168 - mae: 1.5896 \n",
            "Test Loss: 5.129050254821777\n"
          ]
        }
      ],
      "source": [
        "results = model.evaluate(X_test_norm, y_test, verbose=1)\n",
        "print('Test Loss: {}'.format(results[0]))"
      ]
    },
    {
      "cell_type": "markdown",
      "id": "de862aa9",
      "metadata": {
        "id": "de862aa9"
      },
      "source": [
        "## Optimizers:\n",
        "\n",
        "- [SGD](https://www.tensorflow.org/api_docs/python/tf/keras/optimizers/SGD): Gradient descent with momentum\n",
        "```python\n",
        "tf.keras.optimizers.SGD(\n",
        "    learning_rate=0.01, momentum=0.0, nesterov=False, name='SGD', **kwargs\n",
        ")\n",
        "```\n",
        "If momentum is 0:\n",
        "```python\n",
        "w = w - learning_rate * gradient\n",
        "```\n",
        "If we have momentum:\n",
        "\n",
        " ```python\n",
        "velocity = momentum * velocity - learning_rate * g\n",
        "w = w + velocity\n",
        "```\n",
        "\n",
        "\n",
        "- [RMSprop](https://www.tensorflow.org/api_docs/python/tf/keras/optimizers/RMSprop): Root Mean Square Propagation\n",
        "```python\n",
        "tf.keras.optimizers.RMSprop(\n",
        "    learning_rate=0.001, rho=0.9, momentum=0.0, epsilon=1e-07, centered=False,\n",
        "    name='RMSprop', **kwargs\n",
        ")\n",
        "```\n",
        "- [Adam](https://www.tensorflow.org/api_docs/python/tf/keras/optimizers/Adam): Adaptive Moment Estimation,  is an update to the RMSProp algorithm\n",
        "```python\n",
        "tf.keras.optimizers.Adam(\n",
        "    learning_rate=0.001, beta_1=0.9, beta_2=0.999, epsilon=1e-07, amsgrad=False,\n",
        "    name='Adam', **kwargs\n",
        ")\n",
        "```\n",
        "\n",
        "```python\n",
        "model.compile(loss='mse', optimizer='adam')\n",
        "model.compile(loss='mse', optimizer=tf.keras.optimizers.Adam(learning_rate=0.001))\n",
        "```"
      ]
    },
    {
      "cell_type": "markdown",
      "id": "0d744232",
      "metadata": {
        "id": "0d744232"
      },
      "source": [
        "## Question 3: Train the same model with different optimizers"
      ]
    },
    {
      "cell_type": "code",
      "execution_count": null,
      "id": "17c797bd",
      "metadata": {
        "colab": {
          "base_uri": "https://localhost:8080/",
          "height": 327
        },
        "id": "17c797bd",
        "outputId": "8cb14cff-ce3e-44dc-9830-a0002cc4ad04"
      },
      "outputs": [
        {
          "output_type": "stream",
          "name": "stderr",
          "text": [
            "/usr/local/lib/python3.11/dist-packages/keras/src/layers/core/dense.py:87: UserWarning: Do not pass an `input_shape`/`input_dim` argument to a layer. When using Sequential models, prefer using an `Input(shape)` object as the first layer in the model instead.\n",
            "  super().__init__(activity_regularizer=activity_regularizer, **kwargs)\n"
          ]
        },
        {
          "output_type": "display_data",
          "data": {
            "text/plain": [
              "\u001b[1mModel: \"sequential_7\"\u001b[0m\n"
            ],
            "text/html": [
              "<pre style=\"white-space:pre;overflow-x:auto;line-height:normal;font-family:Menlo,'DejaVu Sans Mono',consolas,'Courier New',monospace\"><span style=\"font-weight: bold\">Model: \"sequential_7\"</span>\n",
              "</pre>\n"
            ]
          },
          "metadata": {}
        },
        {
          "output_type": "display_data",
          "data": {
            "text/plain": [
              "┏━━━━━━━━━━━━━━━━━━━━━━━━━━━━━━━━━┳━━━━━━━━━━━━━━━━━━━━━━━━┳━━━━━━━━━━━━━━━┓\n",
              "┃\u001b[1m \u001b[0m\u001b[1mLayer (type)                   \u001b[0m\u001b[1m \u001b[0m┃\u001b[1m \u001b[0m\u001b[1mOutput Shape          \u001b[0m\u001b[1m \u001b[0m┃\u001b[1m \u001b[0m\u001b[1m      Param #\u001b[0m\u001b[1m \u001b[0m┃\n",
              "┡━━━━━━━━━━━━━━━━━━━━━━━━━━━━━━━━━╇━━━━━━━━━━━━━━━━━━━━━━━━╇━━━━━━━━━━━━━━━┩\n",
              "│ dense_23 (\u001b[38;5;33mDense\u001b[0m)                │ (\u001b[38;5;45mNone\u001b[0m, \u001b[38;5;34m64\u001b[0m)             │           \u001b[38;5;34m512\u001b[0m │\n",
              "├─────────────────────────────────┼────────────────────────┼───────────────┤\n",
              "│ dropout_4 (\u001b[38;5;33mDropout\u001b[0m)             │ (\u001b[38;5;45mNone\u001b[0m, \u001b[38;5;34m64\u001b[0m)             │             \u001b[38;5;34m0\u001b[0m │\n",
              "├─────────────────────────────────┼────────────────────────┼───────────────┤\n",
              "│ dense_24 (\u001b[38;5;33mDense\u001b[0m)                │ (\u001b[38;5;45mNone\u001b[0m, \u001b[38;5;34m32\u001b[0m)             │         \u001b[38;5;34m2,080\u001b[0m │\n",
              "├─────────────────────────────────┼────────────────────────┼───────────────┤\n",
              "│ dense_25 (\u001b[38;5;33mDense\u001b[0m)                │ (\u001b[38;5;45mNone\u001b[0m, \u001b[38;5;34m1\u001b[0m)              │            \u001b[38;5;34m33\u001b[0m │\n",
              "└─────────────────────────────────┴────────────────────────┴───────────────┘\n"
            ],
            "text/html": [
              "<pre style=\"white-space:pre;overflow-x:auto;line-height:normal;font-family:Menlo,'DejaVu Sans Mono',consolas,'Courier New',monospace\">┏━━━━━━━━━━━━━━━━━━━━━━━━━━━━━━━━━┳━━━━━━━━━━━━━━━━━━━━━━━━┳━━━━━━━━━━━━━━━┓\n",
              "┃<span style=\"font-weight: bold\"> Layer (type)                    </span>┃<span style=\"font-weight: bold\"> Output Shape           </span>┃<span style=\"font-weight: bold\">       Param # </span>┃\n",
              "┡━━━━━━━━━━━━━━━━━━━━━━━━━━━━━━━━━╇━━━━━━━━━━━━━━━━━━━━━━━━╇━━━━━━━━━━━━━━━┩\n",
              "│ dense_23 (<span style=\"color: #0087ff; text-decoration-color: #0087ff\">Dense</span>)                │ (<span style=\"color: #00d7ff; text-decoration-color: #00d7ff\">None</span>, <span style=\"color: #00af00; text-decoration-color: #00af00\">64</span>)             │           <span style=\"color: #00af00; text-decoration-color: #00af00\">512</span> │\n",
              "├─────────────────────────────────┼────────────────────────┼───────────────┤\n",
              "│ dropout_4 (<span style=\"color: #0087ff; text-decoration-color: #0087ff\">Dropout</span>)             │ (<span style=\"color: #00d7ff; text-decoration-color: #00d7ff\">None</span>, <span style=\"color: #00af00; text-decoration-color: #00af00\">64</span>)             │             <span style=\"color: #00af00; text-decoration-color: #00af00\">0</span> │\n",
              "├─────────────────────────────────┼────────────────────────┼───────────────┤\n",
              "│ dense_24 (<span style=\"color: #0087ff; text-decoration-color: #0087ff\">Dense</span>)                │ (<span style=\"color: #00d7ff; text-decoration-color: #00d7ff\">None</span>, <span style=\"color: #00af00; text-decoration-color: #00af00\">32</span>)             │         <span style=\"color: #00af00; text-decoration-color: #00af00\">2,080</span> │\n",
              "├─────────────────────────────────┼────────────────────────┼───────────────┤\n",
              "│ dense_25 (<span style=\"color: #0087ff; text-decoration-color: #0087ff\">Dense</span>)                │ (<span style=\"color: #00d7ff; text-decoration-color: #00d7ff\">None</span>, <span style=\"color: #00af00; text-decoration-color: #00af00\">1</span>)              │            <span style=\"color: #00af00; text-decoration-color: #00af00\">33</span> │\n",
              "└─────────────────────────────────┴────────────────────────┴───────────────┘\n",
              "</pre>\n"
            ]
          },
          "metadata": {}
        },
        {
          "output_type": "display_data",
          "data": {
            "text/plain": [
              "\u001b[1m Total params: \u001b[0m\u001b[38;5;34m2,625\u001b[0m (10.25 KB)\n"
            ],
            "text/html": [
              "<pre style=\"white-space:pre;overflow-x:auto;line-height:normal;font-family:Menlo,'DejaVu Sans Mono',consolas,'Courier New',monospace\"><span style=\"font-weight: bold\"> Total params: </span><span style=\"color: #00af00; text-decoration-color: #00af00\">2,625</span> (10.25 KB)\n",
              "</pre>\n"
            ]
          },
          "metadata": {}
        },
        {
          "output_type": "display_data",
          "data": {
            "text/plain": [
              "\u001b[1m Trainable params: \u001b[0m\u001b[38;5;34m2,625\u001b[0m (10.25 KB)\n"
            ],
            "text/html": [
              "<pre style=\"white-space:pre;overflow-x:auto;line-height:normal;font-family:Menlo,'DejaVu Sans Mono',consolas,'Courier New',monospace\"><span style=\"font-weight: bold\"> Trainable params: </span><span style=\"color: #00af00; text-decoration-color: #00af00\">2,625</span> (10.25 KB)\n",
              "</pre>\n"
            ]
          },
          "metadata": {}
        },
        {
          "output_type": "display_data",
          "data": {
            "text/plain": [
              "\u001b[1m Non-trainable params: \u001b[0m\u001b[38;5;34m0\u001b[0m (0.00 B)\n"
            ],
            "text/html": [
              "<pre style=\"white-space:pre;overflow-x:auto;line-height:normal;font-family:Menlo,'DejaVu Sans Mono',consolas,'Courier New',monospace\"><span style=\"font-weight: bold\"> Non-trainable params: </span><span style=\"color: #00af00; text-decoration-color: #00af00\">0</span> (0.00 B)\n",
              "</pre>\n"
            ]
          },
          "metadata": {}
        }
      ],
      "source": [
        "model = keras.Sequential()\n",
        "model.add(layers.Dense(64, input_shape=(7,), activation='relu'))\n",
        "model.add(layers.Dropout(0.3))\n",
        "model.add(layers.Dense(32, activation='relu'))\n",
        "\n",
        "model.add(layers.Dense(1, activation='linear'))\n",
        "## model summary\n",
        "model.summary()"
      ]
    },
    {
      "cell_type": "code",
      "execution_count": null,
      "id": "a81ef1a6",
      "metadata": {
        "colab": {
          "base_uri": "https://localhost:8080/"
        },
        "id": "a81ef1a6",
        "outputId": "d86fe44e-9a97-4b33-f6f1-b0a1fdd0cdac"
      },
      "outputs": [
        {
          "output_type": "stream",
          "name": "stdout",
          "text": [
            "Epoch 1/50\n",
            "\u001b[1m83/83\u001b[0m \u001b[32m━━━━━━━━━━━━━━━━━━━━\u001b[0m\u001b[37m\u001b[0m \u001b[1m1s\u001b[0m 6ms/step - loss: 24.8592 - mae: 3.6731 - val_loss: 5.9489 - val_mae: 1.8029\n",
            "Epoch 2/50\n",
            "\u001b[1m83/83\u001b[0m \u001b[32m━━━━━━━━━━━━━━━━━━━━\u001b[0m\u001b[37m\u001b[0m \u001b[1m0s\u001b[0m 4ms/step - loss: 6.0232 - mae: 1.8198 - val_loss: 5.6619 - val_mae: 1.7248\n",
            "Epoch 3/50\n",
            "\u001b[1m83/83\u001b[0m \u001b[32m━━━━━━━━━━━━━━━━━━━━\u001b[0m\u001b[37m\u001b[0m \u001b[1m0s\u001b[0m 5ms/step - loss: 5.3415 - mae: 1.7047 - val_loss: 4.6492 - val_mae: 1.5603\n",
            "Epoch 4/50\n",
            "\u001b[1m83/83\u001b[0m \u001b[32m━━━━━━━━━━━━━━━━━━━━\u001b[0m\u001b[37m\u001b[0m \u001b[1m0s\u001b[0m 4ms/step - loss: 4.6682 - mae: 1.5758 - val_loss: 4.5878 - val_mae: 1.5341\n",
            "Epoch 5/50\n",
            "\u001b[1m83/83\u001b[0m \u001b[32m━━━━━━━━━━━━━━━━━━━━\u001b[0m\u001b[37m\u001b[0m \u001b[1m1s\u001b[0m 4ms/step - loss: 4.5562 - mae: 1.5698 - val_loss: 4.5775 - val_mae: 1.5617\n",
            "Epoch 6/50\n",
            "\u001b[1m83/83\u001b[0m \u001b[32m━━━━━━━━━━━━━━━━━━━━\u001b[0m\u001b[37m\u001b[0m \u001b[1m0s\u001b[0m 4ms/step - loss: 4.3902 - mae: 1.5322 - val_loss: 4.5627 - val_mae: 1.5224\n",
            "Epoch 7/50\n",
            "\u001b[1m83/83\u001b[0m \u001b[32m━━━━━━━━━━━━━━━━━━━━\u001b[0m\u001b[37m\u001b[0m \u001b[1m1s\u001b[0m 3ms/step - loss: 4.4213 - mae: 1.5173 - val_loss: 4.4490 - val_mae: 1.5294\n",
            "Epoch 8/50\n",
            "\u001b[1m83/83\u001b[0m \u001b[32m━━━━━━━━━━━━━━━━━━━━\u001b[0m\u001b[37m\u001b[0m \u001b[1m0s\u001b[0m 4ms/step - loss: 4.4139 - mae: 1.5074 - val_loss: 4.7337 - val_mae: 1.5844\n",
            "Epoch 9/50\n",
            "\u001b[1m83/83\u001b[0m \u001b[32m━━━━━━━━━━━━━━━━━━━━\u001b[0m\u001b[37m\u001b[0m \u001b[1m1s\u001b[0m 5ms/step - loss: 4.3818 - mae: 1.5326 - val_loss: 4.6260 - val_mae: 1.5400\n",
            "Epoch 10/50\n",
            "\u001b[1m83/83\u001b[0m \u001b[32m━━━━━━━━━━━━━━━━━━━━\u001b[0m\u001b[37m\u001b[0m \u001b[1m1s\u001b[0m 5ms/step - loss: 4.2973 - mae: 1.5094 - val_loss: 4.5881 - val_mae: 1.5453\n",
            "Epoch 11/50\n",
            "\u001b[1m83/83\u001b[0m \u001b[32m━━━━━━━━━━━━━━━━━━━━\u001b[0m\u001b[37m\u001b[0m \u001b[1m1s\u001b[0m 5ms/step - loss: 4.2884 - mae: 1.5139 - val_loss: 4.5008 - val_mae: 1.5415\n",
            "Epoch 12/50\n",
            "\u001b[1m83/83\u001b[0m \u001b[32m━━━━━━━━━━━━━━━━━━━━\u001b[0m\u001b[37m\u001b[0m \u001b[1m1s\u001b[0m 5ms/step - loss: 4.3067 - mae: 1.5030 - val_loss: 4.4447 - val_mae: 1.5189\n",
            "Epoch 13/50\n",
            "\u001b[1m83/83\u001b[0m \u001b[32m━━━━━━━━━━━━━━━━━━━━\u001b[0m\u001b[37m\u001b[0m \u001b[1m0s\u001b[0m 3ms/step - loss: 4.1866 - mae: 1.4931 - val_loss: 4.6391 - val_mae: 1.5576\n",
            "Epoch 14/50\n",
            "\u001b[1m83/83\u001b[0m \u001b[32m━━━━━━━━━━━━━━━━━━━━\u001b[0m\u001b[37m\u001b[0m \u001b[1m0s\u001b[0m 4ms/step - loss: 4.2768 - mae: 1.4962 - val_loss: 4.4654 - val_mae: 1.5303\n",
            "Epoch 15/50\n",
            "\u001b[1m83/83\u001b[0m \u001b[32m━━━━━━━━━━━━━━━━━━━━\u001b[0m\u001b[37m\u001b[0m \u001b[1m1s\u001b[0m 3ms/step - loss: 4.1885 - mae: 1.4925 - val_loss: 4.4092 - val_mae: 1.5279\n",
            "Epoch 16/50\n",
            "\u001b[1m83/83\u001b[0m \u001b[32m━━━━━━━━━━━━━━━━━━━━\u001b[0m\u001b[37m\u001b[0m \u001b[1m0s\u001b[0m 3ms/step - loss: 4.2256 - mae: 1.4847 - val_loss: 4.3976 - val_mae: 1.5149\n",
            "Epoch 17/50\n",
            "\u001b[1m83/83\u001b[0m \u001b[32m━━━━━━━━━━━━━━━━━━━━\u001b[0m\u001b[37m\u001b[0m \u001b[1m1s\u001b[0m 3ms/step - loss: 4.3176 - mae: 1.5088 - val_loss: 4.3885 - val_mae: 1.5067\n",
            "Epoch 18/50\n",
            "\u001b[1m83/83\u001b[0m \u001b[32m━━━━━━━━━━━━━━━━━━━━\u001b[0m\u001b[37m\u001b[0m \u001b[1m0s\u001b[0m 4ms/step - loss: 4.1784 - mae: 1.4820 - val_loss: 4.3487 - val_mae: 1.5011\n",
            "Epoch 19/50\n",
            "\u001b[1m83/83\u001b[0m \u001b[32m━━━━━━━━━━━━━━━━━━━━\u001b[0m\u001b[37m\u001b[0m \u001b[1m1s\u001b[0m 4ms/step - loss: 4.0829 - mae: 1.4744 - val_loss: 4.3962 - val_mae: 1.5161\n",
            "Epoch 20/50\n",
            "\u001b[1m83/83\u001b[0m \u001b[32m━━━━━━━━━━━━━━━━━━━━\u001b[0m\u001b[37m\u001b[0m \u001b[1m1s\u001b[0m 4ms/step - loss: 4.1027 - mae: 1.4683 - val_loss: 4.3584 - val_mae: 1.4873\n",
            "Epoch 21/50\n",
            "\u001b[1m83/83\u001b[0m \u001b[32m━━━━━━━━━━━━━━━━━━━━\u001b[0m\u001b[37m\u001b[0m \u001b[1m0s\u001b[0m 3ms/step - loss: 4.0789 - mae: 1.4643 - val_loss: 4.2972 - val_mae: 1.4880\n",
            "Epoch 22/50\n",
            "\u001b[1m83/83\u001b[0m \u001b[32m━━━━━━━━━━━━━━━━━━━━\u001b[0m\u001b[37m\u001b[0m \u001b[1m0s\u001b[0m 3ms/step - loss: 4.1483 - mae: 1.4736 - val_loss: 4.2927 - val_mae: 1.4915\n",
            "Epoch 23/50\n",
            "\u001b[1m83/83\u001b[0m \u001b[32m━━━━━━━━━━━━━━━━━━━━\u001b[0m\u001b[37m\u001b[0m \u001b[1m0s\u001b[0m 3ms/step - loss: 4.0263 - mae: 1.4565 - val_loss: 4.2940 - val_mae: 1.4797\n",
            "Epoch 24/50\n",
            "\u001b[1m83/83\u001b[0m \u001b[32m━━━━━━━━━━━━━━━━━━━━\u001b[0m\u001b[37m\u001b[0m \u001b[1m1s\u001b[0m 3ms/step - loss: 4.1939 - mae: 1.4902 - val_loss: 4.3526 - val_mae: 1.5073\n",
            "Epoch 25/50\n",
            "\u001b[1m83/83\u001b[0m \u001b[32m━━━━━━━━━━━━━━━━━━━━\u001b[0m\u001b[37m\u001b[0m \u001b[1m0s\u001b[0m 4ms/step - loss: 4.0656 - mae: 1.4724 - val_loss: 4.3213 - val_mae: 1.4896\n",
            "Epoch 26/50\n",
            "\u001b[1m83/83\u001b[0m \u001b[32m━━━━━━━━━━━━━━━━━━━━\u001b[0m\u001b[37m\u001b[0m \u001b[1m1s\u001b[0m 3ms/step - loss: 4.0576 - mae: 1.4686 - val_loss: 4.3174 - val_mae: 1.4996\n",
            "Epoch 27/50\n",
            "\u001b[1m83/83\u001b[0m \u001b[32m━━━━━━━━━━━━━━━━━━━━\u001b[0m\u001b[37m\u001b[0m \u001b[1m0s\u001b[0m 3ms/step - loss: 4.1234 - mae: 1.4710 - val_loss: 4.2850 - val_mae: 1.4823\n",
            "Epoch 28/50\n",
            "\u001b[1m83/83\u001b[0m \u001b[32m━━━━━━━━━━━━━━━━━━━━\u001b[0m\u001b[37m\u001b[0m \u001b[1m0s\u001b[0m 4ms/step - loss: 4.0225 - mae: 1.4623 - val_loss: 4.2920 - val_mae: 1.5181\n",
            "Epoch 29/50\n",
            "\u001b[1m83/83\u001b[0m \u001b[32m━━━━━━━━━━━━━━━━━━━━\u001b[0m\u001b[37m\u001b[0m \u001b[1m0s\u001b[0m 3ms/step - loss: 4.0756 - mae: 1.4670 - val_loss: 4.3352 - val_mae: 1.4761\n",
            "Epoch 30/50\n",
            "\u001b[1m83/83\u001b[0m \u001b[32m━━━━━━━━━━━━━━━━━━━━\u001b[0m\u001b[37m\u001b[0m \u001b[1m0s\u001b[0m 3ms/step - loss: 3.9757 - mae: 1.4435 - val_loss: 4.2956 - val_mae: 1.5076\n",
            "Epoch 31/50\n",
            "\u001b[1m83/83\u001b[0m \u001b[32m━━━━━━━━━━━━━━━━━━━━\u001b[0m\u001b[37m\u001b[0m \u001b[1m0s\u001b[0m 3ms/step - loss: 3.9386 - mae: 1.4484 - val_loss: 4.2899 - val_mae: 1.4868\n",
            "Epoch 32/50\n",
            "\u001b[1m83/83\u001b[0m \u001b[32m━━━━━━━━━━━━━━━━━━━━\u001b[0m\u001b[37m\u001b[0m \u001b[1m0s\u001b[0m 3ms/step - loss: 4.0794 - mae: 1.4658 - val_loss: 4.2791 - val_mae: 1.4908\n",
            "Epoch 33/50\n",
            "\u001b[1m83/83\u001b[0m \u001b[32m━━━━━━━━━━━━━━━━━━━━\u001b[0m\u001b[37m\u001b[0m \u001b[1m0s\u001b[0m 3ms/step - loss: 4.0880 - mae: 1.4638 - val_loss: 4.2419 - val_mae: 1.4821\n",
            "Epoch 34/50\n",
            "\u001b[1m83/83\u001b[0m \u001b[32m━━━━━━━━━━━━━━━━━━━━\u001b[0m\u001b[37m\u001b[0m \u001b[1m0s\u001b[0m 4ms/step - loss: 4.0966 - mae: 1.4511 - val_loss: 4.2741 - val_mae: 1.4844\n",
            "Epoch 35/50\n",
            "\u001b[1m83/83\u001b[0m \u001b[32m━━━━━━━━━━━━━━━━━━━━\u001b[0m\u001b[37m\u001b[0m \u001b[1m1s\u001b[0m 3ms/step - loss: 3.9941 - mae: 1.4550 - val_loss: 4.2483 - val_mae: 1.4901\n",
            "Epoch 36/50\n",
            "\u001b[1m83/83\u001b[0m \u001b[32m━━━━━━━━━━━━━━━━━━━━\u001b[0m\u001b[37m\u001b[0m \u001b[1m0s\u001b[0m 3ms/step - loss: 4.0469 - mae: 1.4679 - val_loss: 4.2867 - val_mae: 1.4872\n",
            "Epoch 37/50\n",
            "\u001b[1m83/83\u001b[0m \u001b[32m━━━━━━━━━━━━━━━━━━━━\u001b[0m\u001b[37m\u001b[0m \u001b[1m1s\u001b[0m 6ms/step - loss: 3.9614 - mae: 1.4491 - val_loss: 4.2707 - val_mae: 1.4644\n",
            "Epoch 38/50\n",
            "\u001b[1m83/83\u001b[0m \u001b[32m━━━━━━━━━━━━━━━━━━━━\u001b[0m\u001b[37m\u001b[0m \u001b[1m0s\u001b[0m 5ms/step - loss: 4.0989 - mae: 1.4707 - val_loss: 4.2450 - val_mae: 1.4775\n",
            "Epoch 39/50\n",
            "\u001b[1m83/83\u001b[0m \u001b[32m━━━━━━━━━━━━━━━━━━━━\u001b[0m\u001b[37m\u001b[0m \u001b[1m1s\u001b[0m 5ms/step - loss: 3.9676 - mae: 1.4590 - val_loss: 4.2851 - val_mae: 1.5037\n",
            "Epoch 40/50\n",
            "\u001b[1m83/83\u001b[0m \u001b[32m━━━━━━━━━━━━━━━━━━━━\u001b[0m\u001b[37m\u001b[0m \u001b[1m1s\u001b[0m 6ms/step - loss: 3.9586 - mae: 1.4460 - val_loss: 4.2934 - val_mae: 1.4885\n",
            "Epoch 41/50\n",
            "\u001b[1m83/83\u001b[0m \u001b[32m━━━━━━━━━━━━━━━━━━━━\u001b[0m\u001b[37m\u001b[0m \u001b[1m1s\u001b[0m 5ms/step - loss: 4.0757 - mae: 1.4782 - val_loss: 4.2971 - val_mae: 1.5004\n",
            "Epoch 42/50\n",
            "\u001b[1m83/83\u001b[0m \u001b[32m━━━━━━━━━━━━━━━━━━━━\u001b[0m\u001b[37m\u001b[0m \u001b[1m1s\u001b[0m 5ms/step - loss: 3.9874 - mae: 1.4464 - val_loss: 4.2578 - val_mae: 1.4862\n",
            "Epoch 43/50\n",
            "\u001b[1m83/83\u001b[0m \u001b[32m━━━━━━━━━━━━━━━━━━━━\u001b[0m\u001b[37m\u001b[0m \u001b[1m1s\u001b[0m 4ms/step - loss: 4.0474 - mae: 1.4691 - val_loss: 4.2178 - val_mae: 1.4853\n",
            "Epoch 44/50\n",
            "\u001b[1m83/83\u001b[0m \u001b[32m━━━━━━━━━━━━━━━━━━━━\u001b[0m\u001b[37m\u001b[0m \u001b[1m1s\u001b[0m 4ms/step - loss: 4.0873 - mae: 1.4716 - val_loss: 4.2528 - val_mae: 1.4734\n",
            "Epoch 45/50\n",
            "\u001b[1m83/83\u001b[0m \u001b[32m━━━━━━━━━━━━━━━━━━━━\u001b[0m\u001b[37m\u001b[0m \u001b[1m1s\u001b[0m 4ms/step - loss: 3.9748 - mae: 1.4494 - val_loss: 4.1907 - val_mae: 1.4698\n",
            "Epoch 46/50\n",
            "\u001b[1m83/83\u001b[0m \u001b[32m━━━━━━━━━━━━━━━━━━━━\u001b[0m\u001b[37m\u001b[0m \u001b[1m0s\u001b[0m 4ms/step - loss: 3.9987 - mae: 1.4628 - val_loss: 4.1802 - val_mae: 1.4852\n",
            "Epoch 47/50\n",
            "\u001b[1m83/83\u001b[0m \u001b[32m━━━━━━━━━━━━━━━━━━━━\u001b[0m\u001b[37m\u001b[0m \u001b[1m1s\u001b[0m 4ms/step - loss: 3.8931 - mae: 1.4306 - val_loss: 4.2525 - val_mae: 1.4887\n",
            "Epoch 48/50\n",
            "\u001b[1m83/83\u001b[0m \u001b[32m━━━━━━━━━━━━━━━━━━━━\u001b[0m\u001b[37m\u001b[0m \u001b[1m0s\u001b[0m 4ms/step - loss: 4.0118 - mae: 1.4574 - val_loss: 4.2521 - val_mae: 1.4748\n",
            "Epoch 49/50\n",
            "\u001b[1m83/83\u001b[0m \u001b[32m━━━━━━━━━━━━━━━━━━━━\u001b[0m\u001b[37m\u001b[0m \u001b[1m1s\u001b[0m 4ms/step - loss: 3.9420 - mae: 1.4334 - val_loss: 4.2092 - val_mae: 1.4590\n",
            "Epoch 50/50\n",
            "\u001b[1m83/83\u001b[0m \u001b[32m━━━━━━━━━━━━━━━━━━━━\u001b[0m\u001b[37m\u001b[0m \u001b[1m0s\u001b[0m 5ms/step - loss: 4.0240 - mae: 1.4521 - val_loss: 4.2502 - val_mae: 1.4736\n"
          ]
        },
        {
          "output_type": "execute_result",
          "data": {
            "text/plain": [
              "<keras.src.callbacks.history.History at 0x7f1ec9b4ef10>"
            ]
          },
          "metadata": {},
          "execution_count": 31
        }
      ],
      "source": [
        "model.compile(\n",
        "    optimizer='SGD',\n",
        "    loss=tf.keras.losses.MSE,\n",
        "    metrics=['mae']\n",
        ")\n",
        "model.fit(X_train_norm, y_train, epochs=50, validation_split=0.2, batch_size=32)"
      ]
    },
    {
      "cell_type": "code",
      "execution_count": null,
      "id": "b36eaf75",
      "metadata": {
        "colab": {
          "base_uri": "https://localhost:8080/"
        },
        "id": "b36eaf75",
        "outputId": "75f88465-169a-4a27-f59e-fff09ca70df1"
      },
      "outputs": [
        {
          "output_type": "stream",
          "name": "stdout",
          "text": [
            "\u001b[1m27/27\u001b[0m \u001b[32m━━━━━━━━━━━━━━━━━━━━\u001b[0m\u001b[37m\u001b[0m \u001b[1m0s\u001b[0m 3ms/step - loss: 5.5440 - mae: 1.5755\n",
            "Test Loss: 5.048673629760742\n"
          ]
        }
      ],
      "source": [
        "results = model.evaluate(X_test_norm, y_test, verbose=1)\n",
        "print('Test Loss: {}'.format(results[0]))"
      ]
    },
    {
      "cell_type": "markdown",
      "id": "2377a7ff",
      "metadata": {
        "id": "2377a7ff"
      },
      "source": [
        "# Keras Tuner : Introduction to Hyperparameter Optimization\n",
        "\n",
        "The [Keras Tuner](https://www.tensorflow.org/tutorials/keras/keras_tuner) is a library for hyper-parameter tuning.\n",
        "\n",
        "## What is Hyperparameter Tuning?\n",
        "\n",
        "Hyperparameter tuning is the process of finding the optimal set of hyperparameters for a machine learning model to maximize its performance. Unlike model parameters (weights and biases) that are learned during training, hyperparameters are set before the learning process begins and influence how the model learns.\n",
        "\n",
        "Common hyperparameters include:\n",
        "- **Model architecture**: number of layers, units per layer\n",
        "- **Training parameters**: learning rate, batch size, dropout rate\n",
        "- **Regularization**: L1/L2 penalties, early stopping criteria\n",
        "\n",
        "Manual tuning of these parameters can be time-consuming and often leads to suboptimal results. Keras Tuner provides an automated approach to efficiently search the hyperparameter space.\n",
        "\n",
        "## Understanding Different Tuning Strategies\n",
        "\n",
        "Keras Tuner offers four main strategies for hyperparameter optimization:\n",
        "\n",
        "### 1. RandomSearch\n",
        "- **How it works**: Randomly samples from the hyperparameter space\n",
        "- **Pros**: Simple, easily parallelizable, no assumptions about parameter importance\n",
        "- **Cons**: Can be inefficient for large search spaces\n",
        "- **Best for**: Initial exploration or when little is known about the hyperparameter landscape\n",
        "\n",
        "### 2. Hyperband\n",
        "- **How it works**: Allocates resources (epochs) dynamically, quickly discarding poor performers\n",
        "- **Pros**: More efficient than random search, especially for deep networks\n",
        "- **Cons**: More complex to configure correctly\n",
        "- **Best for**: When training is computationally expensive and you want to balance exploration vs. exploitation\n",
        "\n",
        "### 3. BayesianOptimization\n",
        "- **How it works**: Builds a probability model of the objective function and uses it to select hyperparameters\n",
        "- **Pros**: More efficient use of resources, learns from previous evaluations\n",
        "- **Cons**: More complex, computationally intensive for each iteration\n",
        "- **Best for**: When evaluation is expensive and you have a moderate search space\n",
        "\n",
        "### 4. Sklearn\n",
        "- **How it works**: Interface to scikit-learn's hyperparameter search methods\n",
        "- **Pros**: Familiar API for those coming from scikit-learn\n",
        "- **Cons**: Limited to sklearn's hyperparameter tuning capabilities\n",
        "- **Best for**: When integrating with existing sklearn pipelines\n"
      ]
    },
    {
      "cell_type": "code",
      "execution_count": null,
      "id": "39e7af43",
      "metadata": {
        "colab": {
          "base_uri": "https://localhost:8080/"
        },
        "id": "39e7af43",
        "outputId": "5f91fa56-d0f0-453a-af0a-5080c9a3c96d"
      },
      "outputs": [
        {
          "output_type": "stream",
          "name": "stdout",
          "text": [
            "Collecting keras-tuner\n",
            "  Downloading keras_tuner-1.4.7-py3-none-any.whl.metadata (5.4 kB)\n",
            "Requirement already satisfied: keras in /usr/local/lib/python3.11/dist-packages (from keras-tuner) (3.8.0)\n",
            "Requirement already satisfied: packaging in /usr/local/lib/python3.11/dist-packages (from keras-tuner) (24.2)\n",
            "Requirement already satisfied: requests in /usr/local/lib/python3.11/dist-packages (from keras-tuner) (2.32.3)\n",
            "Collecting kt-legacy (from keras-tuner)\n",
            "  Downloading kt_legacy-1.0.5-py3-none-any.whl.metadata (221 bytes)\n",
            "Requirement already satisfied: absl-py in /usr/local/lib/python3.11/dist-packages (from keras->keras-tuner) (1.4.0)\n",
            "Requirement already satisfied: numpy in /usr/local/lib/python3.11/dist-packages (from keras->keras-tuner) (2.0.2)\n",
            "Requirement already satisfied: rich in /usr/local/lib/python3.11/dist-packages (from keras->keras-tuner) (13.9.4)\n",
            "Requirement already satisfied: namex in /usr/local/lib/python3.11/dist-packages (from keras->keras-tuner) (0.0.9)\n",
            "Requirement already satisfied: h5py in /usr/local/lib/python3.11/dist-packages (from keras->keras-tuner) (3.13.0)\n",
            "Requirement already satisfied: optree in /usr/local/lib/python3.11/dist-packages (from keras->keras-tuner) (0.15.0)\n",
            "Requirement already satisfied: ml-dtypes in /usr/local/lib/python3.11/dist-packages (from keras->keras-tuner) (0.4.1)\n",
            "Requirement already satisfied: charset-normalizer<4,>=2 in /usr/local/lib/python3.11/dist-packages (from requests->keras-tuner) (3.4.1)\n",
            "Requirement already satisfied: idna<4,>=2.5 in /usr/local/lib/python3.11/dist-packages (from requests->keras-tuner) (3.10)\n",
            "Requirement already satisfied: urllib3<3,>=1.21.1 in /usr/local/lib/python3.11/dist-packages (from requests->keras-tuner) (2.4.0)\n",
            "Requirement already satisfied: certifi>=2017.4.17 in /usr/local/lib/python3.11/dist-packages (from requests->keras-tuner) (2025.4.26)\n",
            "Requirement already satisfied: typing-extensions>=4.5.0 in /usr/local/lib/python3.11/dist-packages (from optree->keras->keras-tuner) (4.13.2)\n",
            "Requirement already satisfied: markdown-it-py>=2.2.0 in /usr/local/lib/python3.11/dist-packages (from rich->keras->keras-tuner) (3.0.0)\n",
            "Requirement already satisfied: pygments<3.0.0,>=2.13.0 in /usr/local/lib/python3.11/dist-packages (from rich->keras->keras-tuner) (2.19.1)\n",
            "Requirement already satisfied: mdurl~=0.1 in /usr/local/lib/python3.11/dist-packages (from markdown-it-py>=2.2.0->rich->keras->keras-tuner) (0.1.2)\n",
            "Downloading keras_tuner-1.4.7-py3-none-any.whl (129 kB)\n",
            "\u001b[2K   \u001b[90m━━━━━━━━━━━━━━━━━━━━━━━━━━━━━━━━━━━━━━━━\u001b[0m \u001b[32m129.1/129.1 kB\u001b[0m \u001b[31m2.7 MB/s\u001b[0m eta \u001b[36m0:00:00\u001b[0m\n",
            "\u001b[?25hDownloading kt_legacy-1.0.5-py3-none-any.whl (9.6 kB)\n",
            "Installing collected packages: kt-legacy, keras-tuner\n",
            "Successfully installed keras-tuner-1.4.7 kt-legacy-1.0.5\n"
          ]
        }
      ],
      "source": [
        " !pip install -U keras-tuner"
      ]
    },
    {
      "cell_type": "code",
      "execution_count": null,
      "id": "8f47d1f3",
      "metadata": {
        "colab": {
          "base_uri": "https://localhost:8080/"
        },
        "id": "8f47d1f3",
        "outputId": "177b1135-f4c2-41bc-a02d-1ae87420b2a4"
      },
      "outputs": [
        {
          "output_type": "stream",
          "name": "stderr",
          "text": [
            "<ipython-input-36-5fd8096cdee5>:1: DeprecationWarning: `import kerastuner` is deprecated, please use `import keras_tuner`.\n",
            "  import kerastuner as kt\n"
          ]
        }
      ],
      "source": [
        "import kerastuner as kt"
      ]
    },
    {
      "cell_type": "markdown",
      "id": "a7e9b048",
      "metadata": {
        "id": "a7e9b048"
      },
      "source": [
        "Hyperparameters are of two types:\n",
        "1. **Model hyperparameters** like number of units, type of activation or number hidden layers.\n",
        "2. **Algorithm hyperparameters** like the learning rate in adam.\n",
        "\n",
        "The model-building function takes an argument `hp` from which you can sample hyper-parameters.\n",
        "\n",
        "```python\n",
        "def build_model(hp):\n",
        "    ...\n",
        "    return model\n",
        "\n",
        "```\n",
        "\n",
        "- `hp.Int` to sample an integer from a certain range:\n",
        "```python\n",
        "hp.Int('units', min_value=32, max_value=256, step=32, default=64)\n",
        "```\n",
        "- `hp.Float` to sample a float number from a certain range:\n",
        "```python\n",
        "hp.Float('dropout', min_value=0.0, max_value=0.1, default=0.005, step=0.05)\n",
        "```\n",
        "- `hp.Choice` to select values in a list:\n",
        "```python\n",
        "hp.Choice('learning_rate', [1e-2, 1e-3, 1e-4])\n",
        "```\n",
        "- [list of hyperparameter methods](https://keras-team.github.io/keras-tuner/documentation/hyperparameters/)"
      ]
    },
    {
      "cell_type": "code",
      "execution_count": null,
      "id": "ef99c2b2",
      "metadata": {
        "id": "ef99c2b2"
      },
      "outputs": [],
      "source": [
        "def build_model(hp):\n",
        "    model = keras.Sequential()\n",
        "    # Sample different number of layers with hp.Int\n",
        "    for i in range(hp.Int('num_layers', 1, 3)):\n",
        "        # Sample different number of layers with hp.Int\n",
        "        model.add(layers.Dense(units=hp.Int('units_' + str(i),\n",
        "                                            min_value=64,\n",
        "                                            max_value=128,\n",
        "                                            step=32),\n",
        "                               activation='relu'))\n",
        "    # Sample different activation functions with hp.Choice\n",
        "    model.add(layers.Dense(1, activation=hp.Choice('output_activation', ['relu', 'linear'])))\n",
        "\n",
        "    # Sample different activation functions with hp.Choice\n",
        "    model.compile(\n",
        "        loss='mse',\n",
        "        metrics=['mae'])\n",
        "    return model"
      ]
    },
    {
      "cell_type": "markdown",
      "id": "71047eeb",
      "metadata": {
        "id": "71047eeb"
      },
      "source": [
        "The Keras Tuner has four [tuners](https://keras-team.github.io/keras-tuner/documentation/tuners/) available  `RandomSearch`, `Hyperband`, `BayesianOptimization`, and `Sklearn`\n"
      ]
    },
    {
      "cell_type": "code",
      "execution_count": null,
      "id": "f8261f82",
      "metadata": {
        "id": "f8261f82"
      },
      "outputs": [],
      "source": [
        "tuner = kt.Hyperband(build_model,\n",
        "                     objective='val_loss',\n",
        "                     max_epochs=15,\n",
        "                     factor=3,\n",
        "                     hyperband_iterations=1,\n",
        "                     directory='my_dir',\n",
        "                     project_name='intro_to_kt')\n",
        "'''\n",
        "tuner = kt.RandomSearch(build_model,\n",
        "                     objective='val_loss',\n",
        "                     max_trials=100,\n",
        "                     directory='my_dir',\n",
        "                     project_name='intro_to_kt')\n",
        "'''\n",
        "stop_early = tf.keras.callbacks.EarlyStopping(monitor='val_loss', patience=5)"
      ]
    },
    {
      "cell_type": "code",
      "execution_count": null,
      "id": "322e674d",
      "metadata": {
        "colab": {
          "base_uri": "https://localhost:8080/"
        },
        "id": "322e674d",
        "outputId": "d6ebc3f5-0d25-4ba9-f5ad-87994ee230cb"
      },
      "outputs": [
        {
          "output_type": "stream",
          "name": "stdout",
          "text": [
            "Trial 30 Complete [00h 00m 11s]\n",
            "val_loss: 4.7142653465271\n",
            "\n",
            "Best val_loss So Far: 4.7142653465271\n",
            "Total elapsed time: 00h 02m 51s\n",
            "{'space': [{'class_name': 'Int', 'config': {'name': 'num_layers', 'default': None, 'conditions': [], 'min_value': 1, 'max_value': 3, 'step': 1, 'sampling': 'linear'}}, {'class_name': 'Int', 'config': {'name': 'units_0', 'default': None, 'conditions': [], 'min_value': 64, 'max_value': 128, 'step': 32, 'sampling': 'linear'}}, {'class_name': 'Choice', 'config': {'name': 'output_activation', 'default': 'relu', 'conditions': [], 'values': ['relu', 'linear'], 'ordered': False}}, {'class_name': 'Int', 'config': {'name': 'units_1', 'default': None, 'conditions': [], 'min_value': 64, 'max_value': 128, 'step': 32, 'sampling': 'linear'}}, {'class_name': 'Int', 'config': {'name': 'units_2', 'default': None, 'conditions': [], 'min_value': 64, 'max_value': 128, 'step': 32, 'sampling': 'linear'}}], 'values': {'num_layers': 2, 'units_0': 96, 'output_activation': 'relu', 'units_1': 96, 'units_2': 64, 'tuner/epochs': 15, 'tuner/initial_epoch': 0, 'tuner/bracket': 0, 'tuner/round': 0}}\n"
          ]
        }
      ],
      "source": [
        "tuner.search(X_train_norm, y_train, epochs=30, validation_split=0.15, batch_size=32, callbacks=[stop_early])\n",
        "\n",
        "# Get the optimal hyperparameters\n",
        "best_hps=tuner.get_best_hyperparameters(num_trials=1)[0]\n",
        "print(best_hps.get_config())"
      ]
    },
    {
      "cell_type": "code",
      "execution_count": null,
      "id": "1df6dcc9",
      "metadata": {
        "colab": {
          "base_uri": "https://localhost:8080/"
        },
        "id": "1df6dcc9",
        "outputId": "219f1183-fef7-450a-8219-af60b65bf567"
      },
      "outputs": [
        {
          "output_type": "stream",
          "name": "stdout",
          "text": [
            "Results summary\n",
            "Results in my_dir/intro_to_kt\n",
            "Showing 10 best trials\n",
            "Objective(name=\"val_loss\", direction=\"min\")\n",
            "\n",
            "Trial 0029 summary\n",
            "Hyperparameters:\n",
            "num_layers: 2\n",
            "units_0: 96\n",
            "output_activation: relu\n",
            "units_1: 96\n",
            "units_2: 64\n",
            "tuner/epochs: 15\n",
            "tuner/initial_epoch: 0\n",
            "tuner/bracket: 0\n",
            "tuner/round: 0\n",
            "Score: 4.7142653465271\n",
            "\n",
            "Trial 0028 summary\n",
            "Hyperparameters:\n",
            "num_layers: 2\n",
            "units_0: 96\n",
            "output_activation: relu\n",
            "units_1: 96\n",
            "units_2: 96\n",
            "tuner/epochs: 15\n",
            "tuner/initial_epoch: 0\n",
            "tuner/bracket: 0\n",
            "tuner/round: 0\n",
            "Score: 4.738086700439453\n",
            "\n",
            "Trial 0027 summary\n",
            "Hyperparameters:\n",
            "num_layers: 2\n",
            "units_0: 128\n",
            "output_activation: relu\n",
            "units_1: 128\n",
            "units_2: 128\n",
            "tuner/epochs: 15\n",
            "tuner/initial_epoch: 0\n",
            "tuner/bracket: 0\n",
            "tuner/round: 0\n",
            "Score: 4.7528815269470215\n",
            "\n",
            "Trial 0025 summary\n",
            "Hyperparameters:\n",
            "num_layers: 2\n",
            "units_0: 64\n",
            "output_activation: linear\n",
            "units_1: 96\n",
            "units_2: 64\n",
            "tuner/epochs: 15\n",
            "tuner/initial_epoch: 5\n",
            "tuner/bracket: 1\n",
            "tuner/round: 1\n",
            "tuner/trial_id: 0019\n",
            "Score: 4.788181304931641\n",
            "\n",
            "Trial 0017 summary\n",
            "Hyperparameters:\n",
            "num_layers: 3\n",
            "units_0: 96\n",
            "output_activation: relu\n",
            "tuner/epochs: 15\n",
            "tuner/initial_epoch: 5\n",
            "tuner/bracket: 2\n",
            "tuner/round: 2\n",
            "units_1: 64\n",
            "units_2: 64\n",
            "tuner/trial_id: 0013\n",
            "Score: 4.826751232147217\n",
            "\n",
            "Trial 0024 summary\n",
            "Hyperparameters:\n",
            "num_layers: 2\n",
            "units_0: 96\n",
            "output_activation: linear\n",
            "units_1: 128\n",
            "units_2: 64\n",
            "tuner/epochs: 15\n",
            "tuner/initial_epoch: 5\n",
            "tuner/bracket: 1\n",
            "tuner/round: 1\n",
            "tuner/trial_id: 0023\n",
            "Score: 4.840001106262207\n",
            "\n",
            "Trial 0016 summary\n",
            "Hyperparameters:\n",
            "num_layers: 3\n",
            "units_0: 64\n",
            "output_activation: relu\n",
            "units_1: 96\n",
            "units_2: 128\n",
            "tuner/epochs: 15\n",
            "tuner/initial_epoch: 5\n",
            "tuner/bracket: 2\n",
            "tuner/round: 2\n",
            "tuner/trial_id: 0012\n",
            "Score: 4.859034538269043\n",
            "\n",
            "Trial 0012 summary\n",
            "Hyperparameters:\n",
            "num_layers: 3\n",
            "units_0: 64\n",
            "output_activation: relu\n",
            "units_1: 96\n",
            "units_2: 128\n",
            "tuner/epochs: 5\n",
            "tuner/initial_epoch: 2\n",
            "tuner/bracket: 2\n",
            "tuner/round: 1\n",
            "tuner/trial_id: 0004\n",
            "Score: 4.904694080352783\n",
            "\n",
            "Trial 0013 summary\n",
            "Hyperparameters:\n",
            "num_layers: 3\n",
            "units_0: 96\n",
            "output_activation: relu\n",
            "tuner/epochs: 5\n",
            "tuner/initial_epoch: 2\n",
            "tuner/bracket: 2\n",
            "tuner/round: 1\n",
            "units_1: 64\n",
            "units_2: 64\n",
            "tuner/trial_id: 0000\n",
            "Score: 5.009204387664795\n",
            "\n",
            "Trial 0015 summary\n",
            "Hyperparameters:\n",
            "num_layers: 2\n",
            "units_0: 128\n",
            "output_activation: linear\n",
            "units_1: 64\n",
            "units_2: 64\n",
            "tuner/epochs: 5\n",
            "tuner/initial_epoch: 2\n",
            "tuner/bracket: 2\n",
            "tuner/round: 1\n",
            "tuner/trial_id: 0006\n",
            "Score: 5.068557262420654\n"
          ]
        }
      ],
      "source": [
        "tuner.results_summary() #El tuner hace búsqueda de hiperparámetros\n",
        "\n",
        "#Significado de los parámetros:\n",
        "#num_layers: numero de capas\n",
        "#units_0,1,2...: numero de neuronas en cada capa oculta\n",
        "#output_activation: activacion usada en la capa de salida\n",
        "#score: mejor métrica optimizada\n",
        "#tuner/epochs: cuantas epocas se entreno el modelo\n",
        "#turner/round, trial, bracket: internos del algoritmo de busqueda"
      ]
    },
    {
      "cell_type": "code",
      "execution_count": null,
      "id": "9d31a650",
      "metadata": {
        "colab": {
          "base_uri": "https://localhost:8080/"
        },
        "id": "9d31a650",
        "outputId": "b814963e-85e2-4cb3-9fd0-9f3664ba9f30"
      },
      "outputs": [
        {
          "output_type": "stream",
          "name": "stdout",
          "text": [
            "Best output activation function: relu\n",
            "Best number of hidden layers: 2\n",
            "Number of units of hidden layer 1: 96\n",
            "Number of units of hidden layer 2: 96\n"
          ]
        }
      ],
      "source": [
        "print(f\"Best output activation function: {best_hps.get('output_activation')}\")\n",
        "print(f\"Best number of hidden layers: {best_hps.get('num_layers')}\")\n",
        "for i in range(best_hps.get('num_layers')):\n",
        "    print(f\"Number of units of hidden layer {i+1}: {best_hps.get('units_' + str(i))}\")"
      ]
    },
    {
      "cell_type": "markdown",
      "id": "08bc610d",
      "metadata": {
        "id": "08bc610d"
      },
      "source": [
        "### Hyperparameter Importance"
      ]
    },
    {
      "cell_type": "code",
      "execution_count": null,
      "id": "41f740b0",
      "metadata": {
        "colab": {
          "base_uri": "https://localhost:8080/",
          "height": 1000
        },
        "id": "41f740b0",
        "outputId": "47462dbd-d281-4228-816d-b070a31bea4a"
      },
      "outputs": [
        {
          "output_type": "stream",
          "name": "stdout",
          "text": [
            "Extracting hyperparameter data from tuner...\n",
            "Analyzed 30 trials\n",
            "\n",
            "Top 10 configurations:\n",
            "\n",
            "Rank 1 (Score: 4.7143):\n",
            "  num_layers: 2\n",
            "  output_activation: relu\n",
            "  tuner/bracket: 0\n",
            "  tuner/epochs: 15\n",
            "  tuner/initial_epoch: 0\n",
            "  tuner/round: 0\n",
            "  tuner/trial_id: nan\n",
            "  units_0: 96\n",
            "  units_1: 96\n",
            "  units_2: 64\n",
            "\n",
            "Rank 2 (Score: 4.7381):\n",
            "  num_layers: 2\n",
            "  output_activation: relu\n",
            "  tuner/bracket: 0\n",
            "  tuner/epochs: 15\n",
            "  tuner/initial_epoch: 0\n",
            "  tuner/round: 0\n",
            "  tuner/trial_id: nan\n",
            "  units_0: 96\n",
            "  units_1: 96\n",
            "  units_2: 96\n",
            "\n",
            "Rank 3 (Score: 4.7529):\n",
            "  num_layers: 2\n",
            "  output_activation: relu\n",
            "  tuner/bracket: 0\n",
            "  tuner/epochs: 15\n",
            "  tuner/initial_epoch: 0\n",
            "  tuner/round: 0\n",
            "  tuner/trial_id: nan\n",
            "  units_0: 128\n",
            "  units_1: 128\n",
            "  units_2: 128\n",
            "\n",
            "Rank 4 (Score: 4.7882):\n",
            "  num_layers: 2\n",
            "  output_activation: linear\n",
            "  tuner/bracket: 1\n",
            "  tuner/epochs: 15\n",
            "  tuner/initial_epoch: 5\n",
            "  tuner/round: 1\n",
            "  tuner/trial_id: 0019\n",
            "  units_0: 64\n",
            "  units_1: 96\n",
            "  units_2: 64\n",
            "\n",
            "Rank 5 (Score: 4.8268):\n",
            "  num_layers: 3\n",
            "  output_activation: relu\n",
            "  tuner/bracket: 2\n",
            "  tuner/epochs: 15\n",
            "  tuner/initial_epoch: 5\n",
            "  tuner/round: 2\n",
            "  tuner/trial_id: 0013\n",
            "  units_0: 96\n",
            "  units_1: 64\n",
            "  units_2: 64\n",
            "\n",
            "Rank 6 (Score: 4.8400):\n",
            "  num_layers: 2\n",
            "  output_activation: linear\n",
            "  tuner/bracket: 1\n",
            "  tuner/epochs: 15\n",
            "  tuner/initial_epoch: 5\n",
            "  tuner/round: 1\n",
            "  tuner/trial_id: 0023\n",
            "  units_0: 96\n",
            "  units_1: 128\n",
            "  units_2: 64\n",
            "\n",
            "Rank 7 (Score: 4.8590):\n",
            "  num_layers: 3\n",
            "  output_activation: relu\n",
            "  tuner/bracket: 2\n",
            "  tuner/epochs: 15\n",
            "  tuner/initial_epoch: 5\n",
            "  tuner/round: 2\n",
            "  tuner/trial_id: 0012\n",
            "  units_0: 64\n",
            "  units_1: 96\n",
            "  units_2: 128\n",
            "\n",
            "Rank 8 (Score: 4.9047):\n",
            "  num_layers: 3\n",
            "  output_activation: relu\n",
            "  tuner/bracket: 2\n",
            "  tuner/epochs: 5\n",
            "  tuner/initial_epoch: 2\n",
            "  tuner/round: 1\n",
            "  tuner/trial_id: 0004\n",
            "  units_0: 64\n",
            "  units_1: 96\n",
            "  units_2: 128\n",
            "\n",
            "Rank 9 (Score: 5.0092):\n",
            "  num_layers: 3\n",
            "  output_activation: relu\n",
            "  tuner/bracket: 2\n",
            "  tuner/epochs: 5\n",
            "  tuner/initial_epoch: 2\n",
            "  tuner/round: 1\n",
            "  tuner/trial_id: 0000\n",
            "  units_0: 96\n",
            "  units_1: 64\n",
            "  units_2: 64\n",
            "\n",
            "Rank 10 (Score: 5.0686):\n",
            "  num_layers: 2\n",
            "  output_activation: linear\n",
            "  tuner/bracket: 2\n",
            "  tuner/epochs: 5\n",
            "  tuner/initial_epoch: 2\n",
            "  tuner/round: 1\n",
            "  tuner/trial_id: 0006\n",
            "  units_0: 128\n",
            "  units_1: 64\n",
            "  units_2: 64\n",
            "\n",
            "Training Random Forest to analyze hyperparameter importance...\n"
          ]
        },
        {
          "output_type": "display_data",
          "data": {
            "text/plain": [
              "<Figure size 1000x600 with 1 Axes>"
            ],
            "image/png": "[encoded data removed]"
          },
          "metadata": {}
        },
        {
          "output_type": "stream",
          "name": "stdout",
          "text": [
            "\n",
            "Hyperparameter importance ranking:\n",
            "1. num_layers: 0.4784\n",
            "2. tuner/bracket: 0.2095\n",
            "3. tuner/epochs: 0.2046\n",
            "4. units_0: 0.0284\n",
            "5. output_activation_relu: 0.0253\n",
            "6. units_2: 0.0201\n",
            "7. units_1: 0.0161\n",
            "8. output_activation_linear: 0.0093\n",
            "9. tuner/round: 0.0047\n",
            "10. tuner/initial_epoch: 0.0036\n",
            "11. tuner/trial_id_0004: 0.0000\n",
            "12. tuner/trial_id_0009: 0.0000\n",
            "13. tuner/trial_id_0006: 0.0000\n",
            "14. tuner/trial_id_0019: 0.0000\n",
            "15. tuner/trial_id_0013: 0.0000\n"
          ]
        },
        {
          "output_type": "display_data",
          "data": {
            "text/plain": [
              "<Figure size 800x500 with 1 Axes>"
            ],
            "image/png": "[encoded data removed]"
          },
          "metadata": {}
        },
        {
          "output_type": "stream",
          "name": "stdout",
          "text": [
            "\n",
            "Analysis complete. Use these insights to refine your hyperparameter search!\n"
          ]
        }
      ],
      "source": [
        "import numpy as np\n",
        "import pandas as pd\n",
        "import matplotlib.pyplot as plt\n",
        "from sklearn.ensemble import RandomForestRegressor\n",
        "import seaborn as sns\n",
        "\n",
        "def analyze_hyperparameter_importance(tuner, top_n=10):\n",
        "    \"\"\"\n",
        "    Analyze the importance of different hyperparameters using Random Forest.\n",
        "\n",
        "    Parameters:\n",
        "    -----------\n",
        "    tuner : keras_tuner.Tuner\n",
        "        The tuner object after running a hyperparameter search\n",
        "    top_n : int, default=10\n",
        "        Number of top trials to print\n",
        "\n",
        "    Returns:\n",
        "    --------\n",
        "    importance_df : pandas.DataFrame\n",
        "        DataFrame containing the importance of each hyperparameter\n",
        "    \"\"\"\n",
        "    print(\"Extracting hyperparameter data from tuner...\")\n",
        "\n",
        "    # Extract hyperparameters and scores from tuner\n",
        "    hp_results = []\n",
        "\n",
        "    for trial_id, trial in tuner.oracle.trials.items():\n",
        "        if trial.score is not None:  # Only include completed trials\n",
        "            # Get hyperparameters\n",
        "            hp_values = trial.hyperparameters.values\n",
        "            # Add score (lower is better for loss)\n",
        "            hp_values['score'] = trial.score\n",
        "            hp_results.append(hp_values)\n",
        "\n",
        "    # Convert to DataFrame\n",
        "    results_df = pd.DataFrame(hp_results)\n",
        "\n",
        "    # Show basic stats\n",
        "    print(f\"Analyzed {len(results_df)} trials\")\n",
        "    print(\"\\nTop {top_n} configurations:\".format(top_n=top_n))\n",
        "    top_configs = results_df.sort_values('score').head(top_n)\n",
        "    for i, (_, config) in enumerate(top_configs.iterrows()):\n",
        "        print(f\"\\nRank {i+1} (Score: {config['score']:.4f}):\")\n",
        "        for param, value in sorted(config.items()):\n",
        "            if param != 'score':\n",
        "                print(f\"  {param}: {value}\")\n",
        "\n",
        "    # Prepare data for Random Forest\n",
        "    X = results_df.drop('score', axis=1)\n",
        "\n",
        "    # Convert non-numeric columns to numeric\n",
        "    for col in X.columns:\n",
        "        if X[col].dtype == 'object':\n",
        "            # Create dummies for categorical variables\n",
        "            dummies = pd.get_dummies(X[col], prefix=col)\n",
        "            X = pd.concat([X.drop(col, axis=1), dummies], axis=1)\n",
        "\n",
        "    y = results_df['score']\n",
        "\n",
        "    # Train Random Forest for feature importance\n",
        "    print(\"\\nTraining Random Forest to analyze hyperparameter importance...\")\n",
        "    rf = RandomForestRegressor(n_estimators=100, random_state=42)\n",
        "    rf.fit(X, y)\n",
        "\n",
        "    # Get feature importance\n",
        "    importance = rf.feature_importances_\n",
        "\n",
        "    # Create DataFrame of features and importance\n",
        "    importance_df = pd.DataFrame({\n",
        "        'Feature': X.columns,\n",
        "        'Importance': importance\n",
        "    }).sort_values('Importance', ascending=False)\n",
        "\n",
        "    # Plot feature importance\n",
        "    plt.figure(figsize=(10, 6))\n",
        "    sns.barplot(x='Importance', y='Feature', data=importance_df.head(15))\n",
        "    plt.title('Hyperparameter Importance')\n",
        "    plt.tight_layout()\n",
        "    plt.show()\n",
        "\n",
        "    # Print importance values\n",
        "    print(\"\\nHyperparameter importance ranking:\")\n",
        "    for i, (_, row) in enumerate(importance_df.iterrows()):\n",
        "        if i < 15:  # Print top 15\n",
        "            print(f\"{i+1}. {row['Feature']}: {row['Importance']:.4f}\")\n",
        "\n",
        "    # Analyze top feature's impact with partial dependence plot\n",
        "    top_feature = importance_df.iloc[0]['Feature']\n",
        "    if top_feature in X.columns:  # Ensure it's a numeric feature\n",
        "        plt.figure(figsize=(8, 5))\n",
        "        plt.scatter(X[top_feature], y, alpha=0.6)\n",
        "        plt.title(f'Impact of {top_feature} on Model Performance')\n",
        "        plt.xlabel(top_feature)\n",
        "        plt.ylabel('Score (lower is better)')\n",
        "        plt.grid(True, alpha=0.3)\n",
        "        plt.tight_layout()\n",
        "        plt.show()\n",
        "\n",
        "    print(\"\\nAnalysis complete. Use these insights to refine your hyperparameter search!\")\n",
        "\n",
        "    return importance_df\n",
        "\n",
        "\n",
        "\n",
        "# After running tuner.search():\n",
        "\n",
        "# 1. Get overall importance\n",
        "importance_df = analyze_hyperparameter_importance(tuner)\n",
        "\n",
        "\n"
      ]
    },
    {
      "cell_type": "markdown",
      "id": "6df9ffad",
      "metadata": {
        "id": "6df9ffad"
      },
      "source": [
        "## Train the model"
      ]
    },
    {
      "cell_type": "code",
      "execution_count": null,
      "id": "5b439536",
      "metadata": {
        "colab": {
          "base_uri": "https://localhost:8080/"
        },
        "id": "5b439536",
        "outputId": "27d683ca-b259-42d2-a665-7c9031e87bc1"
      },
      "outputs": [
        {
          "output_type": "stream",
          "name": "stdout",
          "text": [
            "Epoch 1/50\n",
            "\u001b[1m89/89\u001b[0m \u001b[32m━━━━━━━━━━━━━━━━━━━━\u001b[0m\u001b[37m\u001b[0m \u001b[1m2s\u001b[0m 10ms/step - loss: 60.8285 - mae: 6.6380 - val_loss: 13.7887 - val_mae: 2.7917\n",
            "Epoch 2/50\n",
            "\u001b[1m89/89\u001b[0m \u001b[32m━━━━━━━━━━━━━━━━━━━━\u001b[0m\u001b[37m\u001b[0m \u001b[1m1s\u001b[0m 4ms/step - loss: 10.5965 - mae: 2.3032 - val_loss: 6.7075 - val_mae: 1.8809\n",
            "Epoch 3/50\n",
            "\u001b[1m89/89\u001b[0m \u001b[32m━━━━━━━━━━━━━━━━━━━━\u001b[0m\u001b[37m\u001b[0m \u001b[1m0s\u001b[0m 3ms/step - loss: 6.6092 - mae: 1.8279 - val_loss: 5.8466 - val_mae: 1.7375\n",
            "Epoch 4/50\n",
            "\u001b[1m89/89\u001b[0m \u001b[32m━━━━━━━━━━━━━━━━━━━━\u001b[0m\u001b[37m\u001b[0m \u001b[1m1s\u001b[0m 3ms/step - loss: 5.7269 - mae: 1.7077 - val_loss: 5.4040 - val_mae: 1.6550\n",
            "Epoch 5/50\n",
            "\u001b[1m89/89\u001b[0m \u001b[32m━━━━━━━━━━━━━━━━━━━━\u001b[0m\u001b[37m\u001b[0m \u001b[1m1s\u001b[0m 4ms/step - loss: 5.2258 - mae: 1.6361 - val_loss: 5.1651 - val_mae: 1.6143\n",
            "Epoch 6/50\n",
            "\u001b[1m89/89\u001b[0m \u001b[32m━━━━━━━━━━━━━━━━━━━━\u001b[0m\u001b[37m\u001b[0m \u001b[1m1s\u001b[0m 4ms/step - loss: 4.9365 - mae: 1.5947 - val_loss: 5.0344 - val_mae: 1.5894\n",
            "Epoch 7/50\n",
            "\u001b[1m89/89\u001b[0m \u001b[32m━━━━━━━━━━━━━━━━━━━━\u001b[0m\u001b[37m\u001b[0m \u001b[1m1s\u001b[0m 4ms/step - loss: 4.7575 - mae: 1.5708 - val_loss: 4.9534 - val_mae: 1.5753\n",
            "Epoch 8/50\n",
            "\u001b[1m89/89\u001b[0m \u001b[32m━━━━━━━━━━━━━━━━━━━━\u001b[0m\u001b[37m\u001b[0m \u001b[1m1s\u001b[0m 4ms/step - loss: 4.6308 - mae: 1.5554 - val_loss: 4.9050 - val_mae: 1.5693\n",
            "Epoch 9/50\n",
            "\u001b[1m89/89\u001b[0m \u001b[32m━━━━━━━━━━━━━━━━━━━━\u001b[0m\u001b[37m\u001b[0m \u001b[1m0s\u001b[0m 4ms/step - loss: 4.5349 - mae: 1.5446 - val_loss: 4.8651 - val_mae: 1.5633\n",
            "Epoch 10/50\n",
            "\u001b[1m89/89\u001b[0m \u001b[32m━━━━━━━━━━━━━━━━━━━━\u001b[0m\u001b[37m\u001b[0m \u001b[1m0s\u001b[0m 3ms/step - loss: 4.4591 - mae: 1.5360 - val_loss: 4.8302 - val_mae: 1.5585\n",
            "Epoch 11/50\n",
            "\u001b[1m89/89\u001b[0m \u001b[32m━━━━━━━━━━━━━━━━━━━━\u001b[0m\u001b[37m\u001b[0m \u001b[1m1s\u001b[0m 4ms/step - loss: 4.3970 - mae: 1.5288 - val_loss: 4.8036 - val_mae: 1.5549\n",
            "Epoch 12/50\n",
            "\u001b[1m89/89\u001b[0m \u001b[32m━━━━━━━━━━━━━━━━━━━━\u001b[0m\u001b[37m\u001b[0m \u001b[1m1s\u001b[0m 3ms/step - loss: 4.3465 - mae: 1.5223 - val_loss: 4.7781 - val_mae: 1.5498\n",
            "Epoch 13/50\n",
            "\u001b[1m89/89\u001b[0m \u001b[32m━━━━━━━━━━━━━━━━━━━━\u001b[0m\u001b[37m\u001b[0m \u001b[1m0s\u001b[0m 3ms/step - loss: 4.3059 - mae: 1.5178 - val_loss: 4.7601 - val_mae: 1.5454\n",
            "Epoch 14/50\n",
            "\u001b[1m89/89\u001b[0m \u001b[32m━━━━━━━━━━━━━━━━━━━━\u001b[0m\u001b[37m\u001b[0m \u001b[1m1s\u001b[0m 3ms/step - loss: 4.2710 - mae: 1.5135 - val_loss: 4.7398 - val_mae: 1.5411\n",
            "Epoch 15/50\n",
            "\u001b[1m89/89\u001b[0m \u001b[32m━━━━━━━━━━━━━━━━━━━━\u001b[0m\u001b[37m\u001b[0m \u001b[1m0s\u001b[0m 4ms/step - loss: 4.2422 - mae: 1.5093 - val_loss: 4.7249 - val_mae: 1.5368\n",
            "Epoch 16/50\n",
            "\u001b[1m89/89\u001b[0m \u001b[32m━━━━━━━━━━━━━━━━━━━━\u001b[0m\u001b[37m\u001b[0m \u001b[1m1s\u001b[0m 4ms/step - loss: 4.2167 - mae: 1.5056 - val_loss: 4.7136 - val_mae: 1.5335\n",
            "Epoch 17/50\n",
            "\u001b[1m89/89\u001b[0m \u001b[32m━━━━━━━━━━━━━━━━━━━━\u001b[0m\u001b[37m\u001b[0m \u001b[1m1s\u001b[0m 3ms/step - loss: 4.1932 - mae: 1.5018 - val_loss: 4.6999 - val_mae: 1.5317\n",
            "Epoch 18/50\n",
            "\u001b[1m89/89\u001b[0m \u001b[32m━━━━━━━━━━━━━━━━━━━━\u001b[0m\u001b[37m\u001b[0m \u001b[1m1s\u001b[0m 3ms/step - loss: 4.1672 - mae: 1.4972 - val_loss: 4.6852 - val_mae: 1.5286\n",
            "Epoch 19/50\n",
            "\u001b[1m89/89\u001b[0m \u001b[32m━━━━━━━━━━━━━━━━━━━━\u001b[0m\u001b[37m\u001b[0m \u001b[1m1s\u001b[0m 3ms/step - loss: 4.1448 - mae: 1.4934 - val_loss: 4.6730 - val_mae: 1.5261\n",
            "Epoch 20/50\n",
            "\u001b[1m89/89\u001b[0m \u001b[32m━━━━━━━━━━━━━━━━━━━━\u001b[0m\u001b[37m\u001b[0m \u001b[1m0s\u001b[0m 3ms/step - loss: 4.1261 - mae: 1.4899 - val_loss: 4.6683 - val_mae: 1.5241\n",
            "Epoch 21/50\n",
            "\u001b[1m89/89\u001b[0m \u001b[32m━━━━━━━━━━━━━━━━━━━━\u001b[0m\u001b[37m\u001b[0m \u001b[1m1s\u001b[0m 5ms/step - loss: 4.1099 - mae: 1.4865 - val_loss: 4.6633 - val_mae: 1.5212\n",
            "Epoch 22/50\n",
            "\u001b[1m89/89\u001b[0m \u001b[32m━━━━━━━━━━━━━━━━━━━━\u001b[0m\u001b[37m\u001b[0m \u001b[1m1s\u001b[0m 6ms/step - loss: 4.0966 - mae: 1.4837 - val_loss: 4.6642 - val_mae: 1.5195\n",
            "Epoch 23/50\n",
            "\u001b[1m89/89\u001b[0m \u001b[32m━━━━━━━━━━━━━━━━━━━━\u001b[0m\u001b[37m\u001b[0m \u001b[1m1s\u001b[0m 6ms/step - loss: 4.0816 - mae: 1.4806 - val_loss: 4.6567 - val_mae: 1.5187\n",
            "Epoch 24/50\n",
            "\u001b[1m89/89\u001b[0m \u001b[32m━━━━━━━━━━━━━━━━━━━━\u001b[0m\u001b[37m\u001b[0m \u001b[1m0s\u001b[0m 4ms/step - loss: 4.0691 - mae: 1.4782 - val_loss: 4.6494 - val_mae: 1.5164\n",
            "Epoch 25/50\n",
            "\u001b[1m89/89\u001b[0m \u001b[32m━━━━━━━━━━━━━━━━━━━━\u001b[0m\u001b[37m\u001b[0m \u001b[1m0s\u001b[0m 3ms/step - loss: 4.0550 - mae: 1.4751 - val_loss: 4.6437 - val_mae: 1.5147\n",
            "Epoch 26/50\n",
            "\u001b[1m89/89\u001b[0m \u001b[32m━━━━━━━━━━━━━━━━━━━━\u001b[0m\u001b[37m\u001b[0m \u001b[1m0s\u001b[0m 3ms/step - loss: 4.0433 - mae: 1.4726 - val_loss: 4.6388 - val_mae: 1.5133\n",
            "Epoch 27/50\n",
            "\u001b[1m89/89\u001b[0m \u001b[32m━━━━━━━━━━━━━━━━━━━━\u001b[0m\u001b[37m\u001b[0m \u001b[1m0s\u001b[0m 3ms/step - loss: 4.0316 - mae: 1.4698 - val_loss: 4.6344 - val_mae: 1.5121\n",
            "Epoch 28/50\n",
            "\u001b[1m89/89\u001b[0m \u001b[32m━━━━━━━━━━━━━━━━━━━━\u001b[0m\u001b[37m\u001b[0m \u001b[1m1s\u001b[0m 4ms/step - loss: 4.0214 - mae: 1.4676 - val_loss: 4.6331 - val_mae: 1.5109\n",
            "Epoch 29/50\n",
            "\u001b[1m89/89\u001b[0m \u001b[32m━━━━━━━━━━━━━━━━━━━━\u001b[0m\u001b[37m\u001b[0m \u001b[1m1s\u001b[0m 3ms/step - loss: 4.0117 - mae: 1.4653 - val_loss: 4.6319 - val_mae: 1.5106\n",
            "Epoch 30/50\n",
            "\u001b[1m89/89\u001b[0m \u001b[32m━━━━━━━━━━━━━━━━━━━━\u001b[0m\u001b[37m\u001b[0m \u001b[1m0s\u001b[0m 3ms/step - loss: 4.0006 - mae: 1.4627 - val_loss: 4.6325 - val_mae: 1.5097\n",
            "Epoch 31/50\n",
            "\u001b[1m89/89\u001b[0m \u001b[32m━━━━━━━━━━━━━━━━━━━━\u001b[0m\u001b[37m\u001b[0m \u001b[1m1s\u001b[0m 4ms/step - loss: 3.9924 - mae: 1.4607 - val_loss: 4.6292 - val_mae: 1.5088\n",
            "Epoch 32/50\n",
            "\u001b[1m89/89\u001b[0m \u001b[32m━━━━━━━━━━━━━━━━━━━━\u001b[0m\u001b[37m\u001b[0m \u001b[1m0s\u001b[0m 3ms/step - loss: 3.9838 - mae: 1.4584 - val_loss: 4.6282 - val_mae: 1.5074\n",
            "Epoch 33/50\n",
            "\u001b[1m89/89\u001b[0m \u001b[32m━━━━━━━━━━━━━━━━━━━━\u001b[0m\u001b[37m\u001b[0m \u001b[1m1s\u001b[0m 4ms/step - loss: 3.9729 - mae: 1.4561 - val_loss: 4.6329 - val_mae: 1.5079\n",
            "Epoch 34/50\n",
            "\u001b[1m89/89\u001b[0m \u001b[32m━━━━━━━━━━━━━━━━━━━━\u001b[0m\u001b[37m\u001b[0m \u001b[1m0s\u001b[0m 3ms/step - loss: 3.9653 - mae: 1.4540 - val_loss: 4.6265 - val_mae: 1.5069\n",
            "Epoch 35/50\n",
            "\u001b[1m89/89\u001b[0m \u001b[32m━━━━━━━━━━━━━━━━━━━━\u001b[0m\u001b[37m\u001b[0m \u001b[1m1s\u001b[0m 4ms/step - loss: 3.9551 - mae: 1.4516 - val_loss: 4.6274 - val_mae: 1.5062\n",
            "Epoch 36/50\n",
            "\u001b[1m89/89\u001b[0m \u001b[32m━━━━━━━━━━━━━━━━━━━━\u001b[0m\u001b[37m\u001b[0m \u001b[1m1s\u001b[0m 3ms/step - loss: 3.9454 - mae: 1.4500 - val_loss: 4.6295 - val_mae: 1.5066\n",
            "Epoch 37/50\n",
            "\u001b[1m89/89\u001b[0m \u001b[32m━━━━━━━━━━━━━━━━━━━━\u001b[0m\u001b[37m\u001b[0m \u001b[1m0s\u001b[0m 3ms/step - loss: 3.9396 - mae: 1.4482 - val_loss: 4.6270 - val_mae: 1.5063\n",
            "Epoch 38/50\n",
            "\u001b[1m89/89\u001b[0m \u001b[32m━━━━━━━━━━━━━━━━━━━━\u001b[0m\u001b[37m\u001b[0m \u001b[1m1s\u001b[0m 3ms/step - loss: 3.9319 - mae: 1.4465 - val_loss: 4.6265 - val_mae: 1.5061\n",
            "Epoch 39/50\n",
            "\u001b[1m89/89\u001b[0m \u001b[32m━━━━━━━━━━━━━━━━━━━━\u001b[0m\u001b[37m\u001b[0m \u001b[1m1s\u001b[0m 3ms/step - loss: 3.9252 - mae: 1.4448 - val_loss: 4.6237 - val_mae: 1.5058\n",
            "Epoch 40/50\n",
            "\u001b[1m89/89\u001b[0m \u001b[32m━━━━━━━━━━━━━━━━━━━━\u001b[0m\u001b[37m\u001b[0m \u001b[1m0s\u001b[0m 3ms/step - loss: 3.9174 - mae: 1.4433 - val_loss: 4.6274 - val_mae: 1.5061\n",
            "Epoch 41/50\n",
            "\u001b[1m89/89\u001b[0m \u001b[32m━━━━━━━━━━━━━━━━━━━━\u001b[0m\u001b[37m\u001b[0m \u001b[1m1s\u001b[0m 3ms/step - loss: 3.9116 - mae: 1.4420 - val_loss: 4.6256 - val_mae: 1.5058\n",
            "Epoch 42/50\n",
            "\u001b[1m89/89\u001b[0m \u001b[32m━━━━━━━━━━━━━━━━━━━━\u001b[0m\u001b[37m\u001b[0m \u001b[1m0s\u001b[0m 3ms/step - loss: 3.9037 - mae: 1.4401 - val_loss: 4.6270 - val_mae: 1.5059\n",
            "Epoch 43/50\n",
            "\u001b[1m89/89\u001b[0m \u001b[32m━━━━━━━━━━━━━━━━━━━━\u001b[0m\u001b[37m\u001b[0m \u001b[1m0s\u001b[0m 3ms/step - loss: 3.8978 - mae: 1.4392 - val_loss: 4.6277 - val_mae: 1.5060\n",
            "Epoch 44/50\n",
            "\u001b[1m89/89\u001b[0m \u001b[32m━━━━━━━━━━━━━━━━━━━━\u001b[0m\u001b[37m\u001b[0m \u001b[1m1s\u001b[0m 3ms/step - loss: 3.8900 - mae: 1.4373 - val_loss: 4.6249 - val_mae: 1.5058\n"
          ]
        }
      ],
      "source": [
        "model = tuner.hypermodel.build(best_hps)\n",
        "history = model.fit(X_train_norm, y_train, epochs=50, validation_split=0.15, callbacks=[stop_early])"
      ]
    },
    {
      "cell_type": "code",
      "execution_count": null,
      "id": "57509bd4",
      "metadata": {
        "colab": {
          "base_uri": "https://localhost:8080/"
        },
        "id": "57509bd4",
        "outputId": "f1c64245-e024-4108-f57c-d39fac7a8ccc"
      },
      "outputs": [
        {
          "output_type": "stream",
          "name": "stdout",
          "text": [
            "\u001b[1m27/27\u001b[0m \u001b[32m━━━━━━━━━━━━━━━━━━━━\u001b[0m\u001b[37m\u001b[0m \u001b[1m0s\u001b[0m 3ms/step - loss: 5.8103 - mae: 1.5997\n",
            "Test Loss: 5.287020683288574\n"
          ]
        }
      ],
      "source": [
        "results = model.evaluate(X_test_norm, y_test, verbose=1)\n",
        "print('Test Loss: {}'.format(results[0]))"
      ]
    },
    {
      "cell_type": "markdown",
      "id": "6cbf5a27",
      "metadata": {
        "id": "6cbf5a27"
      },
      "source": [
        "## Question 4: Try to search with dropout"
      ]
    },
    {
      "cell_type": "code",
      "execution_count": null,
      "id": "27c7b527",
      "metadata": {
        "id": "27c7b527"
      },
      "outputs": [],
      "source": [
        "def build_model(hp):\n",
        "    \"\"\"Build a model with tunable architecture and dropout regularization.\"\"\"\n",
        "    model = keras.Sequential()\n",
        "\n",
        "    # Tune the number of layers (try 1-4 layers)\n",
        "    for i in range(hp.Int('num_layers', min_value=1, max_value=3)):\n",
        "        # Tune the number of units in each layer\n",
        "        model.add(layers.Dense(\n",
        "            units=hp.Int(f'units_{i}', min_value=32, max_value=128, step=32),\n",
        "            activation=hp.Choice(f'activation_{i}', values=['relu', 'tanh'])\n",
        "        ))\n",
        "\n",
        "        # Add dropout after the dense layer\n",
        "        # Hint: Experiment with different dropout ranges\n",
        "        model.add(layers.Dropout(\n",
        "            hp.Float(f'dropout_{i}', min_value=0.1, max_value=0.5, step=0.1)))\n",
        "\n",
        "    # Output layer for regression)\n",
        "    model.add(layers.Dense(1, activation='linear'))\n",
        "\n",
        "    # Tune the optimizer and learning rate\n",
        "    # Hint: Try different optimizers and log-scale for learning rate\n",
        "    optimizer_choice = hp.Choice('optimizer', values=['adam', 'rmsprop', 'sgd'])\n",
        "    learning_rate = hp.Float('learning_rate', min_value=1e-4, max_value=1e-2, sampling='log')\n",
        "\n",
        "    if optimizer_choice == 'adam':\n",
        "        optimizer = keras.optimizers.Adam(learning_rate=learning_rate)\n",
        "    elif optimizer_choice == 'rmsprop':\n",
        "        optimizer = keras.optimizers.RMSprop(learning_rate=learning_rate)\n",
        "    else:\n",
        "        optimizer = keras.optimizers.SGD(learning_rate=learning_rate)\n",
        "\n",
        " #Compile the model\n",
        "    model.compile(\n",
        "        optimizer=optimizer,\n",
        "        loss='mse',\n",
        "        metrics=['mae']\n",
        "    )\n",
        "\n",
        "    return model"
      ]
    },
    {
      "cell_type": "code",
      "execution_count": null,
      "id": "659d9de9",
      "metadata": {
        "colab": {
          "base_uri": "https://localhost:8080/"
        },
        "id": "659d9de9",
        "outputId": "bb769f42-2642-4676-f08f-baf382700cc5"
      },
      "outputs": [
        {
          "output_type": "stream",
          "name": "stdout",
          "text": [
            "Reloading Tuner from my_dir_2/intro_to_kt/tuner0.json\n",
            "{'space': [{'class_name': 'Int', 'config': {'name': 'num_layers', 'default': None, 'conditions': [], 'min_value': 1, 'max_value': 3, 'step': 1, 'sampling': 'linear'}}, {'class_name': 'Int', 'config': {'name': 'units_0', 'default': None, 'conditions': [], 'min_value': 32, 'max_value': 128, 'step': 32, 'sampling': 'linear'}}, {'class_name': 'Choice', 'config': {'name': 'activation_0', 'default': 'relu', 'conditions': [], 'values': ['relu', 'tanh'], 'ordered': False}}, {'class_name': 'Float', 'config': {'name': 'dropout_0', 'default': 0.1, 'conditions': [], 'min_value': 0.1, 'max_value': 0.5, 'step': 0.1, 'sampling': 'linear'}}, {'class_name': 'Int', 'config': {'name': 'units_1', 'default': None, 'conditions': [], 'min_value': 32, 'max_value': 128, 'step': 32, 'sampling': 'linear'}}, {'class_name': 'Choice', 'config': {'name': 'activation_1', 'default': 'relu', 'conditions': [], 'values': ['relu', 'tanh'], 'ordered': False}}, {'class_name': 'Float', 'config': {'name': 'dropout_1', 'default': 0.1, 'conditions': [], 'min_value': 0.1, 'max_value': 0.5, 'step': 0.1, 'sampling': 'linear'}}, {'class_name': 'Int', 'config': {'name': 'units_2', 'default': None, 'conditions': [], 'min_value': 32, 'max_value': 128, 'step': 32, 'sampling': 'linear'}}, {'class_name': 'Choice', 'config': {'name': 'activation_2', 'default': 'relu', 'conditions': [], 'values': ['relu', 'tanh'], 'ordered': False}}, {'class_name': 'Float', 'config': {'name': 'dropout_2', 'default': 0.1, 'conditions': [], 'min_value': 0.1, 'max_value': 0.5, 'step': 0.1, 'sampling': 'linear'}}], 'values': {'num_layers': 3, 'units_0': 64, 'activation_0': 'relu', 'dropout_0': 0.4, 'units_1': 64, 'activation_1': 'tanh', 'dropout_1': 0.1, 'tuner/epochs': 15, 'tuner/initial_epoch': 5, 'tuner/bracket': 2, 'tuner/round': 2, 'units_2': 32, 'activation_2': 'relu', 'dropout_2': 0.1, 'tuner/trial_id': '0012'}}\n"
          ]
        }
      ],
      "source": [
        "tuner = kt.Hyperband(build_model,\n",
        "                     objective='val_loss',\n",
        "                     max_epochs=15,\n",
        "                     factor=3,\n",
        "                     hyperband_iterations=1,\n",
        "                     directory='my_dir_2',\n",
        "                     project_name='intro_to_kt')\n",
        "\n",
        "stop_early = tf.keras.callbacks.EarlyStopping(\n",
        "    monitor='val_loss',\n",
        "    patience=5,\n",
        "    restore_best_weights=True\n",
        "    )\n",
        "tuner.search(X_train_norm, y_train, epochs=20, validation_split=0.15,\n",
        "             batch_size=32, callbacks=[stop_early])\n",
        "\n",
        "# Get the optimal hyperparameters\n",
        "best_hps = tuner.get_best_hyperparameters(num_trials=1)[0]\n",
        "print(best_hps.get_config())"
      ]
    },
    {
      "cell_type": "code",
      "execution_count": null,
      "id": "0eb414e1",
      "metadata": {
        "colab": {
          "base_uri": "https://localhost:8080/",
          "height": 332
        },
        "id": "0eb414e1",
        "outputId": "510c883c-32f3-4b6f-82aa-3e0887af2f72"
      },
      "outputs": [
        {
          "output_type": "error",
          "ename": "KeyError",
          "evalue": "'learning_rate does not exist.'",
          "traceback": [
            "\u001b[0;31m---------------------------------------------------------------------------\u001b[0m",
            "\u001b[0;31mKeyError\u001b[0m                                  Traceback (most recent call last)",
            "\u001b[0;32m<ipython-input-57-ccd0bd5d074f>\u001b[0m in \u001b[0;36m<cell line: 0>\u001b[0;34m()\u001b[0m\n\u001b[0;32m----> 1\u001b[0;31m \u001b[0mprint\u001b[0m\u001b[0;34m(\u001b[0m\u001b[0;34mf\"Best learning rate: {best_hps.get('learning_rate')}\"\u001b[0m\u001b[0;34m)\u001b[0m\u001b[0;34m\u001b[0m\u001b[0;34m\u001b[0m\u001b[0m\n\u001b[0m\u001b[1;32m      2\u001b[0m \u001b[0mprint\u001b[0m\u001b[0;34m(\u001b[0m\u001b[0;34mf\"Best output activation function: {best_hps.get('output_activation')}\"\u001b[0m\u001b[0;34m)\u001b[0m\u001b[0;34m\u001b[0m\u001b[0;34m\u001b[0m\u001b[0m\n\u001b[1;32m      3\u001b[0m \u001b[0mprint\u001b[0m\u001b[0;34m(\u001b[0m\u001b[0;34mf\"Best number of hidden layers: {best_hps.get('num_layers')}\"\u001b[0m\u001b[0;34m)\u001b[0m\u001b[0;34m\u001b[0m\u001b[0;34m\u001b[0m\u001b[0m\n\u001b[1;32m      4\u001b[0m \u001b[0;32mfor\u001b[0m \u001b[0mi\u001b[0m \u001b[0;32min\u001b[0m \u001b[0mrange\u001b[0m\u001b[0;34m(\u001b[0m\u001b[0mbest_hps\u001b[0m\u001b[0;34m.\u001b[0m\u001b[0mget\u001b[0m\u001b[0;34m(\u001b[0m\u001b[0;34m'num_layers'\u001b[0m\u001b[0;34m)\u001b[0m\u001b[0;34m)\u001b[0m\u001b[0;34m:\u001b[0m\u001b[0;34m\u001b[0m\u001b[0;34m\u001b[0m\u001b[0m\n\u001b[1;32m      5\u001b[0m     \u001b[0mprint\u001b[0m\u001b[0;34m(\u001b[0m\u001b[0;34mf\"Number of units of hidden layer {i+1}: {best_hps.get('units_' + str(i))}\"\u001b[0m\u001b[0;34m)\u001b[0m\u001b[0;34m\u001b[0m\u001b[0;34m\u001b[0m\u001b[0m\n",
            "\u001b[0;32m/usr/local/lib/python3.11/dist-packages/keras_tuner/src/engine/hyperparameters/hyperparameters.py\u001b[0m in \u001b[0;36mget\u001b[0;34m(self, name)\u001b[0m\n\u001b[1;32m    244\u001b[0m             \u001b[0;32mraise\u001b[0m \u001b[0mValueError\u001b[0m\u001b[0;34m(\u001b[0m\u001b[0;34mf\"{name} is currently inactive.\"\u001b[0m\u001b[0;34m)\u001b[0m\u001b[0;34m\u001b[0m\u001b[0;34m\u001b[0m\u001b[0m\n\u001b[1;32m    245\u001b[0m         \u001b[0;32melse\u001b[0m\u001b[0;34m:\u001b[0m\u001b[0;34m\u001b[0m\u001b[0;34m\u001b[0m\u001b[0m\n\u001b[0;32m--> 246\u001b[0;31m             \u001b[0;32mraise\u001b[0m \u001b[0mKeyError\u001b[0m\u001b[0;34m(\u001b[0m\u001b[0;34mf\"{name} does not exist.\"\u001b[0m\u001b[0;34m)\u001b[0m\u001b[0;34m\u001b[0m\u001b[0;34m\u001b[0m\u001b[0m\n\u001b[0m\u001b[1;32m    247\u001b[0m \u001b[0;34m\u001b[0m\u001b[0m\n\u001b[1;32m    248\u001b[0m     \u001b[0;32mdef\u001b[0m \u001b[0m__getitem__\u001b[0m\u001b[0;34m(\u001b[0m\u001b[0mself\u001b[0m\u001b[0;34m,\u001b[0m \u001b[0mname\u001b[0m\u001b[0;34m)\u001b[0m\u001b[0;34m:\u001b[0m\u001b[0;34m\u001b[0m\u001b[0;34m\u001b[0m\u001b[0m\n",
            "\u001b[0;31mKeyError\u001b[0m: 'learning_rate does not exist.'"
          ]
        }
      ],
      "source": [
        "print(f\"Best learning rate: {best_hps.get('learning_rate')}\")\n",
        "print(f\"Best output activation function: {best_hps.get('output_activation')}\")\n",
        "print(f\"Best number of hidden layers: {best_hps.get('num_layers')}\")\n",
        "for i in range(best_hps.get('num_layers')):\n",
        "    print(f\"Number of units of hidden layer {i+1}: {best_hps.get('units_' + str(i))}\")\n",
        "    #print(f\"Dropout rate of hidden layer {i+1}: {best_hps.get('dp_' + str(i))}\")"
      ]
    },
    {
      "cell_type": "code",
      "execution_count": null,
      "id": "8ef4f3df",
      "metadata": {
        "id": "8ef4f3df"
      },
      "outputs": [],
      "source": [
        "model = tuner.hypermodel.build(best_hps)\n",
        "history = model.fit(X_train_norm, y_train, epochs=50, validation_split=0.15, callbacks=[stop_early])"
      ]
    },
    {
      "cell_type": "code",
      "execution_count": null,
      "id": "a1f46fac",
      "metadata": {
        "id": "a1f46fac"
      },
      "outputs": [],
      "source": [
        "results = model.evaluate(X_test_norm, y_test, verbose=1)\n",
        "print('Test Loss: {}'.format(results[0]))"
      ]
    }
  ],
  "metadata": {
    "kernelspec": {
      "display_name": "Python 3 (ipykernel)",
      "language": "python",
      "name": "python3"
    },
    "language_info": {
      "codemirror_mode": {
        "name": "ipython",
        "version": 3
      },
      "file_extension": ".py",
      "mimetype": "text/x-python",
      "name": "python",
      "nbconvert_exporter": "python",
      "pygments_lexer": "ipython3",
      "version": "3.11.10"
    },
    "latex_envs": {
      "LaTeX_envs_menu_present": true,
      "autoclose": false,
      "autocomplete": true,
      "bibliofile": "biblio.bib",
      "cite_by": "apalike",
      "current_citInitial": 1,
      "eqLabelWithNumbers": true,
      "eqNumInitial": 1,
      "hotkeys": {
        "equation": "Ctrl-E",
        "itemize": "Ctrl-I"
      },
      "labels_anchors": false,
      "latex_user_defs": false,
      "report_style_numbering": false,
      "user_envs_cfg": false
    },
    "toc": {
      "base_numbering": 1,
      "nav_menu": {},
      "number_sections": true,
      "sideBar": true,
      "skip_h1_title": false,
      "title_cell": "Table of Contents",
      "title_sidebar": "Contents",
      "toc_cell": false,
      "toc_position": {},
      "toc_section_display": true,
      "toc_window_display": false
    },
    "colab": {
      "provenance": [],
      "include_colab_link": true
    }
  },
  "nbformat": 4,
  "nbformat_minor": 5
}